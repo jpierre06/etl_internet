{
 "cells": [
  {
   "cell_type": "code",
   "execution_count": null,
   "metadata": {},
   "outputs": [],
   "source": [
    "import time\n",
    "import json\n",
    "import requests\n",
    "import pandas as pd\n",
    "from pandas.io.json import json_normalize\n",
    "import numpy as np\n",
    "import os"
   ]
  },
  {
   "cell_type": "code",
   "execution_count": null,
   "metadata": {},
   "outputs": [],
   "source": [
    "from datetime import datetime"
   ]
  },
  {
   "cell_type": "code",
   "execution_count": null,
   "metadata": {},
   "outputs": [],
   "source": [
    "from pandas.io import sql\n",
    "from sqlalchemy import create_engine"
   ]
  },
  {
   "cell_type": "code",
   "execution_count": null,
   "metadata": {},
   "outputs": [],
   "source": [
    "path_notebook = os.getcwd()"
   ]
  },
  {
   "cell_type": "code",
   "execution_count": null,
   "metadata": {},
   "outputs": [],
   "source": [
    "#Inicio da execução do notebook\n",
    "start_general = datetime.now()"
   ]
  },
  {
   "cell_type": "code",
   "execution_count": null,
   "metadata": {},
   "outputs": [],
   "source": []
  },
  {
   "cell_type": "markdown",
   "metadata": {},
   "source": [
    "## Definir funções"
   ]
  },
  {
   "cell_type": "code",
   "execution_count": null,
   "metadata": {},
   "outputs": [],
   "source": [
    "def cadastrar_fonte_dados (nome_site, site_fonte_dados, nome_fonte_dados):\n",
    "    \n",
    "    fonte_dados = [[nome_site, site_fonte_dados, nome_fonte_dados]]\n",
    "\n",
    "    colunas = ['Nome_Site', 'Site_Fonte_Dados', 'Nome_Fonte_Dados']\n",
    "\n",
    "    fonte_dados = pd.DataFrame(fonte_dados, columns = colunas)\n",
    "\n",
    "    with engine.connect() as conn, conn.begin():\n",
    "        fonte_dados.to_sql('stg_Fonte_Dados', conn, if_exists='replace', index=False)\n",
    "\n",
    "\n",
    "    ## Executar procedure versionamento\n",
    "\n",
    "    conexao = engine.connect()\n",
    "\n",
    "    consulta_sql = \"CALL Stage.Versiona_stg_Fonte_Dados_Internet();\"\n",
    "\n",
    "    with engine.begin() as conn:\n",
    "        conn.execute(consulta_sql)\n",
    "\n",
    "\n",
    "    ## Deletar dados tabela stage\n",
    "\n",
    "    consulta_sql = \"\"\"\n",
    "        DELETE FROM Stage.stg_Fonte_Dados\n",
    "        WHERE TRUE;\n",
    "    \"\"\"\n",
    "\n",
    "    with engine.begin() as conn:\n",
    "        conn.execute(consulta_sql)\n",
    "\n",
    "    conexao.close()\n",
    "\n",
    "    ### Identificar ID Fonte de dados\n",
    "\n",
    "    conn = engine.connect()\n",
    "\n",
    "    consulta_sql = \"\"\"\n",
    "        SELECT id_Fonte_Dados\n",
    "        FROM Internet_db.Fonte_Dados_Internet\n",
    "        WHERE Site_Fonte_Dados = '\"\"\" +  url  + \"\"\"'\n",
    "\n",
    "    \"\"\"\n",
    "\n",
    "    with engine.begin() as conn:\n",
    "        result_query = conn.execute(consulta_sql).fetchall()\n",
    "\n",
    "    return result_query[0][0]"
   ]
  },
  {
   "cell_type": "code",
   "execution_count": null,
   "metadata": {},
   "outputs": [],
   "source": [
    "def consultar_fonte_dados(nome_site, site_fonte_dados, nome_fonte_dados):\n",
    "    \n",
    "    conn = engine.connect()\n",
    "\n",
    "    consulta_sql = \"\"\"\n",
    "        SELECT id_Fonte_Dados\n",
    "        FROM Internet_db.Fonte_Dados_Internet\n",
    "        WHERE Site_Fonte_Dados = '\"\"\" +  site_fonte_dados  + \"\"\"'\n",
    "\n",
    "    \"\"\"\n",
    "\n",
    "    with engine.begin() as conn:\n",
    "        result_query = conn.execute(consulta_sql).fetchall()\n",
    "\n",
    "\n",
    "    if len(result_query) != 0:\n",
    "        return result_query[0][0]\n",
    "\n",
    "    else:\n",
    "        print('Fonte de dados não está previamente cadastrada')\n",
    "        print('Fonte de dados será cadastrada agora')\n",
    "\n",
    "        return cadastrar_fonte_dados (nome_site, site_fonte_dados, nome_fonte_dados)"
   ]
  },
  {
   "cell_type": "code",
   "execution_count": null,
   "metadata": {},
   "outputs": [],
   "source": [
    "def inserir_dados_stg(nome_data_frame, nome_banco_tabela, nome_tabela, nome_banco_procedure, nome_procedure):\n",
    "\n",
    "    # Inserir dados tabela\n",
    "    with engine.connect() as conn, conn.begin():\n",
    "        nome_data_frame.to_sql(nome_tabela, conn, if_exists='replace', index=False)\n",
    "\n",
    "\n",
    "\n",
    "    ## Executar procedure versionamento\n",
    "    conexao = engine.connect()\n",
    "\n",
    "    consulta_sql = \"CALL \"  + nome_banco_procedure + \".\" + nome_procedure + \"();\"\n",
    "\n",
    "    with engine.begin() as conn:\n",
    "        conn.execute(consulta_sql)\n",
    "\n",
    "\n",
    "\n",
    "    ## Deletar dados tabela\n",
    "\n",
    "    consulta_sql = \"\"\"\n",
    "        DELETE FROM \"\"\" + nome_banco_tabela + \"\"\".\"\"\" + nome_tabela + \"\"\"\n",
    "        WHERE TRUE;\n",
    "    \"\"\"\n",
    "\n",
    "    with engine.begin() as conn:\n",
    "        conn.execute(consulta_sql)\n",
    "\n",
    "    conexao.close()"
   ]
  },
  {
   "cell_type": "code",
   "execution_count": null,
   "metadata": {},
   "outputs": [],
   "source": []
  },
  {
   "cell_type": "code",
   "execution_count": null,
   "metadata": {},
   "outputs": [],
   "source": []
  },
  {
   "cell_type": "markdown",
   "metadata": {},
   "source": [
    "## Criar conexão banco dados"
   ]
  },
  {
   "cell_type": "code",
   "execution_count": null,
   "metadata": {},
   "outputs": [],
   "source": [
    "#texto = open('/root/airflow/scripts/config/conexao_db.txt')\n",
    "texto = open('conexao_db.txt')\n",
    "conexao_db = texto.read()\n",
    "texto.close()"
   ]
  },
  {
   "cell_type": "code",
   "execution_count": null,
   "metadata": {},
   "outputs": [],
   "source": [
    "engine = create_engine(conexao_db, encoding='utf-8')"
   ]
  },
  {
   "cell_type": "code",
   "execution_count": null,
   "metadata": {},
   "outputs": [],
   "source": [
    "print(engine.table_names())"
   ]
  },
  {
   "cell_type": "code",
   "execution_count": null,
   "metadata": {},
   "outputs": [],
   "source": []
  },
  {
   "cell_type": "markdown",
   "metadata": {},
   "source": [
    "### Datas de vigências"
   ]
  },
  {
   "cell_type": "code",
   "execution_count": null,
   "metadata": {},
   "outputs": [],
   "source": [
    "data_inicio_vigencia = datetime.now().strftime('%Y-%m-%d')"
   ]
  },
  {
   "cell_type": "code",
   "execution_count": null,
   "metadata": {},
   "outputs": [],
   "source": [
    "data_fim_vigencia = '9999-12-31'"
   ]
  },
  {
   "cell_type": "code",
   "execution_count": null,
   "metadata": {},
   "outputs": [],
   "source": []
  },
  {
   "cell_type": "markdown",
   "metadata": {},
   "source": [
    "# Importar base de dados de países"
   ]
  },
  {
   "cell_type": "code",
   "execution_count": null,
   "metadata": {},
   "outputs": [],
   "source": [
    "#Realizar getURL no arquivo json\n",
    "url = 'https://servicodados.ibge.gov.br/api/v1/localidades/paises'\n",
    "r = requests.get(url)\n",
    "print (len(r.content))"
   ]
  },
  {
   "cell_type": "code",
   "execution_count": null,
   "metadata": {},
   "outputs": [],
   "source": [
    "#Importar arquivos\n",
    "paises = json.loads(r.content)\n",
    "data_extracao = datetime.now()"
   ]
  },
  {
   "cell_type": "code",
   "execution_count": null,
   "metadata": {},
   "outputs": [],
   "source": [
    "#converter json para data frame\n",
    "paises = json_normalize(paises)"
   ]
  },
  {
   "cell_type": "code",
   "execution_count": null,
   "metadata": {},
   "outputs": [],
   "source": []
  },
  {
   "cell_type": "markdown",
   "metadata": {},
   "source": [
    "### Identificar ID Fonte de dados"
   ]
  },
  {
   "cell_type": "code",
   "execution_count": null,
   "metadata": {},
   "outputs": [],
   "source": [
    "nome_site = 'IBGE'\n",
    "site_fonte_dados = url\n",
    "nome_fonte_dados = 'paises'"
   ]
  },
  {
   "cell_type": "code",
   "execution_count": null,
   "metadata": {},
   "outputs": [],
   "source": [
    "id_fonte_dados = consultar_fonte_dados(nome_site, site_fonte_dados, nome_fonte_dados)"
   ]
  },
  {
   "cell_type": "code",
   "execution_count": null,
   "metadata": {},
   "outputs": [],
   "source": [
    "print('id_fonte_dados:' , id_fonte_dados)"
   ]
  },
  {
   "cell_type": "code",
   "execution_count": null,
   "metadata": {},
   "outputs": [],
   "source": []
  },
  {
   "cell_type": "markdown",
   "metadata": {},
   "source": [
    "## Conversões"
   ]
  },
  {
   "cell_type": "code",
   "execution_count": null,
   "metadata": {},
   "outputs": [],
   "source": [
    "#renomear colunas\n",
    "paises = paises.rename(columns={\n",
    "    'id.M49':'id_Pais'\n",
    "    ,'nome':'nome_Pais'\n",
    "    ,'sigla':'sigla_Regiao'\n",
    "    ,'id.ISO-ALPHA-2' : 'ISO_Alpha_2'\n",
    "    ,'id.ISO-ALPHA-3' : 'ISO_Alpha_3'\n",
    "    ,'sub-regiao.id.M49' : 'id_Subregiao_Mundo'\n",
    "    ,'sub-regiao.nome' : 'nome_Subregiao_Mundo'\n",
    "    ,'sub-regiao.regiao.id.M49' : 'id_Regiao_Mundo'\n",
    "    ,'sub-regiao.regiao.nome' : 'nome_Regiao_Mundo'\n",
    "})"
   ]
  },
  {
   "cell_type": "code",
   "execution_count": null,
   "metadata": {},
   "outputs": [],
   "source": [
    "paises['Data_Extracao'] = data_extracao"
   ]
  },
  {
   "cell_type": "code",
   "execution_count": null,
   "metadata": {},
   "outputs": [],
   "source": [
    "paises['id_Fonte_Dados'] = id_fonte_dados"
   ]
  },
  {
   "cell_type": "code",
   "execution_count": null,
   "metadata": {},
   "outputs": [],
   "source": [
    "paises['Data_Inicio_Vigencia'] = data_inicio_vigencia"
   ]
  },
  {
   "cell_type": "code",
   "execution_count": null,
   "metadata": {},
   "outputs": [],
   "source": [
    "paises['Data_Fim_Vigencia'] = data_fim_vigencia"
   ]
  },
  {
   "cell_type": "code",
   "execution_count": null,
   "metadata": {},
   "outputs": [],
   "source": []
  },
  {
   "cell_type": "markdown",
   "metadata": {},
   "source": [
    "### Gerar informação de Região país"
   ]
  },
  {
   "cell_type": "code",
   "execution_count": null,
   "metadata": {},
   "outputs": [],
   "source": [
    "regiao_paises = paises.groupby([\n",
    "    'id_Fonte_Dados'\n",
    "    ,'id_Regiao_Mundo'\n",
    "    ,'nome_Regiao_Mundo'\n",
    "    ,'Data_Inicio_Vigencia'\n",
    "    ,'Data_Fim_Vigencia'\n",
    "]).size().reset_index()"
   ]
  },
  {
   "cell_type": "code",
   "execution_count": null,
   "metadata": {},
   "outputs": [],
   "source": [
    "regiao_paises['Data_Extracao'] = data_extracao"
   ]
  },
  {
   "cell_type": "code",
   "execution_count": null,
   "metadata": {},
   "outputs": [],
   "source": [
    "# Selecionar colunas\n",
    "regiao_paises = regiao_paises[[\n",
    "    'id_Fonte_Dados'\n",
    "    ,'id_Regiao_Mundo'\n",
    "    ,'nome_Regiao_Mundo'\n",
    "    ,'Data_Extracao'\n",
    "    ,'Data_Inicio_Vigencia'\n",
    "    ,'Data_Fim_Vigencia'    \n",
    "]]"
   ]
  },
  {
   "cell_type": "code",
   "execution_count": null,
   "metadata": {},
   "outputs": [],
   "source": []
  },
  {
   "cell_type": "markdown",
   "metadata": {},
   "source": [
    "### Inserir dados"
   ]
  },
  {
   "cell_type": "code",
   "execution_count": null,
   "metadata": {},
   "outputs": [],
   "source": [
    "inserir_dados_stg(regiao_paises, 'Stage', 'stg_Regiao_Mundo_IBGE', 'Stage', 'Versiona_stg_Regiao_Mundo_IBGE')"
   ]
  },
  {
   "cell_type": "code",
   "execution_count": null,
   "metadata": {},
   "outputs": [],
   "source": []
  },
  {
   "cell_type": "markdown",
   "metadata": {},
   "source": [
    "### Gerar informação de Subregião país"
   ]
  },
  {
   "cell_type": "code",
   "execution_count": null,
   "metadata": {},
   "outputs": [],
   "source": [
    "subregiao_paises = paises.groupby([\n",
    "    'id_Fonte_Dados'\n",
    "    ,'id_Subregiao_Mundo'\n",
    "    ,'nome_Subregiao_Mundo'\n",
    "    ,'Data_Inicio_Vigencia'\n",
    "    ,'Data_Fim_Vigencia'\n",
    "]).size().reset_index()"
   ]
  },
  {
   "cell_type": "code",
   "execution_count": null,
   "metadata": {},
   "outputs": [],
   "source": [
    "subregiao_paises['Data_Extracao'] = data_extracao"
   ]
  },
  {
   "cell_type": "code",
   "execution_count": null,
   "metadata": {},
   "outputs": [],
   "source": [
    "# Selecionar colunas\n",
    "subregiao_paises = subregiao_paises[[\n",
    "    'id_Fonte_Dados'\n",
    "    ,'id_Subregiao_Mundo'\n",
    "    ,'nome_Subregiao_Mundo'\n",
    "    ,'Data_Extracao'\n",
    "    ,'Data_Inicio_Vigencia'\n",
    "    ,'Data_Fim_Vigencia'    \n",
    "]]"
   ]
  },
  {
   "cell_type": "code",
   "execution_count": null,
   "metadata": {},
   "outputs": [],
   "source": []
  },
  {
   "cell_type": "markdown",
   "metadata": {},
   "source": [
    "### Inserir dados"
   ]
  },
  {
   "cell_type": "code",
   "execution_count": null,
   "metadata": {},
   "outputs": [],
   "source": [
    "inserir_dados_stg(subregiao_paises, 'Stage', 'stg_Subregiao_Mundo_IBGE', 'Stage', 'Versiona_stg_Subregiao_Mundo_IBGE')"
   ]
  },
  {
   "cell_type": "code",
   "execution_count": null,
   "metadata": {},
   "outputs": [],
   "source": []
  },
  {
   "cell_type": "markdown",
   "metadata": {},
   "source": [
    "### Gerar informação de País"
   ]
  },
  {
   "cell_type": "code",
   "execution_count": null,
   "metadata": {},
   "outputs": [],
   "source": [
    "# Selecionar colunas\n",
    "paises = paises[[\n",
    "    'id_Fonte_Dados'\n",
    "    ,'id_Regiao_Mundo'\n",
    "    ,'id_Subregiao_Mundo'\n",
    "    ,'id_Pais'\n",
    "    ,'nome_Pais'\n",
    "    ,'ISO_Alpha_2'\n",
    "    ,'ISO_Alpha_3'\n",
    "    ,'Data_Extracao'\n",
    "    ,'Data_Inicio_Vigencia'\n",
    "    ,'Data_Fim_Vigencia'\n",
    "]]"
   ]
  },
  {
   "cell_type": "code",
   "execution_count": null,
   "metadata": {},
   "outputs": [],
   "source": []
  },
  {
   "cell_type": "markdown",
   "metadata": {},
   "source": [
    "### Inserir dados"
   ]
  },
  {
   "cell_type": "code",
   "execution_count": null,
   "metadata": {},
   "outputs": [],
   "source": [
    "inserir_dados_stg(paises, 'Stage', 'stg_Pais_IBGE', 'Stage', 'Versiona_stg_Pais_IBGE')"
   ]
  },
  {
   "cell_type": "code",
   "execution_count": null,
   "metadata": {},
   "outputs": [],
   "source": []
  },
  {
   "cell_type": "markdown",
   "metadata": {},
   "source": [
    "# Importar base de dados de regiões"
   ]
  },
  {
   "cell_type": "code",
   "execution_count": null,
   "metadata": {},
   "outputs": [],
   "source": [
    "#Realizar getURL no arquivo json\n",
    "url = 'https://servicodados.ibge.gov.br/api/v1/localidades/regioes'\n",
    "r = requests.get(url)\n",
    "print (len(r.content))"
   ]
  },
  {
   "cell_type": "code",
   "execution_count": null,
   "metadata": {},
   "outputs": [],
   "source": [
    "#Importar arquivos\n",
    "regioes = json.loads(r.content)\n",
    "data_extracao = datetime.now()"
   ]
  },
  {
   "cell_type": "code",
   "execution_count": null,
   "metadata": {},
   "outputs": [],
   "source": [
    "#converter json para data frame\n",
    "regioes = json_normalize(regioes)"
   ]
  },
  {
   "cell_type": "code",
   "execution_count": null,
   "metadata": {},
   "outputs": [],
   "source": []
  },
  {
   "cell_type": "markdown",
   "metadata": {},
   "source": [
    "### Identificar ID Fonte de dados"
   ]
  },
  {
   "cell_type": "code",
   "execution_count": null,
   "metadata": {},
   "outputs": [],
   "source": [
    "nome_site = 'IBGE'\n",
    "site_fonte_dados = url\n",
    "nome_fonte_dados = 'regioes'"
   ]
  },
  {
   "cell_type": "code",
   "execution_count": null,
   "metadata": {},
   "outputs": [],
   "source": [
    "id_fonte_dados = consultar_fonte_dados(nome_site, site_fonte_dados, nome_fonte_dados)"
   ]
  },
  {
   "cell_type": "code",
   "execution_count": null,
   "metadata": {},
   "outputs": [],
   "source": [
    "print('id_fonte_dados:' , id_fonte_dados)"
   ]
  },
  {
   "cell_type": "code",
   "execution_count": null,
   "metadata": {},
   "outputs": [],
   "source": []
  },
  {
   "cell_type": "code",
   "execution_count": null,
   "metadata": {},
   "outputs": [],
   "source": [
    "#renomear colunas\n",
    "regioes = regioes.rename(columns={'id':'id_Regiao', 'nome':'nome_Regiao', 'sigla':'sigla_Regiao'})"
   ]
  },
  {
   "cell_type": "code",
   "execution_count": null,
   "metadata": {},
   "outputs": [],
   "source": [
    "regioes['Data_Extracao'] = data_extracao"
   ]
  },
  {
   "cell_type": "code",
   "execution_count": null,
   "metadata": {},
   "outputs": [],
   "source": [
    "regioes['id_Fonte_Dados'] = id_fonte_dados"
   ]
  },
  {
   "cell_type": "code",
   "execution_count": null,
   "metadata": {},
   "outputs": [],
   "source": [
    "regioes['Data_Inicio_Vigencia'] = data_inicio_vigencia"
   ]
  },
  {
   "cell_type": "code",
   "execution_count": null,
   "metadata": {},
   "outputs": [],
   "source": [
    "regioes['Data_Fim_Vigencia'] = data_fim_vigencia"
   ]
  },
  {
   "cell_type": "code",
   "execution_count": null,
   "metadata": {},
   "outputs": [],
   "source": [
    "regioes['Data_Extracao'] = data_extracao"
   ]
  },
  {
   "cell_type": "code",
   "execution_count": null,
   "metadata": {},
   "outputs": [],
   "source": [
    "# Selecionar colunas\n",
    "regioes = regioes[[\n",
    "    'id_Fonte_Dados'\n",
    "    ,'id_Regiao'\n",
    "    ,'sigla_Regiao'\n",
    "    ,'nome_Regiao'\n",
    "    ,'Data_Extracao'\n",
    "    ,'Data_Inicio_Vigencia'\n",
    "    ,'Data_Fim_Vigencia'\n",
    "]]"
   ]
  },
  {
   "cell_type": "code",
   "execution_count": null,
   "metadata": {},
   "outputs": [],
   "source": []
  },
  {
   "cell_type": "markdown",
   "metadata": {},
   "source": [
    "### Inserir dados"
   ]
  },
  {
   "cell_type": "code",
   "execution_count": null,
   "metadata": {},
   "outputs": [],
   "source": [
    "inserir_dados_stg(regioes, 'Stage', 'stg_Regiao_IBGE', 'Stage', 'Versiona_stg_Regiao_IBGE')"
   ]
  },
  {
   "cell_type": "code",
   "execution_count": null,
   "metadata": {},
   "outputs": [],
   "source": []
  },
  {
   "cell_type": "markdown",
   "metadata": {},
   "source": [
    "# Importar base de dados de estados"
   ]
  },
  {
   "cell_type": "code",
   "execution_count": null,
   "metadata": {},
   "outputs": [],
   "source": [
    "#Realizar getURL no arquivo json\n",
    "url = 'https://servicodados.ibge.gov.br/api/v1/localidades/estados'\n",
    "r = requests.get(url)\n",
    "print (len(r.content))"
   ]
  },
  {
   "cell_type": "code",
   "execution_count": null,
   "metadata": {},
   "outputs": [],
   "source": [
    "#Importar arquivos\n",
    "estados = json.loads(r.content)\n",
    "data_extracao = datetime.now()"
   ]
  },
  {
   "cell_type": "code",
   "execution_count": null,
   "metadata": {},
   "outputs": [],
   "source": [
    "#converter json para data frame\n",
    "estados = json_normalize(estados)"
   ]
  },
  {
   "cell_type": "markdown",
   "metadata": {},
   "source": [
    "### Identificar ID Fonte de dados"
   ]
  },
  {
   "cell_type": "code",
   "execution_count": null,
   "metadata": {},
   "outputs": [],
   "source": [
    "nome_site = 'IBGE'\n",
    "site_fonte_dados = url\n",
    "nome_fonte_dados = 'estados'"
   ]
  },
  {
   "cell_type": "code",
   "execution_count": null,
   "metadata": {},
   "outputs": [],
   "source": [
    "id_fonte_dados = consultar_fonte_dados(nome_site, site_fonte_dados, nome_fonte_dados)"
   ]
  },
  {
   "cell_type": "code",
   "execution_count": null,
   "metadata": {},
   "outputs": [],
   "source": [
    "print('id_fonte_dados:' , id_fonte_dados)"
   ]
  },
  {
   "cell_type": "code",
   "execution_count": null,
   "metadata": {},
   "outputs": [],
   "source": []
  },
  {
   "cell_type": "code",
   "execution_count": null,
   "metadata": {},
   "outputs": [],
   "source": [
    "#renomear colunas\n",
    "estados = estados.rename(columns={'id':'id_Estado', 'nome':'nome_Estado', 'sigla':'sigla_Estado', 'regiao.id':'id_Regiao'})"
   ]
  },
  {
   "cell_type": "code",
   "execution_count": null,
   "metadata": {},
   "outputs": [],
   "source": [
    "estados['id_Fonte_Dados'] = id_fonte_dados"
   ]
  },
  {
   "cell_type": "code",
   "execution_count": null,
   "metadata": {},
   "outputs": [],
   "source": [
    "estados['Data_Extracao'] = data_extracao"
   ]
  },
  {
   "cell_type": "code",
   "execution_count": null,
   "metadata": {},
   "outputs": [],
   "source": [
    "estados['Data_Inicio_Vigencia'] = data_inicio_vigencia"
   ]
  },
  {
   "cell_type": "code",
   "execution_count": null,
   "metadata": {},
   "outputs": [],
   "source": [
    "estados['Data_Fim_Vigencia'] = data_fim_vigencia"
   ]
  },
  {
   "cell_type": "code",
   "execution_count": null,
   "metadata": {},
   "outputs": [],
   "source": [
    "# Selecionar colunas\n",
    "estados = estados[[\n",
    "    'id_Fonte_Dados'\n",
    "    ,'id_Estado'\n",
    "    ,'id_Regiao'\n",
    "    ,'sigla_Estado'\n",
    "    ,'nome_Estado'\n",
    "    ,'Data_Extracao'\n",
    "    ,'Data_Inicio_Vigencia'\n",
    "    ,'Data_Fim_Vigencia'\n",
    "]]"
   ]
  },
  {
   "cell_type": "code",
   "execution_count": null,
   "metadata": {},
   "outputs": [],
   "source": []
  },
  {
   "cell_type": "markdown",
   "metadata": {},
   "source": [
    "### Inserir dados"
   ]
  },
  {
   "cell_type": "code",
   "execution_count": null,
   "metadata": {},
   "outputs": [],
   "source": [
    "inserir_dados_stg(estados, 'Stage', 'stg_Estado_IBGE', 'Stage', 'Versiona_stg_Estado_IBGE')"
   ]
  },
  {
   "cell_type": "code",
   "execution_count": null,
   "metadata": {},
   "outputs": [],
   "source": []
  },
  {
   "cell_type": "markdown",
   "metadata": {},
   "source": [
    "# Importar base de dados de Mesoregião"
   ]
  },
  {
   "cell_type": "code",
   "execution_count": null,
   "metadata": {},
   "outputs": [],
   "source": [
    "#Realizar getURL no arquivo json\n",
    "url = 'https://servicodados.ibge.gov.br/api/v1/localidades/mesorregioes'\n",
    "r = requests.get(url)\n",
    "print (len(r.content))"
   ]
  },
  {
   "cell_type": "code",
   "execution_count": null,
   "metadata": {},
   "outputs": [],
   "source": [
    "#Importar arquivos\n",
    "mesoregicao = json.loads(r.content)\n",
    "data_extracao = datetime.now()"
   ]
  },
  {
   "cell_type": "code",
   "execution_count": null,
   "metadata": {},
   "outputs": [],
   "source": [
    "#converter json para data frame\n",
    "mesoregicao = json_normalize(mesoregicao)"
   ]
  },
  {
   "cell_type": "code",
   "execution_count": null,
   "metadata": {},
   "outputs": [],
   "source": []
  },
  {
   "cell_type": "markdown",
   "metadata": {},
   "source": [
    "### Identificar ID Fonte de dados"
   ]
  },
  {
   "cell_type": "code",
   "execution_count": null,
   "metadata": {},
   "outputs": [],
   "source": [
    "nome_site = 'IBGE'\n",
    "site_fonte_dados = url\n",
    "nome_fonte_dados = 'mesorregioes'"
   ]
  },
  {
   "cell_type": "code",
   "execution_count": null,
   "metadata": {},
   "outputs": [],
   "source": [
    "id_fonte_dados = consultar_fonte_dados(nome_site, site_fonte_dados, nome_fonte_dados)"
   ]
  },
  {
   "cell_type": "code",
   "execution_count": null,
   "metadata": {},
   "outputs": [],
   "source": [
    "print('id_fonte_dados:' , id_fonte_dados)"
   ]
  },
  {
   "cell_type": "code",
   "execution_count": null,
   "metadata": {},
   "outputs": [],
   "source": []
  },
  {
   "cell_type": "code",
   "execution_count": null,
   "metadata": {},
   "outputs": [],
   "source": [
    "#renomear colunas\n",
    "mesoregicao = mesoregicao.rename(columns={'id':'id_Mesoregiao', 'nome':'nome_Mesoregiao', 'UF.id':'id_Estado', 'UF.regiao.id':'id_Regiao'})"
   ]
  },
  {
   "cell_type": "code",
   "execution_count": null,
   "metadata": {},
   "outputs": [],
   "source": [
    "mesoregicao['id_Fonte_Dados'] = id_fonte_dados"
   ]
  },
  {
   "cell_type": "code",
   "execution_count": null,
   "metadata": {},
   "outputs": [],
   "source": [
    "mesoregicao['Data_Extracao'] = data_extracao"
   ]
  },
  {
   "cell_type": "code",
   "execution_count": null,
   "metadata": {},
   "outputs": [],
   "source": [
    "mesoregicao['Data_Inicio_Vigencia'] = data_inicio_vigencia"
   ]
  },
  {
   "cell_type": "code",
   "execution_count": null,
   "metadata": {},
   "outputs": [],
   "source": [
    "mesoregicao['Data_Fim_Vigencia'] = data_fim_vigencia"
   ]
  },
  {
   "cell_type": "code",
   "execution_count": null,
   "metadata": {},
   "outputs": [],
   "source": [
    "# Selecionar colunas\n",
    "mesoregicao = mesoregicao[[\n",
    "    'id_Fonte_Dados'\n",
    "    ,'id_Mesoregiao'\n",
    "    ,'id_Estado'\n",
    "    ,'id_Regiao'\n",
    "    ,'nome_Mesoregiao'\n",
    "    ,'Data_Extracao'\n",
    "    ,'Data_Inicio_Vigencia'\n",
    "    ,'Data_Fim_Vigencia'\n",
    "]]"
   ]
  },
  {
   "cell_type": "code",
   "execution_count": null,
   "metadata": {},
   "outputs": [],
   "source": []
  },
  {
   "cell_type": "markdown",
   "metadata": {},
   "source": [
    "### Inserir dados"
   ]
  },
  {
   "cell_type": "code",
   "execution_count": null,
   "metadata": {},
   "outputs": [],
   "source": [
    "inserir_dados_stg(mesoregicao, 'Stage', 'stg_Mesoregiao_IBGE', 'Stage', 'Versiona_stg_Mesoregiao_IBGE')"
   ]
  },
  {
   "cell_type": "code",
   "execution_count": null,
   "metadata": {},
   "outputs": [],
   "source": []
  },
  {
   "cell_type": "markdown",
   "metadata": {},
   "source": [
    "# Importar base de dados de Microregião"
   ]
  },
  {
   "cell_type": "code",
   "execution_count": null,
   "metadata": {},
   "outputs": [],
   "source": [
    "#Realizar getURL no arquivo json\n",
    "url = 'https://servicodados.ibge.gov.br/api/v1/localidades/microrregioes'\n",
    "r = requests.get(url)\n",
    "print (len(r.content))"
   ]
  },
  {
   "cell_type": "code",
   "execution_count": null,
   "metadata": {},
   "outputs": [],
   "source": [
    "#Importar arquivos\n",
    "microregiao = json.loads(r.content)\n",
    "data_extracao = datetime.now()"
   ]
  },
  {
   "cell_type": "code",
   "execution_count": null,
   "metadata": {},
   "outputs": [],
   "source": [
    "#converter json para data frame\n",
    "microregiao = json_normalize(microregiao)"
   ]
  },
  {
   "cell_type": "code",
   "execution_count": null,
   "metadata": {},
   "outputs": [],
   "source": []
  },
  {
   "cell_type": "markdown",
   "metadata": {},
   "source": [
    "### Identificar ID Fonte de dados"
   ]
  },
  {
   "cell_type": "code",
   "execution_count": null,
   "metadata": {},
   "outputs": [],
   "source": [
    "nome_site = 'IBGE'\n",
    "site_fonte_dados = url\n",
    "nome_fonte_dados = 'microrregioes'"
   ]
  },
  {
   "cell_type": "code",
   "execution_count": null,
   "metadata": {},
   "outputs": [],
   "source": [
    "id_fonte_dados = consultar_fonte_dados(nome_site, site_fonte_dados, nome_fonte_dados)"
   ]
  },
  {
   "cell_type": "code",
   "execution_count": null,
   "metadata": {},
   "outputs": [],
   "source": [
    "print('id_fonte_dados:' , id_fonte_dados)"
   ]
  },
  {
   "cell_type": "code",
   "execution_count": null,
   "metadata": {},
   "outputs": [],
   "source": []
  },
  {
   "cell_type": "code",
   "execution_count": null,
   "metadata": {},
   "outputs": [],
   "source": [
    "#renomear colunas\n",
    "microregiao = microregiao.rename(columns={\n",
    "    'id':'id_Microregiao'\n",
    "    , 'nome':'nome_Microregiao'\n",
    "    , 'mesorregiao.id':'id_Mesoregiao'\n",
    "    , 'mesorregiao.UF.id':'id_Estado'\n",
    "    , 'mesorregiao.UF.regiao.id':'id_Regiao'\n",
    "})"
   ]
  },
  {
   "cell_type": "code",
   "execution_count": null,
   "metadata": {},
   "outputs": [],
   "source": [
    "microregiao['id_Fonte_Dados'] = id_fonte_dados"
   ]
  },
  {
   "cell_type": "code",
   "execution_count": null,
   "metadata": {},
   "outputs": [],
   "source": [
    "microregiao['Data_Extracao'] = data_extracao"
   ]
  },
  {
   "cell_type": "code",
   "execution_count": null,
   "metadata": {},
   "outputs": [],
   "source": [
    "microregiao['Data_Inicio_Vigencia'] = data_inicio_vigencia"
   ]
  },
  {
   "cell_type": "code",
   "execution_count": null,
   "metadata": {},
   "outputs": [],
   "source": [
    "microregiao['Data_Fim_Vigencia'] = data_fim_vigencia"
   ]
  },
  {
   "cell_type": "code",
   "execution_count": null,
   "metadata": {},
   "outputs": [],
   "source": [
    "# Selecionar colunas\n",
    "microregiao = microregiao[[\n",
    "    'id_Fonte_Dados'\n",
    "    ,'id_Microregiao'\n",
    "    ,'id_Mesoregiao'\n",
    "    ,'id_Estado'\n",
    "    ,'id_Regiao'\n",
    "    ,'nome_Microregiao'\n",
    "    ,'Data_Extracao'\n",
    "    ,'Data_Inicio_Vigencia'\n",
    "    ,'Data_Fim_Vigencia'\n",
    "]]"
   ]
  },
  {
   "cell_type": "code",
   "execution_count": null,
   "metadata": {},
   "outputs": [],
   "source": []
  },
  {
   "cell_type": "markdown",
   "metadata": {},
   "source": [
    "### Inserir dados"
   ]
  },
  {
   "cell_type": "code",
   "execution_count": null,
   "metadata": {},
   "outputs": [],
   "source": [
    "inserir_dados_stg(microregiao, 'Stage', 'stg_Microregicao_IBGE', 'Stage', 'Versiona_stg_Microregicao_IBGE')"
   ]
  },
  {
   "cell_type": "code",
   "execution_count": null,
   "metadata": {},
   "outputs": [],
   "source": []
  },
  {
   "cell_type": "markdown",
   "metadata": {},
   "source": [
    "# Importar base de dados de Região intermediaria"
   ]
  },
  {
   "cell_type": "code",
   "execution_count": null,
   "metadata": {},
   "outputs": [],
   "source": [
    "#Realizar getURL no arquivo json\n",
    "url = 'https://servicodados.ibge.gov.br/api/v1/localidades/regioes-intermediarias'\n",
    "r = requests.get(url)\n",
    "print (len(r.content))"
   ]
  },
  {
   "cell_type": "code",
   "execution_count": null,
   "metadata": {},
   "outputs": [],
   "source": [
    "#Importar arquivos\n",
    "regiao_intermediaria = json.loads(r.content)\n",
    "data_extracao = datetime.now()"
   ]
  },
  {
   "cell_type": "code",
   "execution_count": null,
   "metadata": {},
   "outputs": [],
   "source": [
    "#converter json para data frame\n",
    "regiao_intermediaria = json_normalize(regiao_intermediaria)"
   ]
  },
  {
   "cell_type": "code",
   "execution_count": null,
   "metadata": {},
   "outputs": [],
   "source": []
  },
  {
   "cell_type": "markdown",
   "metadata": {},
   "source": [
    "### Identificar ID Fonte de dados"
   ]
  },
  {
   "cell_type": "code",
   "execution_count": null,
   "metadata": {},
   "outputs": [],
   "source": [
    "nome_site = 'IBGE'\n",
    "site_fonte_dados = url\n",
    "nome_fonte_dados = 'regioes-intermediarias'"
   ]
  },
  {
   "cell_type": "code",
   "execution_count": null,
   "metadata": {},
   "outputs": [],
   "source": [
    "id_fonte_dados = consultar_fonte_dados(nome_site, site_fonte_dados, nome_fonte_dados)"
   ]
  },
  {
   "cell_type": "code",
   "execution_count": null,
   "metadata": {},
   "outputs": [],
   "source": [
    "print('id_fonte_dados:' , id_fonte_dados)"
   ]
  },
  {
   "cell_type": "code",
   "execution_count": null,
   "metadata": {},
   "outputs": [],
   "source": []
  },
  {
   "cell_type": "code",
   "execution_count": null,
   "metadata": {},
   "outputs": [],
   "source": [
    "#renomear colunas\n",
    "regiao_intermediaria = regiao_intermediaria.rename(columns={\n",
    "    'id':'id_Regiao_Intermediaria'\n",
    "    , 'nome':'nome_Regiao_Intermediaria'\n",
    "    , 'UF.id':'id_Estado'\n",
    "    , 'UF.regiao.id':'id_Regiao'\n",
    "})"
   ]
  },
  {
   "cell_type": "code",
   "execution_count": null,
   "metadata": {},
   "outputs": [],
   "source": [
    "regiao_intermediaria['id_Fonte_Dados'] = id_fonte_dados"
   ]
  },
  {
   "cell_type": "code",
   "execution_count": null,
   "metadata": {},
   "outputs": [],
   "source": [
    "regiao_intermediaria['Data_Extracao'] = data_extracao"
   ]
  },
  {
   "cell_type": "code",
   "execution_count": null,
   "metadata": {},
   "outputs": [],
   "source": [
    "regiao_intermediaria['Data_Inicio_Vigencia'] = data_inicio_vigencia"
   ]
  },
  {
   "cell_type": "code",
   "execution_count": null,
   "metadata": {},
   "outputs": [],
   "source": [
    "regiao_intermediaria['Data_Fim_Vigencia'] = data_fim_vigencia"
   ]
  },
  {
   "cell_type": "code",
   "execution_count": null,
   "metadata": {},
   "outputs": [],
   "source": [
    "# Selecionar colunas\n",
    "regiao_intermediaria = regiao_intermediaria[[\n",
    "    'id_Fonte_Dados'\n",
    "    ,'id_Regiao_Intermediaria'\n",
    "    ,'id_Estado'\n",
    "    ,'id_Regiao'\n",
    "    ,'nome_Regiao_Intermediaria'\n",
    "    ,'Data_Extracao'\n",
    "    ,'Data_Inicio_Vigencia'\n",
    "    ,'Data_Fim_Vigencia'\n",
    "]]"
   ]
  },
  {
   "cell_type": "code",
   "execution_count": null,
   "metadata": {},
   "outputs": [],
   "source": []
  },
  {
   "cell_type": "markdown",
   "metadata": {},
   "source": [
    "### Inserir dados"
   ]
  },
  {
   "cell_type": "code",
   "execution_count": null,
   "metadata": {},
   "outputs": [],
   "source": [
    "inserir_dados_stg(regiao_intermediaria, 'Stage', 'stg_Regiao_Intermediaria_IBGE', 'Stage', 'Versiona_stg_Regiao_Intermediaria_IBGE')"
   ]
  },
  {
   "cell_type": "code",
   "execution_count": null,
   "metadata": {},
   "outputs": [],
   "source": []
  },
  {
   "cell_type": "markdown",
   "metadata": {},
   "source": [
    "# Importar base de dados de Região imediata"
   ]
  },
  {
   "cell_type": "code",
   "execution_count": null,
   "metadata": {},
   "outputs": [],
   "source": [
    "#Realizar getURL no arquivo json\n",
    "url = 'https://servicodados.ibge.gov.br/api/v1/localidades/regioes-imediatas'\n",
    "r = requests.get(url)\n",
    "print (len(r.content))"
   ]
  },
  {
   "cell_type": "code",
   "execution_count": null,
   "metadata": {},
   "outputs": [],
   "source": [
    "#Importar arquivos\n",
    "regiao_imediatas = json.loads(r.content)\n",
    "data_extracao = datetime.now()"
   ]
  },
  {
   "cell_type": "code",
   "execution_count": null,
   "metadata": {},
   "outputs": [],
   "source": [
    "#converter json para data frame\n",
    "regiao_imediatas = json_normalize(regiao_imediatas)"
   ]
  },
  {
   "cell_type": "code",
   "execution_count": null,
   "metadata": {},
   "outputs": [],
   "source": []
  },
  {
   "cell_type": "markdown",
   "metadata": {},
   "source": [
    "### Identificar ID Fonte de dados"
   ]
  },
  {
   "cell_type": "code",
   "execution_count": null,
   "metadata": {},
   "outputs": [],
   "source": [
    "nome_site = 'IBGE'\n",
    "site_fonte_dados = url\n",
    "nome_fonte_dados = 'regioes-imediatas'"
   ]
  },
  {
   "cell_type": "code",
   "execution_count": null,
   "metadata": {},
   "outputs": [],
   "source": [
    "id_fonte_dados = consultar_fonte_dados(nome_site, site_fonte_dados, nome_fonte_dados)"
   ]
  },
  {
   "cell_type": "code",
   "execution_count": null,
   "metadata": {},
   "outputs": [],
   "source": [
    "print('id_fonte_dados:' , id_fonte_dados)"
   ]
  },
  {
   "cell_type": "code",
   "execution_count": null,
   "metadata": {},
   "outputs": [],
   "source": []
  },
  {
   "cell_type": "code",
   "execution_count": null,
   "metadata": {},
   "outputs": [],
   "source": [
    "#renomear colunas\n",
    "regiao_imediatas = regiao_imediatas.rename(columns={\n",
    "    'id':'id_Regiao_Imediata'\n",
    "    , 'nome':'nome_Regiao_Imediata'\n",
    "    , 'regiao-intermediaria.id':'id_Regiao_Intermediaria'\n",
    "    , 'regiao-intermediaria.UF.id':'id_Estado'\n",
    "    , 'regiao-intermediaria.UF.regiao.id':'id_Regiao'\n",
    "})"
   ]
  },
  {
   "cell_type": "code",
   "execution_count": null,
   "metadata": {},
   "outputs": [],
   "source": [
    "regiao_imediatas['id_Fonte_Dados'] = id_fonte_dados"
   ]
  },
  {
   "cell_type": "code",
   "execution_count": null,
   "metadata": {},
   "outputs": [],
   "source": [
    "regiao_imediatas['Data_Extracao'] = data_extracao"
   ]
  },
  {
   "cell_type": "code",
   "execution_count": null,
   "metadata": {},
   "outputs": [],
   "source": [
    "regiao_imediatas['Data_Inicio_Vigencia'] = data_inicio_vigencia"
   ]
  },
  {
   "cell_type": "code",
   "execution_count": null,
   "metadata": {},
   "outputs": [],
   "source": [
    "regiao_imediatas['Data_Fim_Vigencia'] = data_fim_vigencia"
   ]
  },
  {
   "cell_type": "code",
   "execution_count": null,
   "metadata": {},
   "outputs": [],
   "source": [
    "# Selecionar colunas\n",
    "regiao_imediatas = regiao_imediatas[[\n",
    "    'id_Fonte_Dados'\n",
    "    ,'id_Regiao_Imediata'\n",
    "    ,'id_Regiao_Intermediaria'\n",
    "    ,'id_Estado'\n",
    "    ,'id_Regiao'\n",
    "    ,'nome_Regiao_Imediata'\n",
    "    ,'Data_Extracao'\n",
    "    ,'Data_Inicio_Vigencia'\n",
    "    ,'Data_Fim_Vigencia'\n",
    "]]"
   ]
  },
  {
   "cell_type": "code",
   "execution_count": null,
   "metadata": {},
   "outputs": [],
   "source": []
  },
  {
   "cell_type": "markdown",
   "metadata": {},
   "source": [
    "### Inserir dados"
   ]
  },
  {
   "cell_type": "code",
   "execution_count": null,
   "metadata": {},
   "outputs": [],
   "source": [
    "inserir_dados_stg(regiao_imediatas, 'Stage', 'stg_Regiao_Imediata_IBGE', 'Stage', 'Versiona_stg_Regiao_Imediata_IBGE')"
   ]
  },
  {
   "cell_type": "code",
   "execution_count": null,
   "metadata": {},
   "outputs": [],
   "source": []
  },
  {
   "cell_type": "markdown",
   "metadata": {},
   "source": [
    "# Importar base de dados de municípios"
   ]
  },
  {
   "cell_type": "code",
   "execution_count": null,
   "metadata": {},
   "outputs": [],
   "source": [
    "#Realizar getURL no arquivo json\n",
    "url = 'https://servicodados.ibge.gov.br/api/v1/localidades/municipios'\n",
    "r = requests.get(url)\n",
    "print (len(r.content))"
   ]
  },
  {
   "cell_type": "code",
   "execution_count": null,
   "metadata": {},
   "outputs": [],
   "source": [
    "#Importar arquivos\n",
    "municipios = json.loads(r.content)\n",
    "data_extracao = datetime.now()"
   ]
  },
  {
   "cell_type": "code",
   "execution_count": null,
   "metadata": {},
   "outputs": [],
   "source": [
    "#converter json para data frame\n",
    "municipios = json_normalize(municipios)"
   ]
  },
  {
   "cell_type": "code",
   "execution_count": null,
   "metadata": {},
   "outputs": [],
   "source": []
  },
  {
   "cell_type": "markdown",
   "metadata": {},
   "source": [
    "### Identificar ID Fonte de dados"
   ]
  },
  {
   "cell_type": "code",
   "execution_count": null,
   "metadata": {},
   "outputs": [],
   "source": [
    "nome_site = 'IBGE'\n",
    "site_fonte_dados = url\n",
    "nome_fonte_dados = 'municipios'"
   ]
  },
  {
   "cell_type": "code",
   "execution_count": null,
   "metadata": {},
   "outputs": [],
   "source": [
    "id_fonte_dados = consultar_fonte_dados(nome_site, site_fonte_dados, nome_fonte_dados)"
   ]
  },
  {
   "cell_type": "code",
   "execution_count": null,
   "metadata": {},
   "outputs": [],
   "source": [
    "print('id_fonte_dados:' , id_fonte_dados)"
   ]
  },
  {
   "cell_type": "code",
   "execution_count": null,
   "metadata": {},
   "outputs": [],
   "source": []
  },
  {
   "cell_type": "code",
   "execution_count": null,
   "metadata": {},
   "outputs": [],
   "source": [
    "#renomear colunas\n",
    "municipios = municipios.rename(columns={\n",
    "    'id':'id_Municipio'\n",
    "    ,'nome':'nome_Municipio'\n",
    "    ,'microrregiao.mesorregiao.UF.id':'id_Estado'\n",
    "    ,'microrregiao.mesorregiao.UF.regiao.id':'id_Regiao'\n",
    "    ,'microrregiao.mesorregiao.id' : 'id_Mesoregiao'\n",
    "    ,'regiao-imediata.id' : 'id_Regiao_Imediata'\n",
    "    ,'regiao-imediata.regiao-intermediaria.id' : 'id_Regiao_Intermediaria'\n",
    "    ,'microrregiao.id' : 'id_Microregiao'\n",
    "})"
   ]
  },
  {
   "cell_type": "code",
   "execution_count": null,
   "metadata": {},
   "outputs": [],
   "source": [
    "municipios['id_Fonte_Dados'] = id_fonte_dados"
   ]
  },
  {
   "cell_type": "code",
   "execution_count": null,
   "metadata": {},
   "outputs": [],
   "source": [
    "municipios['Data_Extracao'] = data_extracao"
   ]
  },
  {
   "cell_type": "code",
   "execution_count": null,
   "metadata": {},
   "outputs": [],
   "source": [
    "municipios['Data_Inicio_Vigencia'] = data_inicio_vigencia"
   ]
  },
  {
   "cell_type": "code",
   "execution_count": null,
   "metadata": {},
   "outputs": [],
   "source": [
    "municipios['Data_Fim_Vigencia'] = data_fim_vigencia"
   ]
  },
  {
   "cell_type": "code",
   "execution_count": null,
   "metadata": {},
   "outputs": [],
   "source": [
    "# Selecionar colunas\n",
    "municipios = municipios[[\n",
    "    'id_Fonte_Dados'\n",
    "    ,'id_Regiao'\n",
    "    ,'id_Estado'\n",
    "    ,'id_Mesoregiao'\n",
    "    ,'id_Microregiao'\n",
    "    ,'id_Regiao_Imediata'\n",
    "    ,'id_Regiao_Intermediaria'\n",
    "    ,'id_Municipio'\n",
    "    ,'nome_Municipio'\n",
    "    ,'Data_Extracao'\n",
    "    ,'Data_Inicio_Vigencia'\n",
    "    ,'Data_Fim_Vigencia'\n",
    "]]"
   ]
  },
  {
   "cell_type": "code",
   "execution_count": null,
   "metadata": {},
   "outputs": [],
   "source": []
  },
  {
   "cell_type": "markdown",
   "metadata": {},
   "source": [
    "### Inserir dados"
   ]
  },
  {
   "cell_type": "code",
   "execution_count": null,
   "metadata": {},
   "outputs": [],
   "source": [
    "inserir_dados_stg(municipios, 'Stage', 'stg_Municipio_IBGE', 'Stage', 'Versiona_stg_Municipio_IBGE')"
   ]
  },
  {
   "cell_type": "code",
   "execution_count": null,
   "metadata": {},
   "outputs": [],
   "source": []
  },
  {
   "cell_type": "markdown",
   "metadata": {},
   "source": [
    "# Importar base de dados de distrito"
   ]
  },
  {
   "cell_type": "code",
   "execution_count": null,
   "metadata": {},
   "outputs": [],
   "source": [
    "#Realizar getURL no arquivo json\n",
    "url = 'https://servicodados.ibge.gov.br/api/v1/localidades/distritos'\n",
    "r = requests.get(url)\n",
    "print (len(r.content))"
   ]
  },
  {
   "cell_type": "code",
   "execution_count": null,
   "metadata": {},
   "outputs": [],
   "source": [
    "#Importar arquivos\n",
    "distritos = json.loads(r.content)\n",
    "data_extracao = datetime.now()"
   ]
  },
  {
   "cell_type": "code",
   "execution_count": null,
   "metadata": {},
   "outputs": [],
   "source": [
    "#converter json para data frame\n",
    "distritos = json_normalize(distritos)"
   ]
  },
  {
   "cell_type": "code",
   "execution_count": null,
   "metadata": {},
   "outputs": [],
   "source": []
  },
  {
   "cell_type": "markdown",
   "metadata": {},
   "source": [
    "### Identificar ID Fonte de dados"
   ]
  },
  {
   "cell_type": "code",
   "execution_count": null,
   "metadata": {},
   "outputs": [],
   "source": [
    "nome_site = 'IBGE'\n",
    "site_fonte_dados = url\n",
    "nome_fonte_dados = 'distritos'"
   ]
  },
  {
   "cell_type": "code",
   "execution_count": null,
   "metadata": {},
   "outputs": [],
   "source": [
    "id_fonte_dados = consultar_fonte_dados(nome_site, site_fonte_dados, nome_fonte_dados)"
   ]
  },
  {
   "cell_type": "code",
   "execution_count": null,
   "metadata": {},
   "outputs": [],
   "source": [
    "print('id_fonte_dados:' , id_fonte_dados)"
   ]
  },
  {
   "cell_type": "code",
   "execution_count": null,
   "metadata": {},
   "outputs": [],
   "source": []
  },
  {
   "cell_type": "code",
   "execution_count": null,
   "metadata": {},
   "outputs": [],
   "source": [
    "#renomear colunas\n",
    "distritos = distritos.rename(columns={\n",
    "    'id':'id_Distrito'\n",
    "    ,'municipio.id':'id_Municipio'\n",
    "    ,'municipio.regiao-imediata.id' : 'id_Regiao_Imediata'\n",
    "    ,'municipio.regiao-imediata.regiao-intermediaria.id' : 'id_Regiao_Intermediaria'\n",
    "    ,'municipio.microrregiao.id' : 'id_Microregiao'\n",
    "    ,'municipio.microrregiao.mesorregiao.id' : 'id_Mesoregiao'\n",
    "    ,'municipio.microrregiao.mesorregiao.UF.id' : 'id_Estado'\n",
    "    ,'municipio.regiao-imediata.regiao-intermediaria.UF.regiao.id' : 'id_Regiao'\n",
    "    ,'nome':'nome_Distrito'\n",
    "})"
   ]
  },
  {
   "cell_type": "code",
   "execution_count": null,
   "metadata": {},
   "outputs": [],
   "source": [
    "distritos['id_Fonte_Dados'] = id_fonte_dados"
   ]
  },
  {
   "cell_type": "code",
   "execution_count": null,
   "metadata": {},
   "outputs": [],
   "source": [
    "distritos['Data_Extracao'] = data_extracao"
   ]
  },
  {
   "cell_type": "code",
   "execution_count": null,
   "metadata": {},
   "outputs": [],
   "source": [
    "distritos['Data_Inicio_Vigencia'] = data_inicio_vigencia"
   ]
  },
  {
   "cell_type": "code",
   "execution_count": null,
   "metadata": {},
   "outputs": [],
   "source": [
    "distritos['Data_Fim_Vigencia'] = data_fim_vigencia"
   ]
  },
  {
   "cell_type": "code",
   "execution_count": null,
   "metadata": {},
   "outputs": [],
   "source": [
    "# Selecionar colunas\n",
    "distritos = distritos[[\n",
    "    'id_Fonte_Dados'\n",
    "    ,'id_Distrito'\n",
    "    ,'id_Municipio'\n",
    "    ,'id_Regiao_Imediata'\n",
    "    ,'id_Regiao_Intermediaria'\n",
    "    ,'id_Microregiao'\n",
    "    ,'id_Mesoregiao'\n",
    "    ,'id_Estado'\n",
    "    ,'id_Regiao'\n",
    "    ,'nome_Distrito'\n",
    "    ,'Data_Extracao'\n",
    "    ,'Data_Inicio_Vigencia'\n",
    "    ,'Data_Fim_Vigencia'\n",
    "]]"
   ]
  },
  {
   "cell_type": "code",
   "execution_count": null,
   "metadata": {},
   "outputs": [],
   "source": []
  },
  {
   "cell_type": "markdown",
   "metadata": {},
   "source": [
    "### Inserir dados"
   ]
  },
  {
   "cell_type": "code",
   "execution_count": null,
   "metadata": {},
   "outputs": [],
   "source": [
    "inserir_dados_stg(distritos, 'Stage', 'stg_Distrito_IBGE', 'Stage', 'Versiona_stg_Distrito_IBGE')"
   ]
  },
  {
   "cell_type": "code",
   "execution_count": null,
   "metadata": {},
   "outputs": [],
   "source": []
  },
  {
   "cell_type": "markdown",
   "metadata": {},
   "source": [
    "# Importar base de dados de subdistrito"
   ]
  },
  {
   "cell_type": "code",
   "execution_count": null,
   "metadata": {},
   "outputs": [],
   "source": [
    "#Realizar getURL no arquivo json\n",
    "url = 'https://servicodados.ibge.gov.br/api/v1/localidades/subdistritos'\n",
    "r = requests.get(url)\n",
    "print (len(r.content))"
   ]
  },
  {
   "cell_type": "code",
   "execution_count": null,
   "metadata": {},
   "outputs": [],
   "source": [
    "#Importar arquivos\n",
    "sub_distritos = json.loads(r.content)\n",
    "data_extracao = datetime.now()"
   ]
  },
  {
   "cell_type": "code",
   "execution_count": null,
   "metadata": {},
   "outputs": [],
   "source": [
    "#converter json para data frame\n",
    "sub_distritos = json_normalize(sub_distritos)"
   ]
  },
  {
   "cell_type": "code",
   "execution_count": null,
   "metadata": {},
   "outputs": [],
   "source": []
  },
  {
   "cell_type": "markdown",
   "metadata": {},
   "source": [
    "### Identificar ID Fonte de dados"
   ]
  },
  {
   "cell_type": "code",
   "execution_count": null,
   "metadata": {},
   "outputs": [],
   "source": [
    "nome_site = 'IBGE'\n",
    "site_fonte_dados = url\n",
    "nome_fonte_dados = 'subdistritos'"
   ]
  },
  {
   "cell_type": "code",
   "execution_count": null,
   "metadata": {},
   "outputs": [],
   "source": [
    "id_fonte_dados = consultar_fonte_dados(nome_site, site_fonte_dados, nome_fonte_dados)"
   ]
  },
  {
   "cell_type": "code",
   "execution_count": null,
   "metadata": {},
   "outputs": [],
   "source": [
    "print('id_fonte_dados:' , id_fonte_dados)"
   ]
  },
  {
   "cell_type": "code",
   "execution_count": null,
   "metadata": {},
   "outputs": [],
   "source": []
  },
  {
   "cell_type": "code",
   "execution_count": null,
   "metadata": {},
   "outputs": [],
   "source": [
    "#renomear colunas\n",
    "sub_distritos = sub_distritos.rename(columns={\n",
    "    'id' : 'id_Sub_Distrito'    \n",
    "    ,'distrito.id':'id_Distrito'\n",
    "    ,'distrito.municipio.id':'id_Municipio'\n",
    "    ,'distrito.municipio.regiao-imediata.id' : 'id_Regiao_Imediata'\n",
    "    ,'distrito.municipio.regiao-imediata.regiao-intermediaria.id' : 'id_Regiao_Intermediaria'\n",
    "    ,'distrito.municipio.microrregiao.id' : 'id_Microregiao'\n",
    "    ,'distrito.municipio.microrregiao.mesorregiao.id' : 'id_Mesoregiao'\n",
    "    ,'distrito.municipio.microrregiao.mesorregiao.UF.id' : 'id_Estado'\n",
    "    ,'distrito.municipio.regiao-imediata.regiao-intermediaria.UF.regiao.id' : 'id_Regiao'\n",
    "    ,'nome':'nome_Sub_Distrito'\n",
    "})"
   ]
  },
  {
   "cell_type": "code",
   "execution_count": null,
   "metadata": {},
   "outputs": [],
   "source": [
    "sub_distritos['id_Fonte_Dados'] = id_fonte_dados"
   ]
  },
  {
   "cell_type": "code",
   "execution_count": null,
   "metadata": {},
   "outputs": [],
   "source": [
    "sub_distritos['Data_Extracao'] = data_extracao"
   ]
  },
  {
   "cell_type": "code",
   "execution_count": null,
   "metadata": {},
   "outputs": [],
   "source": [
    "sub_distritos['Data_Inicio_Vigencia'] = data_inicio_vigencia"
   ]
  },
  {
   "cell_type": "code",
   "execution_count": null,
   "metadata": {},
   "outputs": [],
   "source": [
    "sub_distritos['Data_Fim_Vigencia'] = data_fim_vigencia"
   ]
  },
  {
   "cell_type": "code",
   "execution_count": null,
   "metadata": {},
   "outputs": [],
   "source": [
    "# Selecionar colunas\n",
    "sub_distritos = sub_distritos[[\n",
    "    'id_Fonte_Dados'\n",
    "    ,'id_Sub_Distrito'\n",
    "    ,'id_Distrito'\n",
    "    ,'id_Municipio'\n",
    "    ,'id_Regiao_Imediata'\n",
    "    ,'id_Regiao_Intermediaria'\n",
    "    ,'id_Microregiao'\n",
    "    ,'id_Mesoregiao'\n",
    "    ,'id_Estado'\n",
    "    ,'id_Regiao'\n",
    "    ,'nome_Sub_Distrito'\n",
    "    ,'Data_Extracao'\n",
    "    ,'Data_Inicio_Vigencia'\n",
    "    ,'Data_Fim_Vigencia'\n",
    "]]"
   ]
  },
  {
   "cell_type": "code",
   "execution_count": null,
   "metadata": {},
   "outputs": [],
   "source": []
  },
  {
   "cell_type": "markdown",
   "metadata": {},
   "source": [
    "### Inserir dados"
   ]
  },
  {
   "cell_type": "code",
   "execution_count": null,
   "metadata": {},
   "outputs": [],
   "source": [
    "inserir_dados_stg(sub_distritos, 'Stage', 'stg_Sub_Distrito_IBGE', 'Stage', 'Versiona_stg_Sub_Distrito_IBGE')"
   ]
  },
  {
   "cell_type": "code",
   "execution_count": null,
   "metadata": {},
   "outputs": [],
   "source": []
  },
  {
   "cell_type": "code",
   "execution_count": null,
   "metadata": {},
   "outputs": [],
   "source": [
    "#Fim da execução do notebook\n",
    "end_general = datetime.now()"
   ]
  },
  {
   "cell_type": "code",
   "execution_count": null,
   "metadata": {},
   "outputs": [],
   "source": [
    "# Write the DataFrame to a BigQuery table\n",
    "\n",
    "print(\"Tempo total notebook \" + str(end_general - start_general))"
   ]
  },
  {
   "cell_type": "code",
   "execution_count": null,
   "metadata": {},
   "outputs": [],
   "source": []
  }
 ],
 "metadata": {
  "kernelspec": {
   "display_name": "Python 3",
   "language": "python",
   "name": "python3"
  },
  "language_info": {
   "codemirror_mode": {
    "name": "ipython",
    "version": 3
   },
   "file_extension": ".py",
   "mimetype": "text/x-python",
   "name": "python",
   "nbconvert_exporter": "python",
   "pygments_lexer": "ipython3",
   "version": "3.7.3"
  }
 },
 "nbformat": 4,
 "nbformat_minor": 4
}
