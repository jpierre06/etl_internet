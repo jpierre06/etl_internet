{
 "cells": [
  {
   "cell_type": "code",
   "execution_count": null,
   "metadata": {},
   "outputs": [],
   "source": [
    "import time\n",
    "import json\n",
    "import requests\n",
    "import pandas as pd\n",
    "from pandas.io.json import json_normalize\n",
    "import numpy as np\n",
    "import os"
   ]
  },
  {
   "cell_type": "code",
   "execution_count": null,
   "metadata": {},
   "outputs": [],
   "source": [
    "from datetime import datetime"
   ]
  },
  {
   "cell_type": "code",
   "execution_count": null,
   "metadata": {},
   "outputs": [],
   "source": [
    "from pandas.io import sql\n",
    "from sqlalchemy import create_engine\n",
    "import sqlalchemy\n",
    "import mysql.connector"
   ]
  },
  {
   "cell_type": "code",
   "execution_count": null,
   "metadata": {},
   "outputs": [],
   "source": [
    "import requests\n",
    "from bs4 import BeautifulSoup\n",
    "from lxml import html\n",
    "import re\n",
    "from unidecode import unidecode"
   ]
  },
  {
   "cell_type": "code",
   "execution_count": null,
   "metadata": {},
   "outputs": [],
   "source": []
  },
  {
   "cell_type": "code",
   "execution_count": null,
   "metadata": {},
   "outputs": [],
   "source": [
    "path_notebook = os.getcwd()"
   ]
  },
  {
   "cell_type": "code",
   "execution_count": null,
   "metadata": {},
   "outputs": [],
   "source": [
    "#Inicio da execução do notebook\n",
    "start_general = datetime.now()"
   ]
  },
  {
   "cell_type": "code",
   "execution_count": null,
   "metadata": {},
   "outputs": [],
   "source": []
  },
  {
   "cell_type": "markdown",
   "metadata": {},
   "source": [
    "## Definir funções"
   ]
  },
  {
   "cell_type": "code",
   "execution_count": null,
   "metadata": {},
   "outputs": [],
   "source": [
    "def cadastrar_fonte_dados (nome_site, site_fonte_dados, nome_fonte_dados):\n",
    "    \n",
    "    fonte_dados = [[nome_site, site_fonte_dados, nome_fonte_dados]]\n",
    "\n",
    "    colunas = ['Nome_Site', 'Site_Fonte_Dados', 'Nome_Fonte_Dados']\n",
    "\n",
    "    fonte_dados = pd.DataFrame(fonte_dados, columns = colunas)\n",
    "\n",
    "    with engine.connect() as conn, conn.begin():\n",
    "        fonte_dados.to_sql('stg_Fonte_Dados', conn, if_exists='replace', index=False)\n",
    "\n",
    "\n",
    "    ## Executar procedure versionamento\n",
    "\n",
    "    conexao = engine.connect()\n",
    "\n",
    "    consulta_sql = \"CALL Stage.Versiona_stg_Fonte_Dados_Internet();\"\n",
    "\n",
    "    with engine.begin() as conn:\n",
    "        conn.execute(consulta_sql)\n",
    "\n",
    "\n",
    "    ## Deletar dados tabela stage\n",
    "\n",
    "    consulta_sql = \"\"\"\n",
    "        DELETE FROM Stage.stg_Fonte_Dados\n",
    "        WHERE TRUE;\n",
    "    \"\"\"\n",
    "\n",
    "    with engine.begin() as conn:\n",
    "        conn.execute(consulta_sql)\n",
    "\n",
    "    conexao.close()\n",
    "\n",
    "    ### Identificar ID Fonte de dados\n",
    "\n",
    "    conn = engine.connect()\n",
    "\n",
    "    consulta_sql = \"\"\"\n",
    "        SELECT id_Fonte_Dados\n",
    "        FROM Internet_db.Fonte_Dados_Internet\n",
    "        WHERE Site_Fonte_Dados = '\"\"\" +  url  + \"\"\"'\n",
    "\n",
    "    \"\"\"\n",
    "\n",
    "    with engine.begin() as conn:\n",
    "        result_query = conn.execute(consulta_sql).fetchall()\n",
    "\n",
    "    return result_query[0][0]"
   ]
  },
  {
   "cell_type": "code",
   "execution_count": null,
   "metadata": {},
   "outputs": [],
   "source": [
    "def consultar_fonte_dados(nome_site, site_fonte_dados, nome_fonte_dados):\n",
    "    \n",
    "    conn = engine.connect()\n",
    "\n",
    "    consulta_sql = \"\"\"\n",
    "        SELECT id_Fonte_Dados\n",
    "        FROM Internet_db.Fonte_Dados_Internet\n",
    "        WHERE Site_Fonte_Dados = '\"\"\" +  site_fonte_dados  + \"\"\"'\n",
    "\n",
    "    \"\"\"\n",
    "\n",
    "    with engine.begin() as conn:\n",
    "        result_query = conn.execute(consulta_sql).fetchall()\n",
    "\n",
    "\n",
    "    if len(result_query) != 0:\n",
    "        return result_query[0][0]\n",
    "\n",
    "    else:\n",
    "        print('Fonte de dados não está previamente cadastrada')\n",
    "        print('Fonte de dados será cadastrada agora')\n",
    "\n",
    "        return cadastrar_fonte_dados (nome_site, site_fonte_dados, nome_fonte_dados)"
   ]
  },
  {
   "cell_type": "code",
   "execution_count": null,
   "metadata": {},
   "outputs": [],
   "source": [
    "def inserir_dados_stg(nome_data_frame, nome_banco_tabela, nome_tabela, nome_banco_procedure, nome_procedure):\n",
    "\n",
    "    # Inserir dados tabela\n",
    "    with engine.connect() as conn, conn.begin():\n",
    "        nome_data_frame.to_sql(nome_tabela, conn, if_exists='replace', index=False)\n",
    "\n",
    "\n",
    "\n",
    "    ## Executar procedure versionamento\n",
    "    conexao = engine.connect()\n",
    "\n",
    "    consulta_sql = \"CALL \"  + nome_banco_procedure + \".\" + nome_procedure + \"();\"\n",
    "\n",
    "    with engine.begin() as conn:\n",
    "        conn.execute(consulta_sql)\n",
    "\n",
    "\n",
    "\n",
    "    ## Deletar dados tabela\n",
    "\n",
    "    consulta_sql = \"\"\"\n",
    "        DELETE FROM \"\"\" + nome_banco_tabela + \"\"\".\"\"\" + nome_tabela + \"\"\"\n",
    "        WHERE TRUE;\n",
    "    \"\"\"\n",
    "\n",
    "    with engine.begin() as conn:\n",
    "        conn.execute(consulta_sql)\n",
    "\n",
    "    conexao.close()"
   ]
  },
  {
   "cell_type": "code",
   "execution_count": null,
   "metadata": {},
   "outputs": [],
   "source": [
    "def de_para_nome_cidade(nome_data_frame, sigla_estado, de_cidade, para_cidade, observacao):\n",
    "    \n",
    "    nome_data_frame['Observacao'] = np.where(\n",
    "        (nome_data_frame['sigla_Estado'] == sigla_estado) & (nome_data_frame['Cidade_Join'] == de_cidade )\n",
    "        ,observacao\n",
    "        ,nome_data_frame['Observacao']\n",
    "    )\n",
    "\n",
    "    nome_data_frame['Cidade_Join'] = np.where(\n",
    "        (nome_data_frame['sigla_Estado'] == sigla_estado) & (nome_data_frame['Cidade_Join'] == de_cidade )\n",
    "        ,para_cidade\n",
    "        ,nome_data_frame['Cidade_Join']\n",
    "    )\n",
    "    \n",
    "    "
   ]
  },
  {
   "cell_type": "code",
   "execution_count": null,
   "metadata": {},
   "outputs": [],
   "source": []
  },
  {
   "cell_type": "code",
   "execution_count": null,
   "metadata": {},
   "outputs": [],
   "source": []
  },
  {
   "cell_type": "markdown",
   "metadata": {},
   "source": [
    "## Criar conexão banco dados"
   ]
  },
  {
   "cell_type": "code",
   "execution_count": null,
   "metadata": {},
   "outputs": [],
   "source": [
    "#texto = open('/root/airflow/scripts/config/conexao_db.txt')\n",
    "texto = open('conexao_db.txt')\n",
    "conexao_db = texto.read()\n",
    "texto.close()"
   ]
  },
  {
   "cell_type": "code",
   "execution_count": null,
   "metadata": {},
   "outputs": [],
   "source": [
    "engine = create_engine(conexao_db, encoding='utf-8')"
   ]
  },
  {
   "cell_type": "code",
   "execution_count": null,
   "metadata": {},
   "outputs": [],
   "source": [
    "print(engine.table_names())"
   ]
  },
  {
   "cell_type": "code",
   "execution_count": null,
   "metadata": {},
   "outputs": [],
   "source": []
  },
  {
   "cell_type": "markdown",
   "metadata": {},
   "source": [
    "### Datas de vigências"
   ]
  },
  {
   "cell_type": "code",
   "execution_count": null,
   "metadata": {},
   "outputs": [],
   "source": [
    "data_inicio_vigencia = datetime.now().strftime('%Y-%m-%d')"
   ]
  },
  {
   "cell_type": "code",
   "execution_count": null,
   "metadata": {},
   "outputs": [],
   "source": [
    "data_fim_vigencia = '9999-12-31'"
   ]
  },
  {
   "cell_type": "code",
   "execution_count": null,
   "metadata": {},
   "outputs": [],
   "source": []
  },
  {
   "cell_type": "markdown",
   "metadata": {},
   "source": [
    "# Importar base de dados de países"
   ]
  },
  {
   "cell_type": "code",
   "execution_count": null,
   "metadata": {},
   "outputs": [],
   "source": [
    "session_requests = requests.session()"
   ]
  },
  {
   "cell_type": "code",
   "execution_count": null,
   "metadata": {},
   "outputs": [],
   "source": [
    "url = 'https://www.portalpower.com.br/lista-ddd-brasil-todos-ddds/'\n",
    "consulta = session_requests.get(url)\n",
    "data_extracao = datetime.now()"
   ]
  },
  {
   "cell_type": "code",
   "execution_count": null,
   "metadata": {},
   "outputs": [],
   "source": [
    "consulta.ok # Will tell us if the last request was ok\n",
    "consulta.status_code # Will give us the status from the last request"
   ]
  },
  {
   "cell_type": "code",
   "execution_count": null,
   "metadata": {},
   "outputs": [],
   "source": []
  },
  {
   "cell_type": "markdown",
   "metadata": {},
   "source": [
    "### Identificar ID Fonte de dados"
   ]
  },
  {
   "cell_type": "code",
   "execution_count": null,
   "metadata": {},
   "outputs": [],
   "source": [
    "nome_site = 'portalpower'\n",
    "site_fonte_dados = url\n",
    "nome_fonte_dados = 'ddd-cidades-do-brasil'"
   ]
  },
  {
   "cell_type": "code",
   "execution_count": null,
   "metadata": {},
   "outputs": [],
   "source": [
    "id_fonte_dados = consultar_fonte_dados(nome_site, site_fonte_dados, nome_fonte_dados)"
   ]
  },
  {
   "cell_type": "code",
   "execution_count": null,
   "metadata": {},
   "outputs": [],
   "source": [
    "print('id_fonte_dados:' , id_fonte_dados)"
   ]
  },
  {
   "cell_type": "code",
   "execution_count": null,
   "metadata": {},
   "outputs": [],
   "source": []
  },
  {
   "cell_type": "markdown",
   "metadata": {},
   "source": [
    "## Conversões"
   ]
  },
  {
   "cell_type": "code",
   "execution_count": null,
   "metadata": {},
   "outputs": [],
   "source": [
    "soup = BeautifulSoup(consulta.content, 'html.parser')"
   ]
  },
  {
   "cell_type": "code",
   "execution_count": null,
   "metadata": {},
   "outputs": [],
   "source": [
    "ddd0 = pd.read_html(soup.prettify())"
   ]
  },
  {
   "cell_type": "code",
   "execution_count": null,
   "metadata": {},
   "outputs": [],
   "source": [
    "estados = soup.find_all('h4')"
   ]
  },
  {
   "cell_type": "code",
   "execution_count": null,
   "metadata": {},
   "outputs": [],
   "source": [
    "estados_ajustados = []\n",
    "\n",
    "for j in range(0, len(estados), 1):\n",
    "    if len(estados[j].getText()) > 0:\n",
    "        estados_ajustados.append(estados[j].getText())"
   ]
  },
  {
   "cell_type": "code",
   "execution_count": null,
   "metadata": {},
   "outputs": [],
   "source": []
  },
  {
   "cell_type": "code",
   "execution_count": null,
   "metadata": {},
   "outputs": [],
   "source": [
    "quantidade_tabelas = len(ddd0)\n",
    "print('quantidade_tabelas', quantidade_tabelas)"
   ]
  },
  {
   "cell_type": "code",
   "execution_count": null,
   "metadata": {},
   "outputs": [],
   "source": []
  },
  {
   "cell_type": "code",
   "execution_count": null,
   "metadata": {},
   "outputs": [],
   "source": [
    "try:\n",
    "    del ddd\n",
    "except:\n",
    "    pass\n",
    "ddd = pd.DataFrame(columns = {'Cidade', 'DDD', 'Estado'})"
   ]
  },
  {
   "cell_type": "code",
   "execution_count": null,
   "metadata": {},
   "outputs": [],
   "source": [
    "for i in range(0, quantidade_tabelas -1, 1):\n",
    "    temp = pd.DataFrame(columns = {'Cidade', 'DDD', 'Estado'})\n",
    "    temp['Cidade'] = ddd0[i][0]\n",
    "    temp['DDD'] = ddd0[i][1]\n",
    "    temp['Estado'] = estados_ajustados[i]\n",
    "    \n",
    "    ddd = ddd.append(pd.DataFrame(data = temp), ignore_index=True)\n",
    "    \n",
    "    del temp"
   ]
  },
  {
   "cell_type": "code",
   "execution_count": null,
   "metadata": {},
   "outputs": [],
   "source": []
  },
  {
   "cell_type": "code",
   "execution_count": null,
   "metadata": {},
   "outputs": [],
   "source": [
    "ddd['sigla_Estado'] = ddd['Estado'].str[0:2]\n",
    "ddd['Estado'] = ddd['Estado'].str[5:]"
   ]
  },
  {
   "cell_type": "code",
   "execution_count": null,
   "metadata": {},
   "outputs": [],
   "source": [
    "ddd['Data_Extracao'] = data_extracao\n",
    "ddd['id_Fonte_Dados'] = id_fonte_dados\n",
    "ddd['Data_Inicio_Vigencia'] = data_inicio_vigencia\n",
    "ddd['Data_Fim_Vigencia'] = data_fim_vigencia"
   ]
  },
  {
   "cell_type": "code",
   "execution_count": null,
   "metadata": {},
   "outputs": [],
   "source": []
  },
  {
   "cell_type": "markdown",
   "metadata": {},
   "source": [
    "### Consultar municípios"
   ]
  },
  {
   "cell_type": "code",
   "execution_count": null,
   "metadata": {},
   "outputs": [],
   "source": [
    "### Identificar ID Fonte de dados\n",
    "consulta_sql = \"\"\"\n",
    "\n",
    "    SELECT \n",
    "        mi.id_Municipio as id_Municipio_IBGE\n",
    "        ,mi.nome_Municipio\n",
    "        ,UPPER(mi.nome_Municipio) as Cidade_Join\n",
    "        ,ei.id_Estado as id_Estado_IBGE\n",
    "        ,ei.sigla_Estado \n",
    "    FROM\n",
    "        IBGE.Municipio_IBGE as mi \n",
    "            inner join\n",
    "        IBGE.Estado_IBGE as ei on (mi.id_Estado = ei.id_Estado)\n",
    "    WHERE TRUE\n",
    "        AND mi.Data_Fim_Vigencia = '9999-12-31'\n",
    "        AND ei.Data_Fim_Vigencia = '9999-12-31'\n",
    "\"\"\"\n",
    "\n",
    "#with engine.begin() as conn:\n",
    "#    result_query = conn.execute(consulta_sql, head=True).fetchall()\n"
   ]
  },
  {
   "cell_type": "code",
   "execution_count": null,
   "metadata": {},
   "outputs": [],
   "source": [
    "municipios = pd.read_sql_query(consulta_sql, con=engine.connect())"
   ]
  },
  {
   "cell_type": "code",
   "execution_count": null,
   "metadata": {},
   "outputs": [],
   "source": []
  },
  {
   "cell_type": "code",
   "execution_count": null,
   "metadata": {},
   "outputs": [],
   "source": [
    "# Ajuste nome cidade dataframe municipios\n",
    "# retirar acentos\n",
    "municipios['Cidade_Join'] = list(map(lambda x: unidecode(x), list(municipios.Cidade_Join)))\n",
    "municipios['Cidade_Join'] = municipios['Cidade_Join'].str.replace(\" DO \", \" DE \")\n",
    "municipios['Cidade_Join'] = municipios['Cidade_Join'].str.replace(\" DOS \", \" DE \")\n",
    "municipios['Cidade_Join'] = municipios['Cidade_Join'].str.replace(\" DA \", \" DE \")\n",
    "municipios['Cidade_Join'] = municipios['Cidade_Join'].str.replace(\" DAS \", \" DE \")"
   ]
  },
  {
   "cell_type": "code",
   "execution_count": null,
   "metadata": {},
   "outputs": [],
   "source": []
  },
  {
   "cell_type": "code",
   "execution_count": null,
   "metadata": {},
   "outputs": [],
   "source": [
    "# Ajuste nome cidade dataframe DDD\n",
    "ddd['Cidade_Join'] = ddd['Cidade'].str.replace(\"’\", \"'\")\n",
    "ddd['Cidade_Join'] = ddd['Cidade_Join'].str.replace(\" DO \", \" DE \")\n",
    "ddd['Cidade_Join'] = ddd['Cidade_Join'].str.replace(\" DOS \", \" DE \")\n",
    "ddd['Cidade_Join'] = ddd['Cidade_Join'].str.replace(\" DA \", \" DE \")\n",
    "ddd['Cidade_Join'] = ddd['Cidade_Join'].str.replace(\" DAS \", \" DE \")"
   ]
  },
  {
   "cell_type": "code",
   "execution_count": null,
   "metadata": {},
   "outputs": [],
   "source": [
    "ddd['Observacao'] = ''"
   ]
  },
  {
   "cell_type": "code",
   "execution_count": null,
   "metadata": {},
   "outputs": [],
   "source": []
  },
  {
   "cell_type": "markdown",
   "metadata": {},
   "source": [
    "### Auste de alteração de nomes de municipios"
   ]
  },
  {
   "cell_type": "code",
   "execution_count": null,
   "metadata": {},
   "outputs": [],
   "source": [
    "de_para_nome_cidade(ddd, 'BA', 'GOVERNADOR LOMANTO JUNIOR', 'BARRO PRETO', 'https://pt.wikipedia.org/wiki/Barro_Preto')\n",
    "\n",
    "de_para_nome_cidade(ddd, 'PB', 'CAMPO DE SANTANA', 'TACIMA', 'https://cidades.ibge.gov.br/brasil/pb/tacima/historico')\n",
    "\n",
    "de_para_nome_cidade(ddd, 'PB', 'SERIDO', 'SAO VICENTE DE SERIDO', 'https://cidades.ibge.gov.br/brasil/pb/sao-vicente-do-serido/historico')\n",
    "\n",
    "de_para_nome_cidade(ddd, 'RN', 'AUGUSTO SEVERO', 'CAMPO GRANDE', 'https://pt.wikipedia.org/wiki/Campo_Grande_(Rio_Grande_do_Norte)')\n",
    "\n",
    "de_para_nome_cidade(ddd, 'RN', 'PRESIDENTE JUSCELINO', 'SERRA CAIADA', 'https://pt.wikipedia.org/wiki/Serra_Caiada')\n",
    "\n",
    "de_para_nome_cidade(ddd, 'SC', 'PICARRAS', 'BALNEARIO PICARRAS', 'https://pt.wikipedia.org/wiki/Balne%C3%A1rio_Pi%C3%A7arras')\n",
    "\n",
    "de_para_nome_cidade(ddd, 'SP', 'EMBU', 'EMBU DE ARTES', 'https://pt.wikipedia.org/wiki/Embu_das_Artes')\n",
    "\n",
    "de_para_nome_cidade(ddd, 'PB', 'SAO DOMINGOS DE POMBAL', 'SAO DOMINGOS', 'Pendente validar fonte informação')"
   ]
  },
  {
   "cell_type": "code",
   "execution_count": null,
   "metadata": {},
   "outputs": [],
   "source": [
    "# de_para_nome_cidade(ddd, '', '', '', '')"
   ]
  },
  {
   "cell_type": "code",
   "execution_count": null,
   "metadata": {},
   "outputs": [],
   "source": []
  },
  {
   "cell_type": "markdown",
   "metadata": {},
   "source": [
    "### Ajuste nome cidades, letras, etc"
   ]
  },
  {
   "cell_type": "code",
   "execution_count": null,
   "metadata": {},
   "outputs": [],
   "source": [
    "de_para_nome_cidade(ddd, 'BA', 'SANTA TERESINHA', 'SANTA TEREZINHA', 'Ajuste letra nome')\n",
    "\n",
    "de_para_nome_cidade(ddd, 'CE', 'ITAPAGE', 'ITAPAJE', 'Ajuste letra nome')\n",
    "\n",
    "de_para_nome_cidade(ddd, 'MG', 'BRASOPOLIS', 'BRAZOPOLIS', 'Ajuste letra nome')\n",
    "\n",
    "de_para_nome_cidade(ddd, 'MG', 'DONA EUSEBIA', 'DONA EUZEBIA', 'Ajuste letra nome')\n",
    "\n",
    "de_para_nome_cidade(ddd, 'MG', 'ITABIRINHA DE MANTENA', 'ITABIRINHA', 'Ajuste letra nome')\n",
    "\n",
    "de_para_nome_cidade(ddd, 'MG', 'PASSA-VINTE', 'PASSA VINTE', 'Ajuste letra nome')\n",
    "\n",
    "de_para_nome_cidade(ddd, 'MG', 'SAO THOME DE LETRAS', 'SAO TOME DE LETRAS', 'Ajuste letra nome')\n",
    "\n",
    "de_para_nome_cidade(ddd, 'MT', 'POXOREO', 'POXOREU', 'Ajuste letra nome')\n",
    "\n",
    "de_para_nome_cidade(ddd, 'PA', 'SANTA ISABEL DE PARA', 'SANTA IZABEL DE PARA', 'Ajuste letra nome')\n",
    "\n",
    "de_para_nome_cidade(ddd, 'PE', 'IGUARACI', 'IGUARACY', 'Ajuste letra nome')\n",
    "\n",
    "de_para_nome_cidade(ddd, 'RJ', 'PARATI', 'PARATY', 'Ajuste letra nome')\n",
    "\n",
    "de_para_nome_cidade(ddd, 'RJ', 'TRAJANO DE MORAIS', 'TRAJANO DE MORAES', 'Ajuste letra nome')\n",
    "\n",
    "de_para_nome_cidade(ddd, 'RN', 'OLHO-D\\'AGUA DE BORGES', 'OLHO D\\'AGUA DE BORGES', 'Ajuste letra nome')\n",
    "\n",
    "de_para_nome_cidade(ddd, 'RS', 'SANTANA DE LIVRAMENTO', 'SANT\\'ANA DE LIVRAMENTO', 'Ajuste letra nome')\n",
    "\n",
    "de_para_nome_cidade(ddd, 'SC', 'GRAO PARA', 'GRAO-PARA', 'Ajuste letra nome')\n",
    "\n",
    "de_para_nome_cidade(ddd, 'SC', 'PRESIDENTE CASTELO BRANCO', 'PRESIDENTE CASTELLO BRANCO', 'Ajuste letra nome')\n",
    "\n",
    "de_para_nome_cidade(ddd, 'SP', 'BIRITIBA-MIRIM', 'BIRITIBA MIRIM', 'Ajuste letra nome')\n",
    "\n",
    "de_para_nome_cidade(ddd, 'SP', 'FLORINIA', 'FLORINEA', 'Ajuste letra nome')\n",
    "\n",
    "de_para_nome_cidade(ddd, 'SP', 'MOJI DE CRUZES', 'MOGI DE CRUZES', 'Ajuste letra nome')\n",
    "\n",
    "de_para_nome_cidade(ddd, 'SP', 'MOJI-MIRIM', 'MOGI MIRIM', 'Ajuste letra nome')\n",
    "\n",
    "de_para_nome_cidade(ddd, 'SP', 'SAO LUIS DE PARAITINGA', 'SAO LUIZ DE PARAITINGA', 'Ajuste letra nome')"
   ]
  },
  {
   "cell_type": "code",
   "execution_count": null,
   "metadata": {},
   "outputs": [],
   "source": [
    "#de_para_nome_cidade(ddd, '', '', '', 'Ajuste letra nome')"
   ]
  },
  {
   "cell_type": "code",
   "execution_count": null,
   "metadata": {},
   "outputs": [],
   "source": []
  },
  {
   "cell_type": "code",
   "execution_count": null,
   "metadata": {},
   "outputs": [],
   "source": [
    "ddd = pd.merge(\n",
    "    ddd\n",
    "    ,municipios[['sigla_Estado', 'Cidade_Join', 'id_Municipio_IBGE', 'id_Estado_IBGE', 'nome_Municipio']]\n",
    "    ,left_on = ('sigla_Estado', 'Cidade_Join')\n",
    "    ,right_on = ('sigla_Estado', 'Cidade_Join')\n",
    "    ,how = 'left'\n",
    ")"
   ]
  },
  {
   "cell_type": "code",
   "execution_count": null,
   "metadata": {},
   "outputs": [],
   "source": [
    "len(ddd[(ddd['id_Municipio_IBGE'].isnull())])"
   ]
  },
  {
   "cell_type": "code",
   "execution_count": null,
   "metadata": {},
   "outputs": [],
   "source": []
  },
  {
   "cell_type": "code",
   "execution_count": null,
   "metadata": {},
   "outputs": [],
   "source": [
    "# Selecionar colunas\n",
    "ddd = ddd[[\n",
    "    'id_Fonte_Dados'\n",
    "    ,'id_Estado_IBGE'\n",
    "    ,'id_Municipio_IBGE'\n",
    "    ,'nome_Municipio'\n",
    "    ,'Cidade'\n",
    "    ,'DDD'\n",
    "    ,'Observacao'\n",
    "    ,'Data_Extracao'\n",
    "    ,'Data_Inicio_Vigencia'\n",
    "    ,'Data_Fim_Vigencia'    \n",
    "]]"
   ]
  },
  {
   "cell_type": "code",
   "execution_count": null,
   "metadata": {},
   "outputs": [],
   "source": [
    "municipios_nulos = ddd[ddd['id_Municipio_IBGE'].isnull()]"
   ]
  },
  {
   "cell_type": "code",
   "execution_count": null,
   "metadata": {},
   "outputs": [],
   "source": [
    "ddd = ddd[ddd['id_Municipio_IBGE'].notnull()]"
   ]
  },
  {
   "cell_type": "code",
   "execution_count": null,
   "metadata": {},
   "outputs": [],
   "source": []
  },
  {
   "cell_type": "code",
   "execution_count": null,
   "metadata": {},
   "outputs": [],
   "source": [
    "ddd['id_Fonte_Dados'] = ddd['id_Fonte_Dados'].astype('int32')\n",
    "\n",
    "ddd['id_Estado_IBGE'] = ddd['id_Estado_IBGE'].astype('int32')\n",
    "\n",
    "ddd['id_Municipio_IBGE'] = ddd['id_Municipio_IBGE'].astype('int32')\n",
    "\n",
    "ddd['DDD'] = ddd['DDD'].astype('int32')"
   ]
  },
  {
   "cell_type": "code",
   "execution_count": null,
   "metadata": {},
   "outputs": [],
   "source": []
  },
  {
   "cell_type": "markdown",
   "metadata": {},
   "source": [
    "### Inserir dados"
   ]
  },
  {
   "cell_type": "code",
   "execution_count": null,
   "metadata": {},
   "outputs": [],
   "source": [
    "inserir_dados_stg(ddd, 'Stage', 'stg_DDD_Municipio', 'Stage', 'Versiona_stg_DDD_Municipio')"
   ]
  },
  {
   "cell_type": "code",
   "execution_count": null,
   "metadata": {},
   "outputs": [],
   "source": []
  },
  {
   "cell_type": "code",
   "execution_count": null,
   "metadata": {},
   "outputs": [],
   "source": [
    "#Fim da execução do notebook\n",
    "end_general = datetime.now()"
   ]
  },
  {
   "cell_type": "code",
   "execution_count": null,
   "metadata": {},
   "outputs": [],
   "source": [
    "# Write the DataFrame to a BigQuery table\n",
    "\n",
    "print(\"Tempo total notebook \" + str(end_general - start_general))"
   ]
  },
  {
   "cell_type": "code",
   "execution_count": null,
   "metadata": {},
   "outputs": [],
   "source": []
  }
 ],
 "metadata": {
  "kernelspec": {
   "display_name": "Python 3",
   "language": "python",
   "name": "python3"
  },
  "language_info": {
   "codemirror_mode": {
    "name": "ipython",
    "version": 3
   },
   "file_extension": ".py",
   "mimetype": "text/x-python",
   "name": "python",
   "nbconvert_exporter": "python",
   "pygments_lexer": "ipython3",
   "version": "3.7.3"
  }
 },
 "nbformat": 4,
 "nbformat_minor": 4
}
