{
 "cells": [
  {
   "cell_type": "code",
   "execution_count": 1,
   "metadata": {},
   "outputs": [],
   "source": [
    "import time\n",
    "import json\n",
    "import requests\n",
    "import pandas as pd\n",
    "from pandas.io.json import json_normalize\n",
    "import numpy as np\n",
    "import os"
   ]
  },
  {
   "cell_type": "code",
   "execution_count": 2,
   "metadata": {},
   "outputs": [],
   "source": [
    "from datetime import datetime"
   ]
  },
  {
   "cell_type": "code",
   "execution_count": 3,
   "metadata": {},
   "outputs": [],
   "source": [
    "from pandas.io import sql\n",
    "from sqlalchemy import create_engine"
   ]
  },
  {
   "cell_type": "code",
   "execution_count": 4,
   "metadata": {},
   "outputs": [],
   "source": [
    "import zipfile, urllib.request, shutil"
   ]
  },
  {
   "cell_type": "code",
   "execution_count": null,
   "metadata": {},
   "outputs": [],
   "source": []
  },
  {
   "cell_type": "code",
   "execution_count": 5,
   "metadata": {},
   "outputs": [],
   "source": [
    "path_notebook = os.getcwd()"
   ]
  },
  {
   "cell_type": "code",
   "execution_count": 6,
   "metadata": {},
   "outputs": [],
   "source": [
    "#Inicio da execução do notebook\n",
    "start_general = datetime.now()"
   ]
  },
  {
   "cell_type": "code",
   "execution_count": null,
   "metadata": {},
   "outputs": [],
   "source": []
  },
  {
   "cell_type": "markdown",
   "metadata": {},
   "source": [
    "## Definir funções"
   ]
  },
  {
   "cell_type": "code",
   "execution_count": 7,
   "metadata": {},
   "outputs": [],
   "source": [
    "def cadastrar_fonte_dados (nome_site, site_fonte_dados, nome_fonte_dados):\n",
    "    \n",
    "    fonte_dados = [[nome_site, site_fonte_dados, nome_fonte_dados]]\n",
    "\n",
    "    colunas = ['Nome_Site', 'Site_Fonte_Dados', 'Nome_Fonte_Dados']\n",
    "\n",
    "    fonte_dados = pd.DataFrame(fonte_dados, columns = colunas)\n",
    "\n",
    "    with engine.connect() as conn, conn.begin():\n",
    "        fonte_dados.to_sql('stg_Fonte_Dados', conn, if_exists='replace', index=False)\n",
    "\n",
    "\n",
    "    ## Executar procedure versionamento\n",
    "\n",
    "    conexao = engine.connect()\n",
    "\n",
    "    consulta_sql = \"CALL Stage.Versiona_stg_Fonte_Dados_Internet();\"\n",
    "\n",
    "    with engine.begin() as conn:\n",
    "        conn.execute(consulta_sql)\n",
    "\n",
    "\n",
    "    ## Deletar dados tabela stage\n",
    "\n",
    "    consulta_sql = \"\"\"\n",
    "        DELETE FROM Stage.stg_Fonte_Dados\n",
    "        WHERE TRUE;\n",
    "    \"\"\"\n",
    "\n",
    "    with engine.begin() as conn:\n",
    "        conn.execute(consulta_sql)\n",
    "\n",
    "    conexao.close()\n",
    "\n",
    "    ### Identificar ID Fonte de dados\n",
    "\n",
    "    conn = engine.connect()\n",
    "\n",
    "    consulta_sql = \"\"\"\n",
    "        SELECT id_Fonte_Dados\n",
    "        FROM Internet_db.Fonte_Dados_Internet\n",
    "        WHERE Site_Fonte_Dados = '\"\"\" +  site_fonte_dados  + \"\"\"'\n",
    "\n",
    "    \"\"\"\n",
    "\n",
    "    with engine.begin() as conn:\n",
    "        result_query = conn.execute(consulta_sql).fetchall()\n",
    "\n",
    "    return result_query[0][0]"
   ]
  },
  {
   "cell_type": "code",
   "execution_count": 8,
   "metadata": {},
   "outputs": [],
   "source": [
    "def consultar_fonte_dados(nome_site, site_fonte_dados, nome_fonte_dados):\n",
    "    \n",
    "    conn = engine.connect()\n",
    "\n",
    "    consulta_sql = \"\"\"\n",
    "        SELECT id_Fonte_Dados\n",
    "        FROM Internet_db.Fonte_Dados_Internet\n",
    "        WHERE Site_Fonte_Dados = '\"\"\" +  site_fonte_dados  + \"\"\"'\n",
    "\n",
    "    \"\"\"\n",
    "\n",
    "    with engine.begin() as conn:\n",
    "        result_query = conn.execute(consulta_sql).fetchall()\n",
    "\n",
    "\n",
    "    if len(result_query) != 0:\n",
    "        return result_query[0][0]\n",
    "\n",
    "    else:\n",
    "        print('Fonte de dados não está previamente cadastrada')\n",
    "        print('Fonte de dados será cadastrada agora')\n",
    "\n",
    "        return cadastrar_fonte_dados (nome_site, site_fonte_dados, nome_fonte_dados)"
   ]
  },
  {
   "cell_type": "code",
   "execution_count": 9,
   "metadata": {},
   "outputs": [],
   "source": [
    "def inserir_dados_stg(nome_data_frame, nome_banco_tabela, nome_tabela, nome_banco_procedure, nome_procedure):\n",
    "\n",
    "    # Inserir dados tabela\n",
    "    with engine.connect() as conn, conn.begin():\n",
    "        nome_data_frame.to_sql(nome_tabela, conn, if_exists='replace', index=False)\n",
    "\n",
    "\n",
    "\n",
    "    ## Executar procedure versionamento\n",
    "    conexao = engine.connect()\n",
    "\n",
    "    consulta_sql = \"CALL \"  + nome_banco_procedure + \".\" + nome_procedure + \"();\"\n",
    "\n",
    "    with engine.begin() as conn:\n",
    "        conn.execute(consulta_sql)\n",
    "\n",
    "\n",
    "\n",
    "    ## Deletar dados tabela\n",
    "\n",
    "    consulta_sql = \"\"\"\n",
    "        DELETE FROM \"\"\" + nome_banco_tabela + \"\"\".\"\"\" + nome_tabela + \"\"\"\n",
    "        WHERE TRUE;\n",
    "    \"\"\"\n",
    "\n",
    "    with engine.begin() as conn:\n",
    "        conn.execute(consulta_sql)\n",
    "\n",
    "    conexao.close()"
   ]
  },
  {
   "cell_type": "code",
   "execution_count": 10,
   "metadata": {},
   "outputs": [],
   "source": [
    "def importar_arquivo_zip(url_name, local_file_name):\n",
    "    with urllib.request.urlopen(url_name) as response, open(local_file_name, 'wb') as out_file:\n",
    "        shutil.copyfileobj(response, out_file)\n",
    "        with zipfile.ZipFile(local_file_name) as zf:\n",
    "            zf.extractall()"
   ]
  },
  {
   "cell_type": "code",
   "execution_count": 11,
   "metadata": {},
   "outputs": [],
   "source": [
    "def renomear_colunas(nome_df, nomes_colunas):\n",
    "    for i in range(0, len(nomes_colunas), 1):\n",
    "        #print (nomes_colunas[i])\n",
    "        nome_df.rename(columns = {\n",
    "            nome_df.columns[i] : nomes_colunas[i]\n",
    "        }, inplace = True) "
   ]
  },
  {
   "cell_type": "code",
   "execution_count": null,
   "metadata": {},
   "outputs": [],
   "source": []
  },
  {
   "cell_type": "code",
   "execution_count": null,
   "metadata": {},
   "outputs": [],
   "source": []
  },
  {
   "cell_type": "markdown",
   "metadata": {},
   "source": [
    "## Criar conexão banco dados"
   ]
  },
  {
   "cell_type": "code",
   "execution_count": 12,
   "metadata": {},
   "outputs": [],
   "source": [
    "#texto = open('/root/airflow/scripts/config/conexao_db.txt')\n",
    "texto = open('conexao_db.txt')\n",
    "conexao_db = texto.read()\n",
    "texto.close()"
   ]
  },
  {
   "cell_type": "code",
   "execution_count": 13,
   "metadata": {},
   "outputs": [],
   "source": [
    "engine = create_engine(conexao_db, encoding='utf-8')"
   ]
  },
  {
   "cell_type": "code",
   "execution_count": 14,
   "metadata": {},
   "outputs": [
    {
     "name": "stdout",
     "output_type": "stream",
     "text": [
      "['stg_Capital_Country', 'stg_Code_Country', 'stg_Country', 'stg_DDD_Municipio', 'stg_Distrito_IBGE', 'stg_Estado_IBGE', 'stg_Fonte_Dados', 'stg_Mesoregiao_IBGE', 'stg_Microregicao_IBGE', 'stg_Municipio_IBGE', 'stg_Pais_IBGE', 'stg_Population_Country', 'stg_Regiao_IBGE', 'stg_Regiao_Imediata_IBGE', 'stg_Regiao_Intermediaria_IBGE', 'stg_Regiao_Mundo_IBGE', 'stg_Sub_Distrito_IBGE', 'stg_Subregiao_Mundo_IBGE']\n"
     ]
    }
   ],
   "source": [
    "print(engine.table_names())"
   ]
  },
  {
   "cell_type": "code",
   "execution_count": null,
   "metadata": {},
   "outputs": [],
   "source": []
  },
  {
   "cell_type": "markdown",
   "metadata": {},
   "source": [
    "### Datas de vigências"
   ]
  },
  {
   "cell_type": "code",
   "execution_count": 15,
   "metadata": {},
   "outputs": [],
   "source": [
    "data_inicio_vigencia = datetime.now().strftime('%Y-%m-%d')"
   ]
  },
  {
   "cell_type": "code",
   "execution_count": 16,
   "metadata": {},
   "outputs": [],
   "source": [
    "data_fim_vigencia = '9999-12-31'"
   ]
  },
  {
   "cell_type": "code",
   "execution_count": null,
   "metadata": {},
   "outputs": [],
   "source": []
  },
  {
   "cell_type": "markdown",
   "metadata": {},
   "source": [
    "# Importar base de dados de países"
   ]
  },
  {
   "cell_type": "code",
   "execution_count": 17,
   "metadata": {},
   "outputs": [],
   "source": [
    "url_download = r'https://ftp.ibge.gov.br/Pib_Municipios/2018/base/base_de_dados_2010_2018_xls.zip'\n",
    "nome_arquivo_local = 'pib_2010_2018.zip'\n",
    "nome_arquivo_original = 'PIB dos Municípios - base de dados 2010-2018.xls'"
   ]
  },
  {
   "cell_type": "code",
   "execution_count": 18,
   "metadata": {},
   "outputs": [],
   "source": [
    "importar_arquivo_zip(url_download, nome_arquivo_local)\n",
    "data_extracao = datetime.now()"
   ]
  },
  {
   "cell_type": "code",
   "execution_count": null,
   "metadata": {},
   "outputs": [],
   "source": [
    "archive = zipfile.ZipFile(nome_arquivo_local, 'r')"
   ]
  },
  {
   "cell_type": "code",
   "execution_count": 104,
   "metadata": {},
   "outputs": [],
   "source": [
    "local_zip_file = archive.open(nome_arquivo_original)"
   ]
  },
  {
   "cell_type": "code",
   "execution_count": 105,
   "metadata": {},
   "outputs": [],
   "source": [
    "pib = pd.read_excel(local_zip_file)"
   ]
  },
  {
   "cell_type": "code",
   "execution_count": null,
   "metadata": {},
   "outputs": [],
   "source": []
  },
  {
   "cell_type": "markdown",
   "metadata": {},
   "source": [
    "### Identificar ID Fonte de dados"
   ]
  },
  {
   "cell_type": "code",
   "execution_count": 106,
   "metadata": {},
   "outputs": [],
   "source": [
    "nome_site = 'IBGE'\n",
    "site_fonte_dados = url_download\n",
    "nome_fonte_dados = 'Produto Interno Bruto dos Municípios - 2018'"
   ]
  },
  {
   "cell_type": "code",
   "execution_count": 107,
   "metadata": {},
   "outputs": [],
   "source": [
    "id_fonte_dados = consultar_fonte_dados(nome_site, site_fonte_dados, nome_fonte_dados)"
   ]
  },
  {
   "cell_type": "code",
   "execution_count": 108,
   "metadata": {},
   "outputs": [
    {
     "name": "stdout",
     "output_type": "stream",
     "text": [
      "id_fonte_dados: 21\n"
     ]
    }
   ],
   "source": [
    "print('id_fonte_dados:' , id_fonte_dados)"
   ]
  },
  {
   "cell_type": "code",
   "execution_count": null,
   "metadata": {},
   "outputs": [],
   "source": []
  },
  {
   "cell_type": "markdown",
   "metadata": {},
   "source": [
    "## Conversões"
   ]
  },
  {
   "cell_type": "raw",
   "metadata": {},
   "source": [
    "pib.info()"
   ]
  },
  {
   "cell_type": "code",
   "execution_count": 109,
   "metadata": {},
   "outputs": [],
   "source": [
    "nomes_colunas = [\n",
    "    'ano_PIB'\n",
    "    ,'id_Regiao'\n",
    "    ,'nome_Regiao'\n",
    "    ,'id_Estado'\n",
    "    ,'sigla_Estado'\n",
    "    ,'nome_Estado'\n",
    "    ,'id_Municipio'\n",
    "    ,'nome_Municipio'\n",
    "    ,'nome_Regiao_Metropolitana'\n",
    "    ,'id_Mesoregiao'\n",
    "    ,'nome_Mesoregiao'\n",
    "    ,'id_Microregiao'\n",
    "    ,'nome_Microregiao'\n",
    "    ,'id_Regiao_Imediata'\n",
    "    ,'nome_Regiao_Imediata'\n",
    "    ,'municipio_Regiao_Imediata'\n",
    "    ,'id_Regiao_Intermediaria'\n",
    "    ,'nome_Regiao_Intermediaria'\n",
    "    ,'municipio_Regiao_Intermediaria'\n",
    "    ,'codigo_Concentracao_Urbana'\n",
    "    ,'nome_Concentracao_Urbana'\n",
    "    ,'tipo_Concentracao_Urbana'\n",
    "    ,'codigo_Arranjo_Populacional'\n",
    "    ,'nome_Arranjo_Populacional'\n",
    "    ,'hierarquia_Urbana'\n",
    "    ,'hierarquia_Urbana_Principais'\n",
    "    ,'codigo_Regiao_Rural'\n",
    "    ,'nome_Regiao_Rural'\n",
    "    ,'nome_Regiao_Rural_Nucleo'\n",
    "    ,'amazonia_Legal'\n",
    "    ,'semiarido'\n",
    "    ,'regiao_Sao_Paulo'\n",
    "    ,'valor_Bruto_Agropecuaria'\n",
    "    ,'valor_Bruto_Industria'\n",
    "    ,'valor_Bruto_Servicos'\n",
    "    ,'valor_Bruto_Administracao_Publica'\n",
    "    ,'valor_Bruto_Total'\n",
    "    ,'valor_Impostos_Liquido'\n",
    "    ,'valor_PIB'\n",
    "    ,'valor_PIB_percapita'\n",
    "    ,'atividade_Primeiro_Maior_Valor'\n",
    "    ,'atividade_Segundo_Maior_Valor'\n",
    "    ,'atividade_Terceiro_Maior_Valor'\n",
    "]"
   ]
  },
  {
   "cell_type": "code",
   "execution_count": 110,
   "metadata": {},
   "outputs": [],
   "source": [
    "renomear_colunas(pib, nomes_colunas)"
   ]
  },
  {
   "cell_type": "code",
   "execution_count": null,
   "metadata": {},
   "outputs": [],
   "source": []
  },
  {
   "cell_type": "markdown",
   "metadata": {},
   "source": [
    "#### Ajustar colunas valore por 1000"
   ]
  },
  {
   "cell_type": "code",
   "execution_count": 111,
   "metadata": {},
   "outputs": [],
   "source": [
    "pib['valor_Bruto_Agropecuaria'] = pib['valor_Bruto_Agropecuaria'] *1000"
   ]
  },
  {
   "cell_type": "code",
   "execution_count": 112,
   "metadata": {},
   "outputs": [],
   "source": [
    "pib['valor_Bruto_Industria'] = pib['valor_Bruto_Industria'] *1000"
   ]
  },
  {
   "cell_type": "code",
   "execution_count": 113,
   "metadata": {},
   "outputs": [],
   "source": [
    "pib['valor_Bruto_Servicos'] = pib['valor_Bruto_Servicos'] *1000"
   ]
  },
  {
   "cell_type": "code",
   "execution_count": 114,
   "metadata": {},
   "outputs": [],
   "source": [
    "pib['valor_Bruto_Administracao_Publica'] = pib['valor_Bruto_Administracao_Publica'] *1000"
   ]
  },
  {
   "cell_type": "code",
   "execution_count": 115,
   "metadata": {},
   "outputs": [],
   "source": [
    "pib['valor_Bruto_Total'] = pib['valor_Bruto_Total'] *1000"
   ]
  },
  {
   "cell_type": "code",
   "execution_count": 116,
   "metadata": {},
   "outputs": [],
   "source": [
    "pib['valor_Impostos_Liquido'] = pib['valor_Impostos_Liquido'] *1000"
   ]
  },
  {
   "cell_type": "code",
   "execution_count": 117,
   "metadata": {},
   "outputs": [],
   "source": [
    "pib['valor_PIB'] = pib['valor_PIB'] *1000"
   ]
  },
  {
   "cell_type": "code",
   "execution_count": null,
   "metadata": {},
   "outputs": [],
   "source": []
  },
  {
   "cell_type": "code",
   "execution_count": 118,
   "metadata": {},
   "outputs": [],
   "source": [
    "pib['populacao_Projetada'] = pib['valor_PIB'] / pib['valor_PIB_percapita'] "
   ]
  },
  {
   "cell_type": "code",
   "execution_count": 119,
   "metadata": {},
   "outputs": [],
   "source": [
    "pib['populacao_Projetada'] = pib['populacao_Projetada'].round(0)"
   ]
  },
  {
   "cell_type": "code",
   "execution_count": null,
   "metadata": {},
   "outputs": [],
   "source": []
  },
  {
   "cell_type": "code",
   "execution_count": 120,
   "metadata": {},
   "outputs": [],
   "source": [
    "pib['tipo_Valor'] = 'Preço corrente do ano referência'"
   ]
  },
  {
   "cell_type": "code",
   "execution_count": 134,
   "metadata": {},
   "outputs": [],
   "source": [
    "pib['data_Extracao'] = data_extracao"
   ]
  },
  {
   "cell_type": "code",
   "execution_count": 122,
   "metadata": {},
   "outputs": [],
   "source": [
    "pib['ano_Referencia'] = 2018"
   ]
  },
  {
   "cell_type": "code",
   "execution_count": 123,
   "metadata": {},
   "outputs": [],
   "source": [
    "pib['id_Fonte_Dados'] = id_fonte_dados"
   ]
  },
  {
   "cell_type": "code",
   "execution_count": 135,
   "metadata": {},
   "outputs": [],
   "source": [
    "pib['data_Inicio_Vigencia'] = data_inicio_vigencia"
   ]
  },
  {
   "cell_type": "code",
   "execution_count": 136,
   "metadata": {},
   "outputs": [],
   "source": [
    "pib['data_Fim_Vigencia'] = data_fim_vigencia"
   ]
  },
  {
   "cell_type": "code",
   "execution_count": null,
   "metadata": {},
   "outputs": [],
   "source": []
  },
  {
   "cell_type": "code",
   "execution_count": 133,
   "metadata": {},
   "outputs": [
    {
     "data": {
      "text/html": [
       "<div>\n",
       "<style scoped>\n",
       "    .dataframe tbody tr th:only-of-type {\n",
       "        vertical-align: middle;\n",
       "    }\n",
       "\n",
       "    .dataframe tbody tr th {\n",
       "        vertical-align: top;\n",
       "    }\n",
       "\n",
       "    .dataframe thead th {\n",
       "        text-align: right;\n",
       "    }\n",
       "</style>\n",
       "<table border=\"1\" class=\"dataframe\">\n",
       "  <thead>\n",
       "    <tr style=\"text-align: right;\">\n",
       "      <th></th>\n",
       "      <th>valor_Bruto_Agropecuaria</th>\n",
       "      <th>valor_Bruto_Industria</th>\n",
       "      <th>valor_Bruto_Servicos</th>\n",
       "      <th>valor_Bruto_Administracao_Publica</th>\n",
       "      <th>valor_Bruto_Total</th>\n",
       "      <th>valor_Impostos_Liquido</th>\n",
       "      <th>valor_PIB</th>\n",
       "      <th>valor_PIB_percapita</th>\n",
       "      <th>atividade_Primeiro_Maior_Valor</th>\n",
       "      <th>atividade_Segundo_Maior_Valor</th>\n",
       "      <th>atividade_Terceiro_Maior_Valor</th>\n",
       "      <th>populacao_Projetada</th>\n",
       "    </tr>\n",
       "  </thead>\n",
       "  <tbody>\n",
       "    <tr>\n",
       "      <th>1751</th>\n",
       "      <td>879428.0</td>\n",
       "      <td>1.120482e+06</td>\n",
       "      <td>2.509983e+06</td>\n",
       "      <td>1.019363e+07</td>\n",
       "      <td>1.470352e+07</td>\n",
       "      <td>5.497330e+05</td>\n",
       "      <td>1.525326e+07</td>\n",
       "      <td>6704.73</td>\n",
       "      <td>Administração, defesa, educação e saúde públic...</td>\n",
       "      <td>Demais serviços</td>\n",
       "      <td>Eletricidade e gás, água, esgoto, atividades d...</td>\n",
       "      <td>2275.0</td>\n",
       "    </tr>\n",
       "    <tr>\n",
       "      <th>1752</th>\n",
       "      <td>23759237.0</td>\n",
       "      <td>7.195914e+06</td>\n",
       "      <td>2.850722e+07</td>\n",
       "      <td>5.961338e+07</td>\n",
       "      <td>1.190757e+08</td>\n",
       "      <td>5.356383e+06</td>\n",
       "      <td>1.244321e+08</td>\n",
       "      <td>6201.14</td>\n",
       "      <td>Administração, defesa, educação e saúde públic...</td>\n",
       "      <td>Demais serviços</td>\n",
       "      <td>Agricultura, inclusive apoio à agricultura e a...</td>\n",
       "      <td>20066.0</td>\n",
       "    </tr>\n",
       "    <tr>\n",
       "      <th>1753</th>\n",
       "      <td>3547706.0</td>\n",
       "      <td>1.662170e+09</td>\n",
       "      <td>4.975889e+09</td>\n",
       "      <td>1.702071e+09</td>\n",
       "      <td>8.343678e+09</td>\n",
       "      <td>1.260267e+09</td>\n",
       "      <td>9.603945e+09</td>\n",
       "      <td>16821.37</td>\n",
       "      <td>Demais serviços</td>\n",
       "      <td>Administração, defesa, educação e saúde públic...</td>\n",
       "      <td>Comércio e reparação de veículos automotores e...</td>\n",
       "      <td>570937.0</td>\n",
       "    </tr>\n",
       "  </tbody>\n",
       "</table>\n",
       "</div>"
      ],
      "text/plain": [
       "      valor_Bruto_Agropecuaria  valor_Bruto_Industria  valor_Bruto_Servicos  \\\n",
       "1751                  879428.0           1.120482e+06          2.509983e+06   \n",
       "1752                23759237.0           7.195914e+06          2.850722e+07   \n",
       "1753                 3547706.0           1.662170e+09          4.975889e+09   \n",
       "\n",
       "      valor_Bruto_Administracao_Publica  valor_Bruto_Total  \\\n",
       "1751                       1.019363e+07       1.470352e+07   \n",
       "1752                       5.961338e+07       1.190757e+08   \n",
       "1753                       1.702071e+09       8.343678e+09   \n",
       "\n",
       "      valor_Impostos_Liquido     valor_PIB  valor_PIB_percapita  \\\n",
       "1751            5.497330e+05  1.525326e+07              6704.73   \n",
       "1752            5.356383e+06  1.244321e+08              6201.14   \n",
       "1753            1.260267e+09  9.603945e+09             16821.37   \n",
       "\n",
       "                         atividade_Primeiro_Maior_Valor  \\\n",
       "1751  Administração, defesa, educação e saúde públic...   \n",
       "1752  Administração, defesa, educação e saúde públic...   \n",
       "1753                                    Demais serviços   \n",
       "\n",
       "                          atividade_Segundo_Maior_Valor  \\\n",
       "1751                                    Demais serviços   \n",
       "1752                                    Demais serviços   \n",
       "1753  Administração, defesa, educação e saúde públic...   \n",
       "\n",
       "                         atividade_Terceiro_Maior_Valor  populacao_Projetada  \n",
       "1751  Eletricidade e gás, água, esgoto, atividades d...               2275.0  \n",
       "1752  Agricultura, inclusive apoio à agricultura e a...              20066.0  \n",
       "1753  Comércio e reparação de veículos automotores e...             570937.0  "
      ]
     },
     "execution_count": 133,
     "metadata": {},
     "output_type": "execute_result"
    }
   ],
   "source": [
    "pib[(pib['sigla_Estado'] == 'SE') & (pib['ano_PIB'] == 2010)].iloc[:, -18: -6].head(3)"
   ]
  },
  {
   "cell_type": "markdown",
   "metadata": {},
   "source": [
    "### Selecionar colunas especificas"
   ]
  },
  {
   "cell_type": "code",
   "execution_count": 138,
   "metadata": {},
   "outputs": [],
   "source": [
    "nomes_colunas = [\n",
    "    'id_Fonte_Dados'\n",
    "    ,'id_Regiao'\n",
    "    ,'id_Estado'\n",
    "    ,'id_Municipio'\n",
    "    ,'id_Mesoregiao'\n",
    "    ,'id_Microregiao'\n",
    "    ,'id_Regiao_Imediata'\n",
    "    ,'id_Regiao_Intermediaria'\n",
    "    ,'ano_Referencia'\n",
    "    ,'ano_PIB'\n",
    "    ,'valor_Bruto_Agropecuaria'\n",
    "    ,'valor_Bruto_Industria'\n",
    "    ,'valor_Bruto_Servicos'\n",
    "    ,'valor_Bruto_Administracao_Publica'\n",
    "    ,'valor_Bruto_Total'\n",
    "    ,'valor_Impostos_Liquido'\n",
    "    ,'valor_PIB'\n",
    "    ,'valor_PIB_percapita'\n",
    "    ,'populacao_Projetada'\n",
    "    ,'tipo_Valor'\n",
    "    ,'atividade_Primeiro_Maior_Valor'\n",
    "    ,'atividade_Segundo_Maior_Valor'\n",
    "    ,'atividade_Terceiro_Maior_Valor'\n",
    "    ,'data_Extracao'\n",
    "    ,'data_Inicio_Vigencia'\n",
    "    ,'data_Fim_Vigencia'\n",
    "]"
   ]
  },
  {
   "cell_type": "code",
   "execution_count": 140,
   "metadata": {},
   "outputs": [],
   "source": [
    "pib = pib[nomes_colunas]"
   ]
  },
  {
   "cell_type": "code",
   "execution_count": 141,
   "metadata": {},
   "outputs": [
    {
     "data": {
      "text/html": [
       "<div>\n",
       "<style scoped>\n",
       "    .dataframe tbody tr th:only-of-type {\n",
       "        vertical-align: middle;\n",
       "    }\n",
       "\n",
       "    .dataframe tbody tr th {\n",
       "        vertical-align: top;\n",
       "    }\n",
       "\n",
       "    .dataframe thead th {\n",
       "        text-align: right;\n",
       "    }\n",
       "</style>\n",
       "<table border=\"1\" class=\"dataframe\">\n",
       "  <thead>\n",
       "    <tr style=\"text-align: right;\">\n",
       "      <th></th>\n",
       "      <th>id_Fonte_Dados</th>\n",
       "      <th>id_Regiao</th>\n",
       "      <th>id_Estado</th>\n",
       "      <th>id_Municipio</th>\n",
       "      <th>id_Mesoregiao</th>\n",
       "      <th>id_Microregiao</th>\n",
       "      <th>id_Regiao_Imediata</th>\n",
       "      <th>id_Regiao_Intermediaria</th>\n",
       "      <th>ano_Referencia</th>\n",
       "      <th>ano</th>\n",
       "      <th>...</th>\n",
       "      <th>valor_PIB</th>\n",
       "      <th>valor_PIB_percapita</th>\n",
       "      <th>populacao_Projetada</th>\n",
       "      <th>tipo_Valor</th>\n",
       "      <th>atividade_Primeiro_Maior_Valor</th>\n",
       "      <th>atividade_Segundo_Maior_Valor</th>\n",
       "      <th>atividade_Terceiro_Maior_Valor</th>\n",
       "      <th>data_Extracao</th>\n",
       "      <th>data_Inicio_Vigencia</th>\n",
       "      <th>data_Fim_Vigencia</th>\n",
       "    </tr>\n",
       "  </thead>\n",
       "  <tbody>\n",
       "    <tr>\n",
       "      <th>0</th>\n",
       "      <td>21</td>\n",
       "      <td>1</td>\n",
       "      <td>11</td>\n",
       "      <td>1100015</td>\n",
       "      <td>1102</td>\n",
       "      <td>11006</td>\n",
       "      <td>110005</td>\n",
       "      <td>1102</td>\n",
       "      <td>2018</td>\n",
       "      <td>2010</td>\n",
       "      <td>...</td>\n",
       "      <td>2.620769e+08</td>\n",
       "      <td>10731.18</td>\n",
       "      <td>24422.0</td>\n",
       "      <td>Preço corrente do ano referência</td>\n",
       "      <td>Administração, defesa, educação e saúde públic...</td>\n",
       "      <td>Pecuária, inclusive apoio à pecuária</td>\n",
       "      <td>Demais serviços</td>\n",
       "      <td>2021-07-14 12:26:49.125082</td>\n",
       "      <td>2021-07-14</td>\n",
       "      <td>9999-12-31</td>\n",
       "    </tr>\n",
       "    <tr>\n",
       "      <th>1</th>\n",
       "      <td>21</td>\n",
       "      <td>1</td>\n",
       "      <td>11</td>\n",
       "      <td>1100023</td>\n",
       "      <td>1102</td>\n",
       "      <td>11003</td>\n",
       "      <td>110002</td>\n",
       "      <td>1101</td>\n",
       "      <td>2018</td>\n",
       "      <td>2010</td>\n",
       "      <td>...</td>\n",
       "      <td>1.364694e+09</td>\n",
       "      <td>15103.86</td>\n",
       "      <td>90354.0</td>\n",
       "      <td>Preço corrente do ano referência</td>\n",
       "      <td>Administração, defesa, educação e saúde públic...</td>\n",
       "      <td>Demais serviços</td>\n",
       "      <td>Comércio e reparação de veículos automotores e...</td>\n",
       "      <td>2021-07-14 12:26:49.125082</td>\n",
       "      <td>2021-07-14</td>\n",
       "      <td>9999-12-31</td>\n",
       "    </tr>\n",
       "    <tr>\n",
       "      <th>2</th>\n",
       "      <td>21</td>\n",
       "      <td>1</td>\n",
       "      <td>11</td>\n",
       "      <td>1100031</td>\n",
       "      <td>1102</td>\n",
       "      <td>11008</td>\n",
       "      <td>110006</td>\n",
       "      <td>1102</td>\n",
       "      <td>2018</td>\n",
       "      <td>2010</td>\n",
       "      <td>...</td>\n",
       "      <td>6.961111e+07</td>\n",
       "      <td>11033.62</td>\n",
       "      <td>6309.0</td>\n",
       "      <td>Preço corrente do ano referência</td>\n",
       "      <td>Administração, defesa, educação e saúde públic...</td>\n",
       "      <td>Pecuária, inclusive apoio à pecuária</td>\n",
       "      <td>Demais serviços</td>\n",
       "      <td>2021-07-14 12:26:49.125082</td>\n",
       "      <td>2021-07-14</td>\n",
       "      <td>9999-12-31</td>\n",
       "    </tr>\n",
       "    <tr>\n",
       "      <th>3</th>\n",
       "      <td>21</td>\n",
       "      <td>1</td>\n",
       "      <td>11</td>\n",
       "      <td>1100049</td>\n",
       "      <td>1102</td>\n",
       "      <td>11006</td>\n",
       "      <td>110005</td>\n",
       "      <td>1102</td>\n",
       "      <td>2018</td>\n",
       "      <td>2010</td>\n",
       "      <td>...</td>\n",
       "      <td>1.186494e+09</td>\n",
       "      <td>15095.15</td>\n",
       "      <td>78601.0</td>\n",
       "      <td>Preço corrente do ano referência</td>\n",
       "      <td>Administração, defesa, educação e saúde públic...</td>\n",
       "      <td>Demais serviços</td>\n",
       "      <td>Comércio e reparação de veículos automotores e...</td>\n",
       "      <td>2021-07-14 12:26:49.125082</td>\n",
       "      <td>2021-07-14</td>\n",
       "      <td>9999-12-31</td>\n",
       "    </tr>\n",
       "    <tr>\n",
       "      <th>4</th>\n",
       "      <td>21</td>\n",
       "      <td>1</td>\n",
       "      <td>11</td>\n",
       "      <td>1100056</td>\n",
       "      <td>1102</td>\n",
       "      <td>11008</td>\n",
       "      <td>110006</td>\n",
       "      <td>1102</td>\n",
       "      <td>2018</td>\n",
       "      <td>2010</td>\n",
       "      <td>...</td>\n",
       "      <td>2.220212e+08</td>\n",
       "      <td>13037.06</td>\n",
       "      <td>17030.0</td>\n",
       "      <td>Preço corrente do ano referência</td>\n",
       "      <td>Administração, defesa, educação e saúde públic...</td>\n",
       "      <td>Demais serviços</td>\n",
       "      <td>Comércio e reparação de veículos automotores e...</td>\n",
       "      <td>2021-07-14 12:26:49.125082</td>\n",
       "      <td>2021-07-14</td>\n",
       "      <td>9999-12-31</td>\n",
       "    </tr>\n",
       "  </tbody>\n",
       "</table>\n",
       "<p>5 rows × 26 columns</p>\n",
       "</div>"
      ],
      "text/plain": [
       "   id_Fonte_Dados  id_Regiao  id_Estado  id_Municipio  id_Mesoregiao  \\\n",
       "0              21          1         11       1100015           1102   \n",
       "1              21          1         11       1100023           1102   \n",
       "2              21          1         11       1100031           1102   \n",
       "3              21          1         11       1100049           1102   \n",
       "4              21          1         11       1100056           1102   \n",
       "\n",
       "   id_Microregiao  id_Regiao_Imediata  id_Regiao_Intermediaria  \\\n",
       "0           11006              110005                     1102   \n",
       "1           11003              110002                     1101   \n",
       "2           11008              110006                     1102   \n",
       "3           11006              110005                     1102   \n",
       "4           11008              110006                     1102   \n",
       "\n",
       "   ano_Referencia   ano  ...     valor_PIB  valor_PIB_percapita  \\\n",
       "0            2018  2010  ...  2.620769e+08             10731.18   \n",
       "1            2018  2010  ...  1.364694e+09             15103.86   \n",
       "2            2018  2010  ...  6.961111e+07             11033.62   \n",
       "3            2018  2010  ...  1.186494e+09             15095.15   \n",
       "4            2018  2010  ...  2.220212e+08             13037.06   \n",
       "\n",
       "   populacao_Projetada                        tipo_Valor  \\\n",
       "0              24422.0  Preço corrente do ano referência   \n",
       "1              90354.0  Preço corrente do ano referência   \n",
       "2               6309.0  Preço corrente do ano referência   \n",
       "3              78601.0  Preço corrente do ano referência   \n",
       "4              17030.0  Preço corrente do ano referência   \n",
       "\n",
       "                      atividade_Primeiro_Maior_Valor  \\\n",
       "0  Administração, defesa, educação e saúde públic...   \n",
       "1  Administração, defesa, educação e saúde públic...   \n",
       "2  Administração, defesa, educação e saúde públic...   \n",
       "3  Administração, defesa, educação e saúde públic...   \n",
       "4  Administração, defesa, educação e saúde públic...   \n",
       "\n",
       "          atividade_Segundo_Maior_Valor  \\\n",
       "0  Pecuária, inclusive apoio à pecuária   \n",
       "1                       Demais serviços   \n",
       "2  Pecuária, inclusive apoio à pecuária   \n",
       "3                       Demais serviços   \n",
       "4                       Demais serviços   \n",
       "\n",
       "                      atividade_Terceiro_Maior_Valor  \\\n",
       "0                                    Demais serviços   \n",
       "1  Comércio e reparação de veículos automotores e...   \n",
       "2                                    Demais serviços   \n",
       "3  Comércio e reparação de veículos automotores e...   \n",
       "4  Comércio e reparação de veículos automotores e...   \n",
       "\n",
       "               data_Extracao  data_Inicio_Vigencia data_Fim_Vigencia  \n",
       "0 2021-07-14 12:26:49.125082            2021-07-14        9999-12-31  \n",
       "1 2021-07-14 12:26:49.125082            2021-07-14        9999-12-31  \n",
       "2 2021-07-14 12:26:49.125082            2021-07-14        9999-12-31  \n",
       "3 2021-07-14 12:26:49.125082            2021-07-14        9999-12-31  \n",
       "4 2021-07-14 12:26:49.125082            2021-07-14        9999-12-31  \n",
       "\n",
       "[5 rows x 26 columns]"
      ]
     },
     "execution_count": 141,
     "metadata": {},
     "output_type": "execute_result"
    }
   ],
   "source": [
    "pib.head()"
   ]
  },
  {
   "cell_type": "markdown",
   "metadata": {},
   "source": [
    "### Inserir dados"
   ]
  },
  {
   "cell_type": "code",
   "execution_count": 142,
   "metadata": {},
   "outputs": [],
   "source": [
    "with engine.connect() as conn, conn.begin():\n",
    "    pib.to_sql('stg_PIB_Municipio_IBGE', conn, if_exists='replace', index=False)\n",
    "    "
   ]
  },
  {
   "cell_type": "raw",
   "metadata": {},
   "source": [
    "inserir_dados_stg(pib, 'Stage', 'stg_PIB_Municipio_IBGE', 'Stage', 'Versiona_stg_PIB_Municipio_IBGE')"
   ]
  },
  {
   "cell_type": "code",
   "execution_count": null,
   "metadata": {},
   "outputs": [],
   "source": []
  },
  {
   "cell_type": "markdown",
   "metadata": {},
   "source": [
    "### Gerar informação de Subregião país"
   ]
  },
  {
   "cell_type": "raw",
   "metadata": {},
   "source": [
    "subregiao_paises = paises.groupby([\n",
    "    'id_Fonte_Dados'\n",
    "    ,'id_Subregiao_Mundo'\n",
    "    ,'nome_Subregiao_Mundo'\n",
    "    ,'Data_Inicio_Vigencia'\n",
    "    ,'Data_Fim_Vigencia'\n",
    "]).size().reset_index()"
   ]
  },
  {
   "cell_type": "raw",
   "metadata": {},
   "source": [
    "subregiao_paises['Data_Extracao'] = data_extracao"
   ]
  },
  {
   "cell_type": "raw",
   "metadata": {},
   "source": [
    "# Selecionar colunas\n",
    "subregiao_paises = subregiao_paises[[\n",
    "    'id_Fonte_Dados'\n",
    "    ,'id_Subregiao_Mundo'\n",
    "    ,'nome_Subregiao_Mundo'\n",
    "    ,'Data_Extracao'\n",
    "    ,'Data_Inicio_Vigencia'\n",
    "    ,'Data_Fim_Vigencia'    \n",
    "]]"
   ]
  },
  {
   "cell_type": "raw",
   "metadata": {},
   "source": []
  },
  {
   "cell_type": "raw",
   "metadata": {},
   "source": [
    "### Inserir dados"
   ]
  },
  {
   "cell_type": "raw",
   "metadata": {},
   "source": [
    "inserir_dados_stg(subregiao_paises, 'Stage', 'stg_Subregiao_Mundo_IBGE', 'Stage', 'Versiona_stg_Subregiao_Mundo_IBGE')"
   ]
  },
  {
   "cell_type": "code",
   "execution_count": null,
   "metadata": {},
   "outputs": [],
   "source": []
  },
  {
   "cell_type": "code",
   "execution_count": null,
   "metadata": {},
   "outputs": [],
   "source": []
  },
  {
   "cell_type": "code",
   "execution_count": null,
   "metadata": {},
   "outputs": [],
   "source": [
    "#Fim da execução do notebook\n",
    "end_general = datetime.now()"
   ]
  },
  {
   "cell_type": "code",
   "execution_count": null,
   "metadata": {},
   "outputs": [],
   "source": [
    "# Write the DataFrame to a BigQuery table\n",
    "\n",
    "print(\"Tempo total notebook \" + str(end_general - start_general))"
   ]
  },
  {
   "cell_type": "code",
   "execution_count": null,
   "metadata": {},
   "outputs": [],
   "source": []
  }
 ],
 "metadata": {
  "kernelspec": {
   "display_name": "Python 3",
   "language": "python",
   "name": "python3"
  },
  "language_info": {
   "codemirror_mode": {
    "name": "ipython",
    "version": 3
   },
   "file_extension": ".py",
   "mimetype": "text/x-python",
   "name": "python",
   "nbconvert_exporter": "python",
   "pygments_lexer": "ipython3",
   "version": "3.7.3"
  }
 },
 "nbformat": 4,
 "nbformat_minor": 4
}
