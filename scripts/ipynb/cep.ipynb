{
 "cells": [
  {
   "cell_type": "code",
   "execution_count": 1,
   "metadata": {},
   "outputs": [],
   "source": [
    "import time\n",
    "import json\n",
    "import requests\n",
    "import pandas as pd\n",
    "from pandas.io.json import json_normalize\n",
    "import numpy as np\n",
    "import os"
   ]
  },
  {
   "cell_type": "code",
   "execution_count": 2,
   "metadata": {},
   "outputs": [],
   "source": [
    "from datetime import datetime"
   ]
  },
  {
   "cell_type": "code",
   "execution_count": 3,
   "metadata": {},
   "outputs": [],
   "source": [
    "from pandas.io import sql\n",
    "from sqlalchemy import create_engine"
   ]
  },
  {
   "cell_type": "code",
   "execution_count": 4,
   "metadata": {},
   "outputs": [],
   "source": [
    "path_notebook = os.getcwd()"
   ]
  },
  {
   "cell_type": "code",
   "execution_count": 5,
   "metadata": {},
   "outputs": [],
   "source": [
    "#Inicio da execução do notebook\n",
    "start_general = datetime.now()"
   ]
  },
  {
   "cell_type": "code",
   "execution_count": null,
   "metadata": {},
   "outputs": [],
   "source": []
  },
  {
   "cell_type": "markdown",
   "metadata": {},
   "source": [
    "## Definir funções"
   ]
  },
  {
   "cell_type": "code",
   "execution_count": 6,
   "metadata": {},
   "outputs": [],
   "source": [
    "def cadastrar_fonte_dados (nome_site, site_fonte_dados, nome_fonte_dados):\n",
    "    \n",
    "    fonte_dados = [[nome_site, site_fonte_dados, nome_fonte_dados]]\n",
    "\n",
    "    colunas = ['Nome_Site', 'Site_Fonte_Dados', 'Nome_Fonte_Dados']\n",
    "\n",
    "    fonte_dados = pd.DataFrame(fonte_dados, columns = colunas)\n",
    "\n",
    "    with engine.connect() as conn, conn.begin():\n",
    "        fonte_dados.to_sql('stg_Fonte_Dados', conn, if_exists='replace', index=False)\n",
    "\n",
    "\n",
    "    ## Executar procedure versionamento\n",
    "\n",
    "    conexao = engine.connect()\n",
    "\n",
    "    consulta_sql = \"CALL Stage.Versiona_stg_Fonte_Dados_Internet();\"\n",
    "\n",
    "    with engine.begin() as conn:\n",
    "        conn.execute(consulta_sql)\n",
    "\n",
    "\n",
    "    ## Deletar dados tabela stage\n",
    "\n",
    "    consulta_sql = \"\"\"\n",
    "        DELETE FROM Stage.stg_Fonte_Dados\n",
    "        WHERE TRUE;\n",
    "    \"\"\"\n",
    "\n",
    "    with engine.begin() as conn:\n",
    "        conn.execute(consulta_sql)\n",
    "\n",
    "    conexao.close()\n",
    "\n",
    "    ### Identificar ID Fonte de dados\n",
    "\n",
    "    conn = engine.connect()\n",
    "\n",
    "    consulta_sql = \"\"\"\n",
    "        SELECT id_Fonte_Dados\n",
    "        FROM Internet_db.Fonte_Dados_Internet\n",
    "        WHERE Site_Fonte_Dados = '\"\"\" +  url  + \"\"\"'\n",
    "\n",
    "    \"\"\"\n",
    "\n",
    "    with engine.begin() as conn:\n",
    "        result_query = conn.execute(consulta_sql).fetchall()\n",
    "\n",
    "    return result_query[0][0]"
   ]
  },
  {
   "cell_type": "code",
   "execution_count": 7,
   "metadata": {},
   "outputs": [],
   "source": [
    "def consultar_fonte_dados(nome_site, site_fonte_dados, nome_fonte_dados):\n",
    "    \n",
    "    conn = engine.connect()\n",
    "\n",
    "    consulta_sql = \"\"\"\n",
    "        SELECT id_Fonte_Dados\n",
    "        FROM Internet_db.Fonte_Dados_Internet\n",
    "        WHERE Site_Fonte_Dados = '\"\"\" +  site_fonte_dados  + \"\"\"'\n",
    "\n",
    "    \"\"\"\n",
    "\n",
    "    with engine.begin() as conn:\n",
    "        result_query = conn.execute(consulta_sql).fetchall()\n",
    "\n",
    "\n",
    "    if len(result_query) != 0:\n",
    "        return result_query[0][0]\n",
    "\n",
    "    else:\n",
    "        print('Fonte de dados não está previamente cadastrada')\n",
    "        print('Fonte de dados será cadastrada agora')\n",
    "\n",
    "        return cadastrar_fonte_dados (nome_site, site_fonte_dados, nome_fonte_dados)"
   ]
  },
  {
   "cell_type": "code",
   "execution_count": 8,
   "metadata": {},
   "outputs": [],
   "source": [
    "def inserir_dados_stg(nome_data_frame, nome_banco_tabela, nome_tabela, nome_banco_procedure, nome_procedure):\n",
    "\n",
    "    # Inserir dados tabela\n",
    "    with engine.connect() as conn, conn.begin():\n",
    "        nome_data_frame.to_sql(nome_tabela, conn, if_exists='replace', index=False)\n",
    "\n",
    "\n",
    "\n",
    "    ## Executar procedure versionamento\n",
    "    conexao = engine.connect()\n",
    "\n",
    "    consulta_sql = \"CALL \"  + nome_banco_procedure + \".\" + nome_procedure + \"();\"\n",
    "\n",
    "    with engine.begin() as conn:\n",
    "        conn.execute(consulta_sql)\n",
    "\n",
    "\n",
    "\n",
    "    ## Deletar dados tabela\n",
    "\n",
    "    consulta_sql = \"\"\"\n",
    "        DELETE FROM \"\"\" + nome_banco_tabela + \"\"\".\"\"\" + nome_tabela + \"\"\"\n",
    "        WHERE TRUE;\n",
    "    \"\"\"\n",
    "\n",
    "    with engine.begin() as conn:\n",
    "        conn.execute(consulta_sql)\n",
    "\n",
    "    conexao.close()"
   ]
  },
  {
   "cell_type": "code",
   "execution_count": null,
   "metadata": {},
   "outputs": [],
   "source": []
  },
  {
   "cell_type": "code",
   "execution_count": null,
   "metadata": {},
   "outputs": [],
   "source": []
  },
  {
   "cell_type": "markdown",
   "metadata": {},
   "source": [
    "## Criar conexão banco dados"
   ]
  },
  {
   "cell_type": "code",
   "execution_count": 14,
   "metadata": {},
   "outputs": [],
   "source": [
    "#texto = open('/root/airflow/scripts/config/conexao_db.txt')\n",
    "texto = open('conexao_db.txt')\n",
    "conexao_db = texto.read()\n",
    "texto.close()"
   ]
  },
  {
   "cell_type": "code",
   "execution_count": 15,
   "metadata": {},
   "outputs": [],
   "source": [
    "engine = create_engine(conexao_db, encoding='utf-8')"
   ]
  },
  {
   "cell_type": "code",
   "execution_count": 16,
   "metadata": {},
   "outputs": [
    {
     "name": "stdout",
     "output_type": "stream",
     "text": [
      "['stg_Capital_Country', 'stg_Code_Country', 'stg_Country', 'stg_DDD_Municipio', 'stg_Distrito_IBGE', 'stg_Estado_IBGE', 'stg_Fonte_Dados', 'stg_Mesoregiao_IBGE', 'stg_Microregicao_IBGE', 'stg_Municipio_IBGE', 'stg_Pais_IBGE', 'stg_Population_Country', 'stg_Regiao_IBGE', 'stg_Regiao_Imediata_IBGE', 'stg_Regiao_Intermediaria_IBGE', 'stg_Regiao_Mundo_IBGE', 'stg_Sub_Distrito_IBGE', 'stg_Subregiao_Mundo_IBGE']\n"
     ]
    }
   ],
   "source": [
    "print(engine.table_names())"
   ]
  },
  {
   "cell_type": "code",
   "execution_count": null,
   "metadata": {},
   "outputs": [],
   "source": []
  },
  {
   "cell_type": "markdown",
   "metadata": {},
   "source": [
    "### Datas de vigências"
   ]
  },
  {
   "cell_type": "code",
   "execution_count": 12,
   "metadata": {},
   "outputs": [],
   "source": [
    "data_inicio_vigencia = datetime.now().strftime('%Y-%m-%d')"
   ]
  },
  {
   "cell_type": "code",
   "execution_count": 13,
   "metadata": {},
   "outputs": [],
   "source": [
    "data_fim_vigencia = '9999-12-31'"
   ]
  },
  {
   "cell_type": "code",
   "execution_count": null,
   "metadata": {},
   "outputs": [],
   "source": []
  },
  {
   "cell_type": "markdown",
   "metadata": {},
   "source": [
    "# Importar base de dados de países"
   ]
  },
  {
   "cell_type": "code",
   "execution_count": 26,
   "metadata": {},
   "outputs": [],
   "source": [
    "url = 'https://terminaldeinformacao.com/wp-content/uploads/2019/01/Lista_de_CEPs.xlsx'\n",
    "cep = pd.read_excel(url)\n",
    "data_extracao = datetime.now()"
   ]
  },
  {
   "cell_type": "code",
   "execution_count": null,
   "metadata": {},
   "outputs": [],
   "source": []
  },
  {
   "cell_type": "markdown",
   "metadata": {},
   "source": [
    "### Identificar ID Fonte de dados"
   ]
  },
  {
   "cell_type": "code",
   "execution_count": 19,
   "metadata": {},
   "outputs": [],
   "source": [
    "nome_site = 'Terminal de Informação'\n",
    "site_fonte_dados = url\n",
    "nome_fonte_dados = 'Tabela com Lista de CEPs do Brasil'"
   ]
  },
  {
   "cell_type": "code",
   "execution_count": 20,
   "metadata": {},
   "outputs": [
    {
     "name": "stdout",
     "output_type": "stream",
     "text": [
      "Fonte de dados não está previamente cadastrada\n",
      "Fonte de dados será cadastrada agora\n"
     ]
    }
   ],
   "source": [
    "id_fonte_dados = consultar_fonte_dados(nome_site, site_fonte_dados, nome_fonte_dados)"
   ]
  },
  {
   "cell_type": "code",
   "execution_count": 21,
   "metadata": {},
   "outputs": [
    {
     "name": "stdout",
     "output_type": "stream",
     "text": [
      "id_fonte_dados: 20\n"
     ]
    }
   ],
   "source": [
    "print('id_fonte_dados:' , id_fonte_dados)"
   ]
  },
  {
   "cell_type": "code",
   "execution_count": null,
   "metadata": {},
   "outputs": [],
   "source": []
  },
  {
   "cell_type": "markdown",
   "metadata": {},
   "source": [
    "## Conversões"
   ]
  },
  {
   "cell_type": "code",
   "execution_count": 34,
   "metadata": {},
   "outputs": [],
   "source": [
    "#renomear colunas\n",
    "cep = cep.rename(columns={\n",
    "    'Estado':'sigla_Estado'\n",
    "    ,'Localidade':'nome_Municipio'\n",
    "    ,'CEP Inicial':'CEP_Inicial'\n",
    "    ,'CEP Final' : 'CEP_Final'\n",
    "    ,'Situação' : 'situacao'\n",
    "    ,'Tipo de Faixa' : 'tipo_Faixa'\n",
    "})"
   ]
  },
  {
   "cell_type": "code",
   "execution_count": 27,
   "metadata": {},
   "outputs": [],
   "source": [
    "cep['Data_Extracao'] = data_extracao"
   ]
  },
  {
   "cell_type": "code",
   "execution_count": 28,
   "metadata": {},
   "outputs": [],
   "source": [
    "cep['id_Fonte_Dados'] = id_fonte_dados"
   ]
  },
  {
   "cell_type": "code",
   "execution_count": 29,
   "metadata": {},
   "outputs": [],
   "source": [
    "cep['Data_Inicio_Vigencia'] = data_inicio_vigencia"
   ]
  },
  {
   "cell_type": "code",
   "execution_count": 30,
   "metadata": {},
   "outputs": [],
   "source": [
    "cep['Data_Fim_Vigencia'] = data_fim_vigencia"
   ]
  },
  {
   "cell_type": "code",
   "execution_count": 36,
   "metadata": {},
   "outputs": [],
   "source": [
    "cep['ano_Referencia'] = 2019"
   ]
  },
  {
   "cell_type": "code",
   "execution_count": 44,
   "metadata": {},
   "outputs": [],
   "source": [
    "cep['Cidade_Join'] = cep['nome_Municipio']"
   ]
  },
  {
   "cell_type": "code",
   "execution_count": null,
   "metadata": {},
   "outputs": [],
   "source": []
  },
  {
   "cell_type": "code",
   "execution_count": 45,
   "metadata": {},
   "outputs": [
    {
     "data": {
      "text/html": [
       "<div>\n",
       "<style scoped>\n",
       "    .dataframe tbody tr th:only-of-type {\n",
       "        vertical-align: middle;\n",
       "    }\n",
       "\n",
       "    .dataframe tbody tr th {\n",
       "        vertical-align: top;\n",
       "    }\n",
       "\n",
       "    .dataframe thead th {\n",
       "        text-align: right;\n",
       "    }\n",
       "</style>\n",
       "<table border=\"1\" class=\"dataframe\">\n",
       "  <thead>\n",
       "    <tr style=\"text-align: right;\">\n",
       "      <th></th>\n",
       "      <th>sigla_Estado</th>\n",
       "      <th>nome_Municipio</th>\n",
       "      <th>Faixa de CEP</th>\n",
       "      <th>CEP_Inicial</th>\n",
       "      <th>CEP_Final</th>\n",
       "      <th>situacao</th>\n",
       "      <th>tipo_Faixa</th>\n",
       "      <th>Data_Extracao</th>\n",
       "      <th>id_Fonte_Dados</th>\n",
       "      <th>Data_Inicio_Vigencia</th>\n",
       "      <th>Data_Fim_Vigencia</th>\n",
       "      <th>ano_Referencia</th>\n",
       "      <th>Cidade_Join</th>\n",
       "    </tr>\n",
       "  </thead>\n",
       "  <tbody>\n",
       "    <tr>\n",
       "      <th>0</th>\n",
       "      <td>AC</td>\n",
       "      <td>Acrelândia</td>\n",
       "      <td>69945-000 a 69949-999</td>\n",
       "      <td>69945000</td>\n",
       "      <td>69949999</td>\n",
       "      <td>Não codificada por logradouros</td>\n",
       "      <td>Total do município</td>\n",
       "      <td>2021-07-13 20:11:21.305868</td>\n",
       "      <td>20</td>\n",
       "      <td>2021-07-13</td>\n",
       "      <td>9999-12-31</td>\n",
       "      <td>2019</td>\n",
       "      <td>Acrelândia</td>\n",
       "    </tr>\n",
       "    <tr>\n",
       "      <th>1</th>\n",
       "      <td>AC</td>\n",
       "      <td>Assis Brasil</td>\n",
       "      <td>69935-000 a 69939-999</td>\n",
       "      <td>69935000</td>\n",
       "      <td>69939999</td>\n",
       "      <td>Não codificada por logradouros</td>\n",
       "      <td>Total do município</td>\n",
       "      <td>2021-07-13 20:11:21.305868</td>\n",
       "      <td>20</td>\n",
       "      <td>2021-07-13</td>\n",
       "      <td>9999-12-31</td>\n",
       "      <td>2019</td>\n",
       "      <td>Assis Brasil</td>\n",
       "    </tr>\n",
       "    <tr>\n",
       "      <th>2</th>\n",
       "      <td>AC</td>\n",
       "      <td>Brasiléia</td>\n",
       "      <td>69932-000 a 69933-999</td>\n",
       "      <td>69932000</td>\n",
       "      <td>69933999</td>\n",
       "      <td>Não codificada por logradouros</td>\n",
       "      <td>Total do município</td>\n",
       "      <td>2021-07-13 20:11:21.305868</td>\n",
       "      <td>20</td>\n",
       "      <td>2021-07-13</td>\n",
       "      <td>9999-12-31</td>\n",
       "      <td>2019</td>\n",
       "      <td>Brasiléia</td>\n",
       "    </tr>\n",
       "    <tr>\n",
       "      <th>3</th>\n",
       "      <td>AC</td>\n",
       "      <td>Bujari</td>\n",
       "      <td>69926-000 a 69926-999</td>\n",
       "      <td>69926000</td>\n",
       "      <td>69926999</td>\n",
       "      <td>Não codificada por logradouros</td>\n",
       "      <td>Total do município</td>\n",
       "      <td>2021-07-13 20:11:21.305868</td>\n",
       "      <td>20</td>\n",
       "      <td>2021-07-13</td>\n",
       "      <td>9999-12-31</td>\n",
       "      <td>2019</td>\n",
       "      <td>Bujari</td>\n",
       "    </tr>\n",
       "    <tr>\n",
       "      <th>4</th>\n",
       "      <td>AC</td>\n",
       "      <td>Capixaba</td>\n",
       "      <td>69931-000 a 69931-999</td>\n",
       "      <td>69931000</td>\n",
       "      <td>69931999</td>\n",
       "      <td>Não codificada por logradouros</td>\n",
       "      <td>Total do município</td>\n",
       "      <td>2021-07-13 20:11:21.305868</td>\n",
       "      <td>20</td>\n",
       "      <td>2021-07-13</td>\n",
       "      <td>9999-12-31</td>\n",
       "      <td>2019</td>\n",
       "      <td>Capixaba</td>\n",
       "    </tr>\n",
       "  </tbody>\n",
       "</table>\n",
       "</div>"
      ],
      "text/plain": [
       "  sigla_Estado nome_Municipio           Faixa de CEP  CEP_Inicial  CEP_Final  \\\n",
       "0           AC     Acrelândia  69945-000 a 69949-999     69945000   69949999   \n",
       "1           AC   Assis Brasil  69935-000 a 69939-999     69935000   69939999   \n",
       "2           AC      Brasiléia  69932-000 a 69933-999     69932000   69933999   \n",
       "3           AC         Bujari  69926-000 a 69926-999     69926000   69926999   \n",
       "4           AC       Capixaba  69931-000 a 69931-999     69931000   69931999   \n",
       "\n",
       "                         situacao          tipo_Faixa  \\\n",
       "0  Não codificada por logradouros  Total do município   \n",
       "1  Não codificada por logradouros  Total do município   \n",
       "2  Não codificada por logradouros  Total do município   \n",
       "3  Não codificada por logradouros  Total do município   \n",
       "4  Não codificada por logradouros  Total do município   \n",
       "\n",
       "               Data_Extracao  id_Fonte_Dados Data_Inicio_Vigencia  \\\n",
       "0 2021-07-13 20:11:21.305868              20           2021-07-13   \n",
       "1 2021-07-13 20:11:21.305868              20           2021-07-13   \n",
       "2 2021-07-13 20:11:21.305868              20           2021-07-13   \n",
       "3 2021-07-13 20:11:21.305868              20           2021-07-13   \n",
       "4 2021-07-13 20:11:21.305868              20           2021-07-13   \n",
       "\n",
       "  Data_Fim_Vigencia  ano_Referencia   Cidade_Join  \n",
       "0        9999-12-31            2019    Acrelândia  \n",
       "1        9999-12-31            2019  Assis Brasil  \n",
       "2        9999-12-31            2019     Brasiléia  \n",
       "3        9999-12-31            2019        Bujari  \n",
       "4        9999-12-31            2019      Capixaba  "
      ]
     },
     "execution_count": 45,
     "metadata": {},
     "output_type": "execute_result"
    }
   ],
   "source": [
    "cep.head()"
   ]
  },
  {
   "cell_type": "code",
   "execution_count": null,
   "metadata": {},
   "outputs": [],
   "source": []
  },
  {
   "cell_type": "markdown",
   "metadata": {},
   "source": [
    "### Consultar municípios"
   ]
  },
  {
   "cell_type": "code",
   "execution_count": 41,
   "metadata": {},
   "outputs": [],
   "source": [
    "### Identificar ID Fonte de dados\n",
    "consulta_sql = \"\"\"\n",
    "\n",
    "    SELECT \n",
    "        mi.id_Municipio as id_Municipio_IBGE\n",
    "        ,mi.nome_Municipio\n",
    "        ,(mi.nome_Municipio) as Cidade_Join\n",
    "        ,ei.id_Estado as id_Estado_IBGE\n",
    "        ,ei.sigla_Estado \n",
    "    FROM\n",
    "        IBGE.Municipio_IBGE as mi \n",
    "            inner join\n",
    "        IBGE.Estado_IBGE as ei on (mi.id_Estado = ei.id_Estado)\n",
    "    WHERE TRUE\n",
    "        AND mi.Data_Fim_Vigencia = '9999-12-31'\n",
    "        AND ei.Data_Fim_Vigencia = '9999-12-31'\n",
    "\"\"\"\n",
    "\n",
    "#with engine.begin() as conn:\n",
    "#    result_query = conn.execute(consulta_sql, head=True).fetchall()\n"
   ]
  },
  {
   "cell_type": "code",
   "execution_count": 42,
   "metadata": {},
   "outputs": [],
   "source": [
    "municipios = pd.read_sql_query(consulta_sql, con=engine.connect())"
   ]
  },
  {
   "cell_type": "code",
   "execution_count": 43,
   "metadata": {},
   "outputs": [
    {
     "data": {
      "text/html": [
       "<div>\n",
       "<style scoped>\n",
       "    .dataframe tbody tr th:only-of-type {\n",
       "        vertical-align: middle;\n",
       "    }\n",
       "\n",
       "    .dataframe tbody tr th {\n",
       "        vertical-align: top;\n",
       "    }\n",
       "\n",
       "    .dataframe thead th {\n",
       "        text-align: right;\n",
       "    }\n",
       "</style>\n",
       "<table border=\"1\" class=\"dataframe\">\n",
       "  <thead>\n",
       "    <tr style=\"text-align: right;\">\n",
       "      <th></th>\n",
       "      <th>id_Municipio_IBGE</th>\n",
       "      <th>nome_Municipio</th>\n",
       "      <th>Cidade_Join</th>\n",
       "      <th>id_Estado_IBGE</th>\n",
       "      <th>sigla_Estado</th>\n",
       "    </tr>\n",
       "  </thead>\n",
       "  <tbody>\n",
       "    <tr>\n",
       "      <th>0</th>\n",
       "      <td>1100015</td>\n",
       "      <td>Alta Floresta D'Oeste</td>\n",
       "      <td>Alta Floresta D'Oeste</td>\n",
       "      <td>11</td>\n",
       "      <td>RO</td>\n",
       "    </tr>\n",
       "    <tr>\n",
       "      <th>1</th>\n",
       "      <td>1100023</td>\n",
       "      <td>Ariquemes</td>\n",
       "      <td>Ariquemes</td>\n",
       "      <td>11</td>\n",
       "      <td>RO</td>\n",
       "    </tr>\n",
       "    <tr>\n",
       "      <th>2</th>\n",
       "      <td>1100031</td>\n",
       "      <td>Cabixi</td>\n",
       "      <td>Cabixi</td>\n",
       "      <td>11</td>\n",
       "      <td>RO</td>\n",
       "    </tr>\n",
       "    <tr>\n",
       "      <th>3</th>\n",
       "      <td>1100049</td>\n",
       "      <td>Cacoal</td>\n",
       "      <td>Cacoal</td>\n",
       "      <td>11</td>\n",
       "      <td>RO</td>\n",
       "    </tr>\n",
       "    <tr>\n",
       "      <th>4</th>\n",
       "      <td>1100056</td>\n",
       "      <td>Cerejeiras</td>\n",
       "      <td>Cerejeiras</td>\n",
       "      <td>11</td>\n",
       "      <td>RO</td>\n",
       "    </tr>\n",
       "    <tr>\n",
       "      <th>...</th>\n",
       "      <td>...</td>\n",
       "      <td>...</td>\n",
       "      <td>...</td>\n",
       "      <td>...</td>\n",
       "      <td>...</td>\n",
       "    </tr>\n",
       "    <tr>\n",
       "      <th>5565</th>\n",
       "      <td>5222005</td>\n",
       "      <td>Vianópolis</td>\n",
       "      <td>Vianópolis</td>\n",
       "      <td>52</td>\n",
       "      <td>GO</td>\n",
       "    </tr>\n",
       "    <tr>\n",
       "      <th>5566</th>\n",
       "      <td>5222054</td>\n",
       "      <td>Vicentinópolis</td>\n",
       "      <td>Vicentinópolis</td>\n",
       "      <td>52</td>\n",
       "      <td>GO</td>\n",
       "    </tr>\n",
       "    <tr>\n",
       "      <th>5567</th>\n",
       "      <td>5222203</td>\n",
       "      <td>Vila Boa</td>\n",
       "      <td>Vila Boa</td>\n",
       "      <td>52</td>\n",
       "      <td>GO</td>\n",
       "    </tr>\n",
       "    <tr>\n",
       "      <th>5568</th>\n",
       "      <td>5222302</td>\n",
       "      <td>Vila Propício</td>\n",
       "      <td>Vila Propício</td>\n",
       "      <td>52</td>\n",
       "      <td>GO</td>\n",
       "    </tr>\n",
       "    <tr>\n",
       "      <th>5569</th>\n",
       "      <td>5300108</td>\n",
       "      <td>Brasília</td>\n",
       "      <td>Brasília</td>\n",
       "      <td>53</td>\n",
       "      <td>DF</td>\n",
       "    </tr>\n",
       "  </tbody>\n",
       "</table>\n",
       "<p>5570 rows × 5 columns</p>\n",
       "</div>"
      ],
      "text/plain": [
       "      id_Municipio_IBGE         nome_Municipio            Cidade_Join  \\\n",
       "0               1100015  Alta Floresta D'Oeste  Alta Floresta D'Oeste   \n",
       "1               1100023              Ariquemes              Ariquemes   \n",
       "2               1100031                 Cabixi                 Cabixi   \n",
       "3               1100049                 Cacoal                 Cacoal   \n",
       "4               1100056             Cerejeiras             Cerejeiras   \n",
       "...                 ...                    ...                    ...   \n",
       "5565            5222005             Vianópolis             Vianópolis   \n",
       "5566            5222054         Vicentinópolis         Vicentinópolis   \n",
       "5567            5222203               Vila Boa               Vila Boa   \n",
       "5568            5222302          Vila Propício          Vila Propício   \n",
       "5569            5300108               Brasília               Brasília   \n",
       "\n",
       "      id_Estado_IBGE sigla_Estado  \n",
       "0                 11           RO  \n",
       "1                 11           RO  \n",
       "2                 11           RO  \n",
       "3                 11           RO  \n",
       "4                 11           RO  \n",
       "...              ...          ...  \n",
       "5565              52           GO  \n",
       "5566              52           GO  \n",
       "5567              52           GO  \n",
       "5568              52           GO  \n",
       "5569              53           DF  \n",
       "\n",
       "[5570 rows x 5 columns]"
      ]
     },
     "execution_count": 43,
     "metadata": {},
     "output_type": "execute_result"
    }
   ],
   "source": [
    "municipios"
   ]
  },
  {
   "cell_type": "code",
   "execution_count": null,
   "metadata": {},
   "outputs": [],
   "source": []
  },
  {
   "cell_type": "code",
   "execution_count": null,
   "metadata": {},
   "outputs": [],
   "source": []
  },
  {
   "cell_type": "code",
   "execution_count": 46,
   "metadata": {},
   "outputs": [],
   "source": [
    "x = pd.merge(\n",
    "    cep\n",
    "    ,municipios[['sigla_Estado', 'Cidade_Join', 'id_Municipio_IBGE', 'id_Estado_IBGE', 'nome_Municipio']]\n",
    "    ,left_on = ('sigla_Estado', 'Cidade_Join')\n",
    "    ,right_on = ('sigla_Estado', 'Cidade_Join')\n",
    "    ,how = 'left'\n",
    ")"
   ]
  },
  {
   "cell_type": "code",
   "execution_count": 47,
   "metadata": {},
   "outputs": [
    {
     "data": {
      "text/plain": [
       "77"
      ]
     },
     "execution_count": 47,
     "metadata": {},
     "output_type": "execute_result"
    }
   ],
   "source": [
    "len(x[(x['id_Municipio_IBGE'].isnull())])"
   ]
  },
  {
   "cell_type": "code",
   "execution_count": 48,
   "metadata": {},
   "outputs": [
    {
     "data": {
      "text/html": [
       "<div>\n",
       "<style scoped>\n",
       "    .dataframe tbody tr th:only-of-type {\n",
       "        vertical-align: middle;\n",
       "    }\n",
       "\n",
       "    .dataframe tbody tr th {\n",
       "        vertical-align: top;\n",
       "    }\n",
       "\n",
       "    .dataframe thead th {\n",
       "        text-align: right;\n",
       "    }\n",
       "</style>\n",
       "<table border=\"1\" class=\"dataframe\">\n",
       "  <thead>\n",
       "    <tr style=\"text-align: right;\">\n",
       "      <th></th>\n",
       "      <th>sigla_Estado</th>\n",
       "      <th>nome_Municipio_x</th>\n",
       "      <th>Faixa de CEP</th>\n",
       "      <th>CEP_Inicial</th>\n",
       "      <th>CEP_Final</th>\n",
       "      <th>situacao</th>\n",
       "      <th>tipo_Faixa</th>\n",
       "      <th>Data_Extracao</th>\n",
       "      <th>id_Fonte_Dados</th>\n",
       "      <th>Data_Inicio_Vigencia</th>\n",
       "      <th>Data_Fim_Vigencia</th>\n",
       "      <th>ano_Referencia</th>\n",
       "      <th>Cidade_Join</th>\n",
       "      <th>id_Municipio_IBGE</th>\n",
       "      <th>id_Estado_IBGE</th>\n",
       "      <th>nome_Municipio_y</th>\n",
       "    </tr>\n",
       "  </thead>\n",
       "  <tbody>\n",
       "    <tr>\n",
       "      <th>85</th>\n",
       "      <td>AL</td>\n",
       "      <td>Olho D'Água das Flores</td>\n",
       "      <td>57442-000 a 57444-999</td>\n",
       "      <td>57442000</td>\n",
       "      <td>57444999</td>\n",
       "      <td>Não codificada por logradouros</td>\n",
       "      <td>Total do município</td>\n",
       "      <td>2021-07-13 20:11:21.305868</td>\n",
       "      <td>20</td>\n",
       "      <td>2021-07-13</td>\n",
       "      <td>9999-12-31</td>\n",
       "      <td>2019</td>\n",
       "      <td>Olho D'Água das Flores</td>\n",
       "      <td>NaN</td>\n",
       "      <td>NaN</td>\n",
       "      <td>NaN</td>\n",
       "    </tr>\n",
       "    <tr>\n",
       "      <th>86</th>\n",
       "      <td>AL</td>\n",
       "      <td>Olho D'Água do Casado</td>\n",
       "      <td>57470-000 a 57474-999</td>\n",
       "      <td>57470000</td>\n",
       "      <td>57474999</td>\n",
       "      <td>Não codificada por logradouros</td>\n",
       "      <td>Total do município</td>\n",
       "      <td>2021-07-13 20:11:21.305868</td>\n",
       "      <td>20</td>\n",
       "      <td>2021-07-13</td>\n",
       "      <td>9999-12-31</td>\n",
       "      <td>2019</td>\n",
       "      <td>Olho D'Água do Casado</td>\n",
       "      <td>NaN</td>\n",
       "      <td>NaN</td>\n",
       "      <td>NaN</td>\n",
       "    </tr>\n",
       "    <tr>\n",
       "      <th>87</th>\n",
       "      <td>AL</td>\n",
       "      <td>Olho D'Água Grande</td>\n",
       "      <td>57390-000 a 57399-999</td>\n",
       "      <td>57390000</td>\n",
       "      <td>57399999</td>\n",
       "      <td>Não codificada por logradouros</td>\n",
       "      <td>Total do município</td>\n",
       "      <td>2021-07-13 20:11:21.305868</td>\n",
       "      <td>20</td>\n",
       "      <td>2021-07-13</td>\n",
       "      <td>9999-12-31</td>\n",
       "      <td>2019</td>\n",
       "      <td>Olho D'Água Grande</td>\n",
       "      <td>NaN</td>\n",
       "      <td>NaN</td>\n",
       "      <td>NaN</td>\n",
       "    </tr>\n",
       "    <tr>\n",
       "      <th>123</th>\n",
       "      <td>AL</td>\n",
       "      <td>Tanque D'Arca</td>\n",
       "      <td>57635-000 a 57639-999</td>\n",
       "      <td>57635000</td>\n",
       "      <td>57639999</td>\n",
       "      <td>Não codificada por logradouros</td>\n",
       "      <td>Total do município</td>\n",
       "      <td>2021-07-13 20:11:21.305868</td>\n",
       "      <td>20</td>\n",
       "      <td>2021-07-13</td>\n",
       "      <td>9999-12-31</td>\n",
       "      <td>2019</td>\n",
       "      <td>Tanque D'Arca</td>\n",
       "      <td>NaN</td>\n",
       "      <td>NaN</td>\n",
       "      <td>NaN</td>\n",
       "    </tr>\n",
       "    <tr>\n",
       "      <th>206</th>\n",
       "      <td>AP</td>\n",
       "      <td>Pedra Branca do Amaparí</td>\n",
       "      <td>68945-000 a 68947-999</td>\n",
       "      <td>68945000</td>\n",
       "      <td>68947999</td>\n",
       "      <td>Não codificada por logradouros</td>\n",
       "      <td>Total do município</td>\n",
       "      <td>2021-07-13 20:11:21.305868</td>\n",
       "      <td>20</td>\n",
       "      <td>2021-07-13</td>\n",
       "      <td>9999-12-31</td>\n",
       "      <td>2019</td>\n",
       "      <td>Pedra Branca do Amaparí</td>\n",
       "      <td>NaN</td>\n",
       "      <td>NaN</td>\n",
       "      <td>NaN</td>\n",
       "    </tr>\n",
       "    <tr>\n",
       "      <th>...</th>\n",
       "      <td>...</td>\n",
       "      <td>...</td>\n",
       "      <td>...</td>\n",
       "      <td>...</td>\n",
       "      <td>...</td>\n",
       "      <td>...</td>\n",
       "      <td>...</td>\n",
       "      <td>...</td>\n",
       "      <td>...</td>\n",
       "      <td>...</td>\n",
       "      <td>...</td>\n",
       "      <td>...</td>\n",
       "      <td>...</td>\n",
       "      <td>...</td>\n",
       "      <td>...</td>\n",
       "      <td>...</td>\n",
       "    </tr>\n",
       "    <tr>\n",
       "      <th>5728</th>\n",
       "      <td>SP</td>\n",
       "      <td>Santa Rita D'Oeste</td>\n",
       "      <td>15780-000 a 15784-999</td>\n",
       "      <td>15780000</td>\n",
       "      <td>15784999</td>\n",
       "      <td>Não codificada por logradouros</td>\n",
       "      <td>Total do município</td>\n",
       "      <td>2021-07-13 20:11:21.305868</td>\n",
       "      <td>20</td>\n",
       "      <td>2021-07-13</td>\n",
       "      <td>9999-12-31</td>\n",
       "      <td>2019</td>\n",
       "      <td>Santa Rita D'Oeste</td>\n",
       "      <td>NaN</td>\n",
       "      <td>NaN</td>\n",
       "      <td>NaN</td>\n",
       "    </tr>\n",
       "    <tr>\n",
       "      <th>5915</th>\n",
       "      <td>TO</td>\n",
       "      <td>Couto de Magalhães</td>\n",
       "      <td>77750-000 a 77752-999</td>\n",
       "      <td>77750000</td>\n",
       "      <td>77752999</td>\n",
       "      <td>Não codificada por logradouros</td>\n",
       "      <td>Total do município</td>\n",
       "      <td>2021-07-13 20:11:21.305868</td>\n",
       "      <td>20</td>\n",
       "      <td>2021-07-13</td>\n",
       "      <td>9999-12-31</td>\n",
       "      <td>2019</td>\n",
       "      <td>Couto de Magalhães</td>\n",
       "      <td>NaN</td>\n",
       "      <td>NaN</td>\n",
       "      <td>NaN</td>\n",
       "    </tr>\n",
       "    <tr>\n",
       "      <th>5922</th>\n",
       "      <td>TO</td>\n",
       "      <td>Duerê</td>\n",
       "      <td>77485-000 a 77489-999</td>\n",
       "      <td>77485000</td>\n",
       "      <td>77489999</td>\n",
       "      <td>Não codificada por logradouros</td>\n",
       "      <td>Total do município</td>\n",
       "      <td>2021-07-13 20:11:21.305868</td>\n",
       "      <td>20</td>\n",
       "      <td>2021-07-13</td>\n",
       "      <td>9999-12-31</td>\n",
       "      <td>2019</td>\n",
       "      <td>Duerê</td>\n",
       "      <td>NaN</td>\n",
       "      <td>NaN</td>\n",
       "      <td>NaN</td>\n",
       "    </tr>\n",
       "    <tr>\n",
       "      <th>5928</th>\n",
       "      <td>TO</td>\n",
       "      <td>Fortaleza do Tabocão</td>\n",
       "      <td>77708-000 a 77709-999</td>\n",
       "      <td>77708000</td>\n",
       "      <td>77709999</td>\n",
       "      <td>Não codificada por logradouros</td>\n",
       "      <td>Total do município</td>\n",
       "      <td>2021-07-13 20:11:21.305868</td>\n",
       "      <td>20</td>\n",
       "      <td>2021-07-13</td>\n",
       "      <td>9999-12-31</td>\n",
       "      <td>2019</td>\n",
       "      <td>Fortaleza do Tabocão</td>\n",
       "      <td>NaN</td>\n",
       "      <td>NaN</td>\n",
       "      <td>NaN</td>\n",
       "    </tr>\n",
       "    <tr>\n",
       "      <th>6002</th>\n",
       "      <td>TO</td>\n",
       "      <td>São Valério da Natividade</td>\n",
       "      <td>77390-000 a 77394-999</td>\n",
       "      <td>77390000</td>\n",
       "      <td>77394999</td>\n",
       "      <td>Não codificada por logradouros</td>\n",
       "      <td>Total do município</td>\n",
       "      <td>2021-07-13 20:11:21.305868</td>\n",
       "      <td>20</td>\n",
       "      <td>2021-07-13</td>\n",
       "      <td>9999-12-31</td>\n",
       "      <td>2019</td>\n",
       "      <td>São Valério da Natividade</td>\n",
       "      <td>NaN</td>\n",
       "      <td>NaN</td>\n",
       "      <td>NaN</td>\n",
       "    </tr>\n",
       "  </tbody>\n",
       "</table>\n",
       "<p>77 rows × 16 columns</p>\n",
       "</div>"
      ],
      "text/plain": [
       "     sigla_Estado           nome_Municipio_x           Faixa de CEP  \\\n",
       "85             AL     Olho D'Água das Flores  57442-000 a 57444-999   \n",
       "86             AL      Olho D'Água do Casado  57470-000 a 57474-999   \n",
       "87             AL         Olho D'Água Grande  57390-000 a 57399-999   \n",
       "123            AL              Tanque D'Arca  57635-000 a 57639-999   \n",
       "206            AP    Pedra Branca do Amaparí  68945-000 a 68947-999   \n",
       "...           ...                        ...                    ...   \n",
       "5728           SP         Santa Rita D'Oeste  15780-000 a 15784-999   \n",
       "5915           TO         Couto de Magalhães  77750-000 a 77752-999   \n",
       "5922           TO                      Duerê  77485-000 a 77489-999   \n",
       "5928           TO       Fortaleza do Tabocão  77708-000 a 77709-999   \n",
       "6002           TO  São Valério da Natividade  77390-000 a 77394-999   \n",
       "\n",
       "      CEP_Inicial  CEP_Final                        situacao  \\\n",
       "85       57442000   57444999  Não codificada por logradouros   \n",
       "86       57470000   57474999  Não codificada por logradouros   \n",
       "87       57390000   57399999  Não codificada por logradouros   \n",
       "123      57635000   57639999  Não codificada por logradouros   \n",
       "206      68945000   68947999  Não codificada por logradouros   \n",
       "...           ...        ...                             ...   \n",
       "5728     15780000   15784999  Não codificada por logradouros   \n",
       "5915     77750000   77752999  Não codificada por logradouros   \n",
       "5922     77485000   77489999  Não codificada por logradouros   \n",
       "5928     77708000   77709999  Não codificada por logradouros   \n",
       "6002     77390000   77394999  Não codificada por logradouros   \n",
       "\n",
       "              tipo_Faixa              Data_Extracao  id_Fonte_Dados  \\\n",
       "85    Total do município 2021-07-13 20:11:21.305868              20   \n",
       "86    Total do município 2021-07-13 20:11:21.305868              20   \n",
       "87    Total do município 2021-07-13 20:11:21.305868              20   \n",
       "123   Total do município 2021-07-13 20:11:21.305868              20   \n",
       "206   Total do município 2021-07-13 20:11:21.305868              20   \n",
       "...                  ...                        ...             ...   \n",
       "5728  Total do município 2021-07-13 20:11:21.305868              20   \n",
       "5915  Total do município 2021-07-13 20:11:21.305868              20   \n",
       "5922  Total do município 2021-07-13 20:11:21.305868              20   \n",
       "5928  Total do município 2021-07-13 20:11:21.305868              20   \n",
       "6002  Total do município 2021-07-13 20:11:21.305868              20   \n",
       "\n",
       "     Data_Inicio_Vigencia Data_Fim_Vigencia  ano_Referencia  \\\n",
       "85             2021-07-13        9999-12-31            2019   \n",
       "86             2021-07-13        9999-12-31            2019   \n",
       "87             2021-07-13        9999-12-31            2019   \n",
       "123            2021-07-13        9999-12-31            2019   \n",
       "206            2021-07-13        9999-12-31            2019   \n",
       "...                   ...               ...             ...   \n",
       "5728           2021-07-13        9999-12-31            2019   \n",
       "5915           2021-07-13        9999-12-31            2019   \n",
       "5922           2021-07-13        9999-12-31            2019   \n",
       "5928           2021-07-13        9999-12-31            2019   \n",
       "6002           2021-07-13        9999-12-31            2019   \n",
       "\n",
       "                    Cidade_Join  id_Municipio_IBGE  id_Estado_IBGE  \\\n",
       "85       Olho D'Água das Flores                NaN             NaN   \n",
       "86        Olho D'Água do Casado                NaN             NaN   \n",
       "87           Olho D'Água Grande                NaN             NaN   \n",
       "123               Tanque D'Arca                NaN             NaN   \n",
       "206     Pedra Branca do Amaparí                NaN             NaN   \n",
       "...                         ...                ...             ...   \n",
       "5728         Santa Rita D'Oeste                NaN             NaN   \n",
       "5915         Couto de Magalhães                NaN             NaN   \n",
       "5922                      Duerê                NaN             NaN   \n",
       "5928       Fortaleza do Tabocão                NaN             NaN   \n",
       "6002  São Valério da Natividade                NaN             NaN   \n",
       "\n",
       "     nome_Municipio_y  \n",
       "85                NaN  \n",
       "86                NaN  \n",
       "87                NaN  \n",
       "123               NaN  \n",
       "206               NaN  \n",
       "...               ...  \n",
       "5728              NaN  \n",
       "5915              NaN  \n",
       "5922              NaN  \n",
       "5928              NaN  \n",
       "6002              NaN  \n",
       "\n",
       "[77 rows x 16 columns]"
      ]
     },
     "execution_count": 48,
     "metadata": {},
     "output_type": "execute_result"
    }
   ],
   "source": [
    "x[(x['id_Municipio_IBGE'].isnull())]"
   ]
  },
  {
   "cell_type": "code",
   "execution_count": null,
   "metadata": {},
   "outputs": [],
   "source": []
  },
  {
   "cell_type": "markdown",
   "metadata": {},
   "source": [
    "# Atualizado até aqui"
   ]
  },
  {
   "cell_type": "code",
   "execution_count": null,
   "metadata": {},
   "outputs": [],
   "source": []
  },
  {
   "cell_type": "code",
   "execution_count": null,
   "metadata": {},
   "outputs": [],
   "source": []
  },
  {
   "cell_type": "code",
   "execution_count": null,
   "metadata": {},
   "outputs": [],
   "source": []
  },
  {
   "cell_type": "markdown",
   "metadata": {},
   "source": [
    "### Gerar informação de Região país"
   ]
  },
  {
   "cell_type": "code",
   "execution_count": null,
   "metadata": {},
   "outputs": [],
   "source": [
    "regiao_paises = paises.groupby([\n",
    "    'id_Fonte_Dados'\n",
    "    ,'id_Regiao_Mundo'\n",
    "    ,'nome_Regiao_Mundo'\n",
    "    ,'Data_Inicio_Vigencia'\n",
    "    ,'Data_Fim_Vigencia'\n",
    "]).size().reset_index()"
   ]
  },
  {
   "cell_type": "code",
   "execution_count": null,
   "metadata": {},
   "outputs": [],
   "source": [
    "regiao_paises['Data_Extracao'] = data_extracao"
   ]
  },
  {
   "cell_type": "code",
   "execution_count": null,
   "metadata": {},
   "outputs": [],
   "source": [
    "# Selecionar colunas\n",
    "regiao_paises = regiao_paises[[\n",
    "    'id_Fonte_Dados'\n",
    "    ,'id_Regiao_Mundo'\n",
    "    ,'nome_Regiao_Mundo'\n",
    "    ,'Data_Extracao'\n",
    "    ,'Data_Inicio_Vigencia'\n",
    "    ,'Data_Fim_Vigencia'    \n",
    "]]"
   ]
  },
  {
   "cell_type": "code",
   "execution_count": null,
   "metadata": {},
   "outputs": [],
   "source": []
  },
  {
   "cell_type": "markdown",
   "metadata": {},
   "source": [
    "### Inserir dados"
   ]
  },
  {
   "cell_type": "code",
   "execution_count": null,
   "metadata": {},
   "outputs": [],
   "source": [
    "inserir_dados_stg(regiao_paises, 'Stage', 'stg_Regiao_Mundo_IBGE', 'Stage', 'Versiona_stg_Regiao_Mundo_IBGE')"
   ]
  },
  {
   "cell_type": "code",
   "execution_count": null,
   "metadata": {},
   "outputs": [],
   "source": []
  },
  {
   "cell_type": "markdown",
   "metadata": {},
   "source": [
    "### Gerar informação de Subregião país"
   ]
  },
  {
   "cell_type": "code",
   "execution_count": null,
   "metadata": {},
   "outputs": [],
   "source": [
    "subregiao_paises = paises.groupby([\n",
    "    'id_Fonte_Dados'\n",
    "    ,'id_Subregiao_Mundo'\n",
    "    ,'nome_Subregiao_Mundo'\n",
    "    ,'Data_Inicio_Vigencia'\n",
    "    ,'Data_Fim_Vigencia'\n",
    "]).size().reset_index()"
   ]
  },
  {
   "cell_type": "code",
   "execution_count": null,
   "metadata": {},
   "outputs": [],
   "source": [
    "subregiao_paises['Data_Extracao'] = data_extracao"
   ]
  },
  {
   "cell_type": "code",
   "execution_count": null,
   "metadata": {},
   "outputs": [],
   "source": [
    "# Selecionar colunas\n",
    "subregiao_paises = subregiao_paises[[\n",
    "    'id_Fonte_Dados'\n",
    "    ,'id_Subregiao_Mundo'\n",
    "    ,'nome_Subregiao_Mundo'\n",
    "    ,'Data_Extracao'\n",
    "    ,'Data_Inicio_Vigencia'\n",
    "    ,'Data_Fim_Vigencia'    \n",
    "]]"
   ]
  },
  {
   "cell_type": "code",
   "execution_count": null,
   "metadata": {},
   "outputs": [],
   "source": []
  },
  {
   "cell_type": "markdown",
   "metadata": {},
   "source": [
    "### Inserir dados"
   ]
  },
  {
   "cell_type": "code",
   "execution_count": null,
   "metadata": {},
   "outputs": [],
   "source": [
    "inserir_dados_stg(subregiao_paises, 'Stage', 'stg_Subregiao_Mundo_IBGE', 'Stage', 'Versiona_stg_Subregiao_Mundo_IBGE')"
   ]
  },
  {
   "cell_type": "code",
   "execution_count": null,
   "metadata": {},
   "outputs": [],
   "source": []
  },
  {
   "cell_type": "markdown",
   "metadata": {},
   "source": [
    "### Gerar informação de País"
   ]
  },
  {
   "cell_type": "code",
   "execution_count": null,
   "metadata": {},
   "outputs": [],
   "source": [
    "# Selecionar colunas\n",
    "paises = paises[[\n",
    "    'id_Fonte_Dados'\n",
    "    ,'id_Regiao_Mundo'\n",
    "    ,'id_Subregiao_Mundo'\n",
    "    ,'id_Pais'\n",
    "    ,'nome_Pais'\n",
    "    ,'ISO_Alpha_2'\n",
    "    ,'ISO_Alpha_3'\n",
    "    ,'Data_Extracao'\n",
    "    ,'Data_Inicio_Vigencia'\n",
    "    ,'Data_Fim_Vigencia'\n",
    "]]"
   ]
  },
  {
   "cell_type": "code",
   "execution_count": null,
   "metadata": {},
   "outputs": [],
   "source": []
  },
  {
   "cell_type": "markdown",
   "metadata": {},
   "source": [
    "### Inserir dados"
   ]
  },
  {
   "cell_type": "code",
   "execution_count": null,
   "metadata": {},
   "outputs": [],
   "source": [
    "inserir_dados_stg(paises, 'Stage', 'stg_Pais_IBGE', 'Stage', 'Versiona_stg_Pais_IBGE')"
   ]
  },
  {
   "cell_type": "code",
   "execution_count": null,
   "metadata": {},
   "outputs": [],
   "source": []
  },
  {
   "cell_type": "markdown",
   "metadata": {},
   "source": [
    "# Importar base de dados de regiões"
   ]
  },
  {
   "cell_type": "code",
   "execution_count": null,
   "metadata": {},
   "outputs": [],
   "source": [
    "#Realizar getURL no arquivo json\n",
    "url = 'https://servicodados.ibge.gov.br/api/v1/localidades/regioes'\n",
    "r = requests.get(url)\n",
    "print (len(r.content))"
   ]
  },
  {
   "cell_type": "code",
   "execution_count": null,
   "metadata": {},
   "outputs": [],
   "source": [
    "#Importar arquivos\n",
    "regioes = json.loads(r.content)\n",
    "data_extracao = datetime.now()"
   ]
  },
  {
   "cell_type": "code",
   "execution_count": null,
   "metadata": {},
   "outputs": [],
   "source": [
    "#converter json para data frame\n",
    "regioes = json_normalize(regioes)"
   ]
  },
  {
   "cell_type": "code",
   "execution_count": null,
   "metadata": {},
   "outputs": [],
   "source": []
  },
  {
   "cell_type": "markdown",
   "metadata": {},
   "source": [
    "### Identificar ID Fonte de dados"
   ]
  },
  {
   "cell_type": "code",
   "execution_count": null,
   "metadata": {},
   "outputs": [],
   "source": [
    "nome_site = 'IBGE'\n",
    "site_fonte_dados = url\n",
    "nome_fonte_dados = 'regioes'"
   ]
  },
  {
   "cell_type": "code",
   "execution_count": null,
   "metadata": {},
   "outputs": [],
   "source": [
    "id_fonte_dados = consultar_fonte_dados(nome_site, site_fonte_dados, nome_fonte_dados)"
   ]
  },
  {
   "cell_type": "code",
   "execution_count": null,
   "metadata": {},
   "outputs": [],
   "source": [
    "print('id_fonte_dados:' , id_fonte_dados)"
   ]
  },
  {
   "cell_type": "code",
   "execution_count": null,
   "metadata": {},
   "outputs": [],
   "source": []
  },
  {
   "cell_type": "code",
   "execution_count": null,
   "metadata": {},
   "outputs": [],
   "source": [
    "#renomear colunas\n",
    "regioes = regioes.rename(columns={'id':'id_Regiao', 'nome':'nome_Regiao', 'sigla':'sigla_Regiao'})"
   ]
  },
  {
   "cell_type": "code",
   "execution_count": null,
   "metadata": {},
   "outputs": [],
   "source": [
    "regioes['Data_Extracao'] = data_extracao"
   ]
  },
  {
   "cell_type": "code",
   "execution_count": null,
   "metadata": {},
   "outputs": [],
   "source": [
    "regioes['id_Fonte_Dados'] = id_fonte_dados"
   ]
  },
  {
   "cell_type": "code",
   "execution_count": null,
   "metadata": {},
   "outputs": [],
   "source": [
    "regioes['Data_Inicio_Vigencia'] = data_inicio_vigencia"
   ]
  },
  {
   "cell_type": "code",
   "execution_count": null,
   "metadata": {},
   "outputs": [],
   "source": [
    "regioes['Data_Fim_Vigencia'] = data_fim_vigencia"
   ]
  },
  {
   "cell_type": "code",
   "execution_count": null,
   "metadata": {},
   "outputs": [],
   "source": [
    "regioes['Data_Extracao'] = data_extracao"
   ]
  },
  {
   "cell_type": "code",
   "execution_count": null,
   "metadata": {},
   "outputs": [],
   "source": [
    "# Selecionar colunas\n",
    "regioes = regioes[[\n",
    "    'id_Fonte_Dados'\n",
    "    ,'id_Regiao'\n",
    "    ,'sigla_Regiao'\n",
    "    ,'nome_Regiao'\n",
    "    ,'Data_Extracao'\n",
    "    ,'Data_Inicio_Vigencia'\n",
    "    ,'Data_Fim_Vigencia'\n",
    "]]"
   ]
  },
  {
   "cell_type": "code",
   "execution_count": null,
   "metadata": {},
   "outputs": [],
   "source": []
  },
  {
   "cell_type": "markdown",
   "metadata": {},
   "source": [
    "### Inserir dados"
   ]
  },
  {
   "cell_type": "code",
   "execution_count": null,
   "metadata": {},
   "outputs": [],
   "source": [
    "inserir_dados_stg(regioes, 'Stage', 'stg_Regiao_IBGE', 'Stage', 'Versiona_stg_Regiao_IBGE')"
   ]
  },
  {
   "cell_type": "code",
   "execution_count": null,
   "metadata": {},
   "outputs": [],
   "source": []
  },
  {
   "cell_type": "markdown",
   "metadata": {},
   "source": [
    "# Importar base de dados de estados"
   ]
  },
  {
   "cell_type": "code",
   "execution_count": null,
   "metadata": {},
   "outputs": [],
   "source": [
    "#Realizar getURL no arquivo json\n",
    "url = 'https://servicodados.ibge.gov.br/api/v1/localidades/estados'\n",
    "r = requests.get(url)\n",
    "print (len(r.content))"
   ]
  },
  {
   "cell_type": "code",
   "execution_count": null,
   "metadata": {},
   "outputs": [],
   "source": [
    "#Importar arquivos\n",
    "estados = json.loads(r.content)\n",
    "data_extracao = datetime.now()"
   ]
  },
  {
   "cell_type": "code",
   "execution_count": null,
   "metadata": {},
   "outputs": [],
   "source": [
    "#converter json para data frame\n",
    "estados = json_normalize(estados)"
   ]
  },
  {
   "cell_type": "markdown",
   "metadata": {},
   "source": [
    "### Identificar ID Fonte de dados"
   ]
  },
  {
   "cell_type": "code",
   "execution_count": null,
   "metadata": {},
   "outputs": [],
   "source": [
    "nome_site = 'IBGE'\n",
    "site_fonte_dados = url\n",
    "nome_fonte_dados = 'estados'"
   ]
  },
  {
   "cell_type": "code",
   "execution_count": null,
   "metadata": {},
   "outputs": [],
   "source": [
    "id_fonte_dados = consultar_fonte_dados(nome_site, site_fonte_dados, nome_fonte_dados)"
   ]
  },
  {
   "cell_type": "code",
   "execution_count": null,
   "metadata": {},
   "outputs": [],
   "source": [
    "print('id_fonte_dados:' , id_fonte_dados)"
   ]
  },
  {
   "cell_type": "code",
   "execution_count": null,
   "metadata": {},
   "outputs": [],
   "source": []
  },
  {
   "cell_type": "code",
   "execution_count": null,
   "metadata": {},
   "outputs": [],
   "source": [
    "#renomear colunas\n",
    "estados = estados.rename(columns={'id':'id_Estado', 'nome':'nome_Estado', 'sigla':'sigla_Estado', 'regiao.id':'id_Regiao'})"
   ]
  },
  {
   "cell_type": "code",
   "execution_count": null,
   "metadata": {},
   "outputs": [],
   "source": [
    "estados['id_Fonte_Dados'] = id_fonte_dados"
   ]
  },
  {
   "cell_type": "code",
   "execution_count": null,
   "metadata": {},
   "outputs": [],
   "source": [
    "estados['Data_Extracao'] = data_extracao"
   ]
  },
  {
   "cell_type": "code",
   "execution_count": null,
   "metadata": {},
   "outputs": [],
   "source": [
    "estados['Data_Inicio_Vigencia'] = data_inicio_vigencia"
   ]
  },
  {
   "cell_type": "code",
   "execution_count": null,
   "metadata": {},
   "outputs": [],
   "source": [
    "estados['Data_Fim_Vigencia'] = data_fim_vigencia"
   ]
  },
  {
   "cell_type": "code",
   "execution_count": null,
   "metadata": {},
   "outputs": [],
   "source": [
    "# Selecionar colunas\n",
    "estados = estados[[\n",
    "    'id_Fonte_Dados'\n",
    "    ,'id_Estado'\n",
    "    ,'id_Regiao'\n",
    "    ,'sigla_Estado'\n",
    "    ,'nome_Estado'\n",
    "    ,'Data_Extracao'\n",
    "    ,'Data_Inicio_Vigencia'\n",
    "    ,'Data_Fim_Vigencia'\n",
    "]]"
   ]
  },
  {
   "cell_type": "code",
   "execution_count": null,
   "metadata": {},
   "outputs": [],
   "source": []
  },
  {
   "cell_type": "markdown",
   "metadata": {},
   "source": [
    "### Inserir dados"
   ]
  },
  {
   "cell_type": "code",
   "execution_count": null,
   "metadata": {},
   "outputs": [],
   "source": [
    "inserir_dados_stg(estados, 'Stage', 'stg_Estado_IBGE', 'Stage', 'Versiona_stg_Estado_IBGE')"
   ]
  },
  {
   "cell_type": "code",
   "execution_count": null,
   "metadata": {},
   "outputs": [],
   "source": []
  },
  {
   "cell_type": "markdown",
   "metadata": {},
   "source": [
    "# Importar base de dados de Mesoregião"
   ]
  },
  {
   "cell_type": "code",
   "execution_count": null,
   "metadata": {},
   "outputs": [],
   "source": [
    "#Realizar getURL no arquivo json\n",
    "url = 'https://servicodados.ibge.gov.br/api/v1/localidades/mesorregioes'\n",
    "r = requests.get(url)\n",
    "print (len(r.content))"
   ]
  },
  {
   "cell_type": "code",
   "execution_count": null,
   "metadata": {},
   "outputs": [],
   "source": [
    "#Importar arquivos\n",
    "mesoregicao = json.loads(r.content)\n",
    "data_extracao = datetime.now()"
   ]
  },
  {
   "cell_type": "code",
   "execution_count": null,
   "metadata": {},
   "outputs": [],
   "source": [
    "#converter json para data frame\n",
    "mesoregicao = json_normalize(mesoregicao)"
   ]
  },
  {
   "cell_type": "code",
   "execution_count": null,
   "metadata": {},
   "outputs": [],
   "source": []
  },
  {
   "cell_type": "markdown",
   "metadata": {},
   "source": [
    "### Identificar ID Fonte de dados"
   ]
  },
  {
   "cell_type": "code",
   "execution_count": null,
   "metadata": {},
   "outputs": [],
   "source": [
    "nome_site = 'IBGE'\n",
    "site_fonte_dados = url\n",
    "nome_fonte_dados = 'mesorregioes'"
   ]
  },
  {
   "cell_type": "code",
   "execution_count": null,
   "metadata": {},
   "outputs": [],
   "source": [
    "id_fonte_dados = consultar_fonte_dados(nome_site, site_fonte_dados, nome_fonte_dados)"
   ]
  },
  {
   "cell_type": "code",
   "execution_count": null,
   "metadata": {},
   "outputs": [],
   "source": [
    "print('id_fonte_dados:' , id_fonte_dados)"
   ]
  },
  {
   "cell_type": "code",
   "execution_count": null,
   "metadata": {},
   "outputs": [],
   "source": []
  },
  {
   "cell_type": "code",
   "execution_count": null,
   "metadata": {},
   "outputs": [],
   "source": [
    "#renomear colunas\n",
    "mesoregicao = mesoregicao.rename(columns={'id':'id_Mesoregiao', 'nome':'nome_Mesoregiao', 'UF.id':'id_Estado', 'UF.regiao.id':'id_Regiao'})"
   ]
  },
  {
   "cell_type": "code",
   "execution_count": null,
   "metadata": {},
   "outputs": [],
   "source": [
    "mesoregicao['id_Fonte_Dados'] = id_fonte_dados"
   ]
  },
  {
   "cell_type": "code",
   "execution_count": null,
   "metadata": {},
   "outputs": [],
   "source": [
    "mesoregicao['Data_Extracao'] = data_extracao"
   ]
  },
  {
   "cell_type": "code",
   "execution_count": null,
   "metadata": {},
   "outputs": [],
   "source": [
    "mesoregicao['Data_Inicio_Vigencia'] = data_inicio_vigencia"
   ]
  },
  {
   "cell_type": "code",
   "execution_count": null,
   "metadata": {},
   "outputs": [],
   "source": [
    "mesoregicao['Data_Fim_Vigencia'] = data_fim_vigencia"
   ]
  },
  {
   "cell_type": "code",
   "execution_count": null,
   "metadata": {},
   "outputs": [],
   "source": [
    "# Selecionar colunas\n",
    "mesoregicao = mesoregicao[[\n",
    "    'id_Fonte_Dados'\n",
    "    ,'id_Mesoregiao'\n",
    "    ,'id_Estado'\n",
    "    ,'id_Regiao'\n",
    "    ,'nome_Mesoregiao'\n",
    "    ,'Data_Extracao'\n",
    "    ,'Data_Inicio_Vigencia'\n",
    "    ,'Data_Fim_Vigencia'\n",
    "]]"
   ]
  },
  {
   "cell_type": "code",
   "execution_count": null,
   "metadata": {},
   "outputs": [],
   "source": []
  },
  {
   "cell_type": "markdown",
   "metadata": {},
   "source": [
    "### Inserir dados"
   ]
  },
  {
   "cell_type": "code",
   "execution_count": null,
   "metadata": {},
   "outputs": [],
   "source": [
    "inserir_dados_stg(mesoregicao, 'Stage', 'stg_Mesoregiao_IBGE', 'Stage', 'Versiona_stg_Mesoregiao_IBGE')"
   ]
  },
  {
   "cell_type": "code",
   "execution_count": null,
   "metadata": {},
   "outputs": [],
   "source": []
  },
  {
   "cell_type": "markdown",
   "metadata": {},
   "source": [
    "# Importar base de dados de Microregião"
   ]
  },
  {
   "cell_type": "code",
   "execution_count": null,
   "metadata": {},
   "outputs": [],
   "source": [
    "#Realizar getURL no arquivo json\n",
    "url = 'https://servicodados.ibge.gov.br/api/v1/localidades/microrregioes'\n",
    "r = requests.get(url)\n",
    "print (len(r.content))"
   ]
  },
  {
   "cell_type": "code",
   "execution_count": null,
   "metadata": {},
   "outputs": [],
   "source": [
    "#Importar arquivos\n",
    "microregiao = json.loads(r.content)\n",
    "data_extracao = datetime.now()"
   ]
  },
  {
   "cell_type": "code",
   "execution_count": null,
   "metadata": {},
   "outputs": [],
   "source": [
    "#converter json para data frame\n",
    "microregiao = json_normalize(microregiao)"
   ]
  },
  {
   "cell_type": "code",
   "execution_count": null,
   "metadata": {},
   "outputs": [],
   "source": []
  },
  {
   "cell_type": "markdown",
   "metadata": {},
   "source": [
    "### Identificar ID Fonte de dados"
   ]
  },
  {
   "cell_type": "code",
   "execution_count": null,
   "metadata": {},
   "outputs": [],
   "source": [
    "nome_site = 'IBGE'\n",
    "site_fonte_dados = url\n",
    "nome_fonte_dados = 'microrregioes'"
   ]
  },
  {
   "cell_type": "code",
   "execution_count": null,
   "metadata": {},
   "outputs": [],
   "source": [
    "id_fonte_dados = consultar_fonte_dados(nome_site, site_fonte_dados, nome_fonte_dados)"
   ]
  },
  {
   "cell_type": "code",
   "execution_count": null,
   "metadata": {},
   "outputs": [],
   "source": [
    "print('id_fonte_dados:' , id_fonte_dados)"
   ]
  },
  {
   "cell_type": "code",
   "execution_count": null,
   "metadata": {},
   "outputs": [],
   "source": []
  },
  {
   "cell_type": "code",
   "execution_count": null,
   "metadata": {},
   "outputs": [],
   "source": [
    "#renomear colunas\n",
    "microregiao = microregiao.rename(columns={\n",
    "    'id':'id_Microregiao'\n",
    "    , 'nome':'nome_Microregiao'\n",
    "    , 'mesorregiao.id':'id_Mesoregiao'\n",
    "    , 'mesorregiao.UF.id':'id_Estado'\n",
    "    , 'mesorregiao.UF.regiao.id':'id_Regiao'\n",
    "})"
   ]
  },
  {
   "cell_type": "code",
   "execution_count": null,
   "metadata": {},
   "outputs": [],
   "source": [
    "microregiao['id_Fonte_Dados'] = id_fonte_dados"
   ]
  },
  {
   "cell_type": "code",
   "execution_count": null,
   "metadata": {},
   "outputs": [],
   "source": [
    "microregiao['Data_Extracao'] = data_extracao"
   ]
  },
  {
   "cell_type": "code",
   "execution_count": null,
   "metadata": {},
   "outputs": [],
   "source": [
    "microregiao['Data_Inicio_Vigencia'] = data_inicio_vigencia"
   ]
  },
  {
   "cell_type": "code",
   "execution_count": null,
   "metadata": {},
   "outputs": [],
   "source": [
    "microregiao['Data_Fim_Vigencia'] = data_fim_vigencia"
   ]
  },
  {
   "cell_type": "code",
   "execution_count": null,
   "metadata": {},
   "outputs": [],
   "source": [
    "# Selecionar colunas\n",
    "microregiao = microregiao[[\n",
    "    'id_Fonte_Dados'\n",
    "    ,'id_Microregiao'\n",
    "    ,'id_Mesoregiao'\n",
    "    ,'id_Estado'\n",
    "    ,'id_Regiao'\n",
    "    ,'nome_Microregiao'\n",
    "    ,'Data_Extracao'\n",
    "    ,'Data_Inicio_Vigencia'\n",
    "    ,'Data_Fim_Vigencia'\n",
    "]]"
   ]
  },
  {
   "cell_type": "code",
   "execution_count": null,
   "metadata": {},
   "outputs": [],
   "source": []
  },
  {
   "cell_type": "markdown",
   "metadata": {},
   "source": [
    "### Inserir dados"
   ]
  },
  {
   "cell_type": "code",
   "execution_count": null,
   "metadata": {},
   "outputs": [],
   "source": [
    "inserir_dados_stg(microregiao, 'Stage', 'stg_Microregicao_IBGE', 'Stage', 'Versiona_stg_Microregicao_IBGE')"
   ]
  },
  {
   "cell_type": "code",
   "execution_count": null,
   "metadata": {},
   "outputs": [],
   "source": []
  },
  {
   "cell_type": "markdown",
   "metadata": {},
   "source": [
    "# Importar base de dados de Região intermediaria"
   ]
  },
  {
   "cell_type": "code",
   "execution_count": null,
   "metadata": {},
   "outputs": [],
   "source": [
    "#Realizar getURL no arquivo json\n",
    "url = 'https://servicodados.ibge.gov.br/api/v1/localidades/regioes-intermediarias'\n",
    "r = requests.get(url)\n",
    "print (len(r.content))"
   ]
  },
  {
   "cell_type": "code",
   "execution_count": null,
   "metadata": {},
   "outputs": [],
   "source": [
    "#Importar arquivos\n",
    "regiao_intermediaria = json.loads(r.content)\n",
    "data_extracao = datetime.now()"
   ]
  },
  {
   "cell_type": "code",
   "execution_count": null,
   "metadata": {},
   "outputs": [],
   "source": [
    "#converter json para data frame\n",
    "regiao_intermediaria = json_normalize(regiao_intermediaria)"
   ]
  },
  {
   "cell_type": "code",
   "execution_count": null,
   "metadata": {},
   "outputs": [],
   "source": []
  },
  {
   "cell_type": "markdown",
   "metadata": {},
   "source": [
    "### Identificar ID Fonte de dados"
   ]
  },
  {
   "cell_type": "code",
   "execution_count": null,
   "metadata": {},
   "outputs": [],
   "source": [
    "nome_site = 'IBGE'\n",
    "site_fonte_dados = url\n",
    "nome_fonte_dados = 'regioes-intermediarias'"
   ]
  },
  {
   "cell_type": "code",
   "execution_count": null,
   "metadata": {},
   "outputs": [],
   "source": [
    "id_fonte_dados = consultar_fonte_dados(nome_site, site_fonte_dados, nome_fonte_dados)"
   ]
  },
  {
   "cell_type": "code",
   "execution_count": null,
   "metadata": {},
   "outputs": [],
   "source": [
    "print('id_fonte_dados:' , id_fonte_dados)"
   ]
  },
  {
   "cell_type": "code",
   "execution_count": null,
   "metadata": {},
   "outputs": [],
   "source": []
  },
  {
   "cell_type": "code",
   "execution_count": null,
   "metadata": {},
   "outputs": [],
   "source": [
    "#renomear colunas\n",
    "regiao_intermediaria = regiao_intermediaria.rename(columns={\n",
    "    'id':'id_Regiao_Intermediaria'\n",
    "    , 'nome':'nome_Regiao_Intermediaria'\n",
    "    , 'UF.id':'id_Estado'\n",
    "    , 'UF.regiao.id':'id_Regiao'\n",
    "})"
   ]
  },
  {
   "cell_type": "code",
   "execution_count": null,
   "metadata": {},
   "outputs": [],
   "source": [
    "regiao_intermediaria['id_Fonte_Dados'] = id_fonte_dados"
   ]
  },
  {
   "cell_type": "code",
   "execution_count": null,
   "metadata": {},
   "outputs": [],
   "source": [
    "regiao_intermediaria['Data_Extracao'] = data_extracao"
   ]
  },
  {
   "cell_type": "code",
   "execution_count": null,
   "metadata": {},
   "outputs": [],
   "source": [
    "regiao_intermediaria['Data_Inicio_Vigencia'] = data_inicio_vigencia"
   ]
  },
  {
   "cell_type": "code",
   "execution_count": null,
   "metadata": {},
   "outputs": [],
   "source": [
    "regiao_intermediaria['Data_Fim_Vigencia'] = data_fim_vigencia"
   ]
  },
  {
   "cell_type": "code",
   "execution_count": null,
   "metadata": {},
   "outputs": [],
   "source": [
    "# Selecionar colunas\n",
    "regiao_intermediaria = regiao_intermediaria[[\n",
    "    'id_Fonte_Dados'\n",
    "    ,'id_Regiao_Intermediaria'\n",
    "    ,'id_Estado'\n",
    "    ,'id_Regiao'\n",
    "    ,'nome_Regiao_Intermediaria'\n",
    "    ,'Data_Extracao'\n",
    "    ,'Data_Inicio_Vigencia'\n",
    "    ,'Data_Fim_Vigencia'\n",
    "]]"
   ]
  },
  {
   "cell_type": "code",
   "execution_count": null,
   "metadata": {},
   "outputs": [],
   "source": []
  },
  {
   "cell_type": "markdown",
   "metadata": {},
   "source": [
    "### Inserir dados"
   ]
  },
  {
   "cell_type": "code",
   "execution_count": null,
   "metadata": {},
   "outputs": [],
   "source": [
    "inserir_dados_stg(regiao_intermediaria, 'Stage', 'stg_Regiao_Intermediaria_IBGE', 'Stage', 'Versiona_stg_Regiao_Intermediaria_IBGE')"
   ]
  },
  {
   "cell_type": "code",
   "execution_count": null,
   "metadata": {},
   "outputs": [],
   "source": []
  },
  {
   "cell_type": "markdown",
   "metadata": {},
   "source": [
    "# Importar base de dados de Região imediata"
   ]
  },
  {
   "cell_type": "code",
   "execution_count": null,
   "metadata": {},
   "outputs": [],
   "source": [
    "#Realizar getURL no arquivo json\n",
    "url = 'https://servicodados.ibge.gov.br/api/v1/localidades/regioes-imediatas'\n",
    "r = requests.get(url)\n",
    "print (len(r.content))"
   ]
  },
  {
   "cell_type": "code",
   "execution_count": null,
   "metadata": {},
   "outputs": [],
   "source": [
    "#Importar arquivos\n",
    "regiao_imediatas = json.loads(r.content)\n",
    "data_extracao = datetime.now()"
   ]
  },
  {
   "cell_type": "code",
   "execution_count": null,
   "metadata": {},
   "outputs": [],
   "source": [
    "#converter json para data frame\n",
    "regiao_imediatas = json_normalize(regiao_imediatas)"
   ]
  },
  {
   "cell_type": "code",
   "execution_count": null,
   "metadata": {},
   "outputs": [],
   "source": []
  },
  {
   "cell_type": "markdown",
   "metadata": {},
   "source": [
    "### Identificar ID Fonte de dados"
   ]
  },
  {
   "cell_type": "code",
   "execution_count": null,
   "metadata": {},
   "outputs": [],
   "source": [
    "nome_site = 'IBGE'\n",
    "site_fonte_dados = url\n",
    "nome_fonte_dados = 'regioes-imediatas'"
   ]
  },
  {
   "cell_type": "code",
   "execution_count": null,
   "metadata": {},
   "outputs": [],
   "source": [
    "id_fonte_dados = consultar_fonte_dados(nome_site, site_fonte_dados, nome_fonte_dados)"
   ]
  },
  {
   "cell_type": "code",
   "execution_count": null,
   "metadata": {},
   "outputs": [],
   "source": [
    "print('id_fonte_dados:' , id_fonte_dados)"
   ]
  },
  {
   "cell_type": "code",
   "execution_count": null,
   "metadata": {},
   "outputs": [],
   "source": []
  },
  {
   "cell_type": "code",
   "execution_count": null,
   "metadata": {},
   "outputs": [],
   "source": [
    "#renomear colunas\n",
    "regiao_imediatas = regiao_imediatas.rename(columns={\n",
    "    'id':'id_Regiao_Imediata'\n",
    "    , 'nome':'nome_Regiao_Imediata'\n",
    "    , 'regiao-intermediaria.id':'id_Regiao_Intermediaria'\n",
    "    , 'regiao-intermediaria.UF.id':'id_Estado'\n",
    "    , 'regiao-intermediaria.UF.regiao.id':'id_Regiao'\n",
    "})"
   ]
  },
  {
   "cell_type": "code",
   "execution_count": null,
   "metadata": {},
   "outputs": [],
   "source": [
    "regiao_imediatas['id_Fonte_Dados'] = id_fonte_dados"
   ]
  },
  {
   "cell_type": "code",
   "execution_count": null,
   "metadata": {},
   "outputs": [],
   "source": [
    "regiao_imediatas['Data_Extracao'] = data_extracao"
   ]
  },
  {
   "cell_type": "code",
   "execution_count": null,
   "metadata": {},
   "outputs": [],
   "source": [
    "regiao_imediatas['Data_Inicio_Vigencia'] = data_inicio_vigencia"
   ]
  },
  {
   "cell_type": "code",
   "execution_count": null,
   "metadata": {},
   "outputs": [],
   "source": [
    "regiao_imediatas['Data_Fim_Vigencia'] = data_fim_vigencia"
   ]
  },
  {
   "cell_type": "code",
   "execution_count": null,
   "metadata": {},
   "outputs": [],
   "source": [
    "# Selecionar colunas\n",
    "regiao_imediatas = regiao_imediatas[[\n",
    "    'id_Fonte_Dados'\n",
    "    ,'id_Regiao_Imediata'\n",
    "    ,'id_Regiao_Intermediaria'\n",
    "    ,'id_Estado'\n",
    "    ,'id_Regiao'\n",
    "    ,'nome_Regiao_Imediata'\n",
    "    ,'Data_Extracao'\n",
    "    ,'Data_Inicio_Vigencia'\n",
    "    ,'Data_Fim_Vigencia'\n",
    "]]"
   ]
  },
  {
   "cell_type": "code",
   "execution_count": null,
   "metadata": {},
   "outputs": [],
   "source": []
  },
  {
   "cell_type": "markdown",
   "metadata": {},
   "source": [
    "### Inserir dados"
   ]
  },
  {
   "cell_type": "code",
   "execution_count": null,
   "metadata": {},
   "outputs": [],
   "source": [
    "inserir_dados_stg(regiao_imediatas, 'Stage', 'stg_Regiao_Imediata_IBGE', 'Stage', 'Versiona_stg_Regiao_Imediata_IBGE')"
   ]
  },
  {
   "cell_type": "code",
   "execution_count": null,
   "metadata": {},
   "outputs": [],
   "source": []
  },
  {
   "cell_type": "markdown",
   "metadata": {},
   "source": [
    "# Importar base de dados de municípios"
   ]
  },
  {
   "cell_type": "code",
   "execution_count": null,
   "metadata": {},
   "outputs": [],
   "source": [
    "#Realizar getURL no arquivo json\n",
    "url = 'https://servicodados.ibge.gov.br/api/v1/localidades/municipios'\n",
    "r = requests.get(url)\n",
    "print (len(r.content))"
   ]
  },
  {
   "cell_type": "code",
   "execution_count": null,
   "metadata": {},
   "outputs": [],
   "source": [
    "#Importar arquivos\n",
    "municipios = json.loads(r.content)\n",
    "data_extracao = datetime.now()"
   ]
  },
  {
   "cell_type": "code",
   "execution_count": null,
   "metadata": {},
   "outputs": [],
   "source": [
    "#converter json para data frame\n",
    "municipios = json_normalize(municipios)"
   ]
  },
  {
   "cell_type": "code",
   "execution_count": null,
   "metadata": {},
   "outputs": [],
   "source": []
  },
  {
   "cell_type": "markdown",
   "metadata": {},
   "source": [
    "### Identificar ID Fonte de dados"
   ]
  },
  {
   "cell_type": "code",
   "execution_count": null,
   "metadata": {},
   "outputs": [],
   "source": [
    "nome_site = 'IBGE'\n",
    "site_fonte_dados = url\n",
    "nome_fonte_dados = 'municipios'"
   ]
  },
  {
   "cell_type": "code",
   "execution_count": null,
   "metadata": {},
   "outputs": [],
   "source": [
    "id_fonte_dados = consultar_fonte_dados(nome_site, site_fonte_dados, nome_fonte_dados)"
   ]
  },
  {
   "cell_type": "code",
   "execution_count": null,
   "metadata": {},
   "outputs": [],
   "source": [
    "print('id_fonte_dados:' , id_fonte_dados)"
   ]
  },
  {
   "cell_type": "code",
   "execution_count": null,
   "metadata": {},
   "outputs": [],
   "source": []
  },
  {
   "cell_type": "code",
   "execution_count": null,
   "metadata": {},
   "outputs": [],
   "source": [
    "#renomear colunas\n",
    "municipios = municipios.rename(columns={\n",
    "    'id':'id_Municipio'\n",
    "    ,'nome':'nome_Municipio'\n",
    "    ,'microrregiao.mesorregiao.UF.id':'id_Estado'\n",
    "    ,'microrregiao.mesorregiao.UF.regiao.id':'id_Regiao'\n",
    "    ,'microrregiao.mesorregiao.id' : 'id_Mesoregiao'\n",
    "    ,'regiao-imediata.id' : 'id_Regiao_Imediata'\n",
    "    ,'regiao-imediata.regiao-intermediaria.id' : 'id_Regiao_Intermediaria'\n",
    "    ,'microrregiao.id' : 'id_Microregiao'\n",
    "})"
   ]
  },
  {
   "cell_type": "code",
   "execution_count": null,
   "metadata": {},
   "outputs": [],
   "source": [
    "municipios['id_Fonte_Dados'] = id_fonte_dados"
   ]
  },
  {
   "cell_type": "code",
   "execution_count": null,
   "metadata": {},
   "outputs": [],
   "source": [
    "municipios['Data_Extracao'] = data_extracao"
   ]
  },
  {
   "cell_type": "code",
   "execution_count": null,
   "metadata": {},
   "outputs": [],
   "source": [
    "municipios['Data_Inicio_Vigencia'] = data_inicio_vigencia"
   ]
  },
  {
   "cell_type": "code",
   "execution_count": null,
   "metadata": {},
   "outputs": [],
   "source": [
    "municipios['Data_Fim_Vigencia'] = data_fim_vigencia"
   ]
  },
  {
   "cell_type": "code",
   "execution_count": null,
   "metadata": {},
   "outputs": [],
   "source": [
    "# Selecionar colunas\n",
    "municipios = municipios[[\n",
    "    'id_Fonte_Dados'\n",
    "    ,'id_Regiao'\n",
    "    ,'id_Estado'\n",
    "    ,'id_Mesoregiao'\n",
    "    ,'id_Microregiao'\n",
    "    ,'id_Regiao_Imediata'\n",
    "    ,'id_Regiao_Intermediaria'\n",
    "    ,'id_Municipio'\n",
    "    ,'nome_Municipio'\n",
    "    ,'Data_Extracao'\n",
    "    ,'Data_Inicio_Vigencia'\n",
    "    ,'Data_Fim_Vigencia'\n",
    "]]"
   ]
  },
  {
   "cell_type": "code",
   "execution_count": null,
   "metadata": {},
   "outputs": [],
   "source": []
  },
  {
   "cell_type": "markdown",
   "metadata": {},
   "source": [
    "### Inserir dados"
   ]
  },
  {
   "cell_type": "code",
   "execution_count": null,
   "metadata": {},
   "outputs": [],
   "source": [
    "inserir_dados_stg(municipios, 'Stage', 'stg_Municipio_IBGE', 'Stage', 'Versiona_stg_Municipio_IBGE')"
   ]
  },
  {
   "cell_type": "code",
   "execution_count": null,
   "metadata": {},
   "outputs": [],
   "source": []
  },
  {
   "cell_type": "markdown",
   "metadata": {},
   "source": [
    "# Importar base de dados de distrito"
   ]
  },
  {
   "cell_type": "code",
   "execution_count": null,
   "metadata": {},
   "outputs": [],
   "source": [
    "#Realizar getURL no arquivo json\n",
    "url = 'https://servicodados.ibge.gov.br/api/v1/localidades/distritos'\n",
    "r = requests.get(url)\n",
    "print (len(r.content))"
   ]
  },
  {
   "cell_type": "code",
   "execution_count": null,
   "metadata": {},
   "outputs": [],
   "source": [
    "#Importar arquivos\n",
    "distritos = json.loads(r.content)\n",
    "data_extracao = datetime.now()"
   ]
  },
  {
   "cell_type": "code",
   "execution_count": null,
   "metadata": {},
   "outputs": [],
   "source": [
    "#converter json para data frame\n",
    "distritos = json_normalize(distritos)"
   ]
  },
  {
   "cell_type": "code",
   "execution_count": null,
   "metadata": {},
   "outputs": [],
   "source": []
  },
  {
   "cell_type": "markdown",
   "metadata": {},
   "source": [
    "### Identificar ID Fonte de dados"
   ]
  },
  {
   "cell_type": "code",
   "execution_count": null,
   "metadata": {},
   "outputs": [],
   "source": [
    "nome_site = 'IBGE'\n",
    "site_fonte_dados = url\n",
    "nome_fonte_dados = 'distritos'"
   ]
  },
  {
   "cell_type": "code",
   "execution_count": null,
   "metadata": {},
   "outputs": [],
   "source": [
    "id_fonte_dados = consultar_fonte_dados(nome_site, site_fonte_dados, nome_fonte_dados)"
   ]
  },
  {
   "cell_type": "code",
   "execution_count": null,
   "metadata": {},
   "outputs": [],
   "source": [
    "print('id_fonte_dados:' , id_fonte_dados)"
   ]
  },
  {
   "cell_type": "code",
   "execution_count": null,
   "metadata": {},
   "outputs": [],
   "source": []
  },
  {
   "cell_type": "code",
   "execution_count": null,
   "metadata": {},
   "outputs": [],
   "source": [
    "#renomear colunas\n",
    "distritos = distritos.rename(columns={\n",
    "    'id':'id_Distrito'\n",
    "    ,'municipio.id':'id_Municipio'\n",
    "    ,'municipio.regiao-imediata.id' : 'id_Regiao_Imediata'\n",
    "    ,'municipio.regiao-imediata.regiao-intermediaria.id' : 'id_Regiao_Intermediaria'\n",
    "    ,'municipio.microrregiao.id' : 'id_Microregiao'\n",
    "    ,'municipio.microrregiao.mesorregiao.id' : 'id_Mesoregiao'\n",
    "    ,'municipio.microrregiao.mesorregiao.UF.id' : 'id_Estado'\n",
    "    ,'municipio.regiao-imediata.regiao-intermediaria.UF.regiao.id' : 'id_Regiao'\n",
    "    ,'nome':'nome_Distrito'\n",
    "})"
   ]
  },
  {
   "cell_type": "code",
   "execution_count": null,
   "metadata": {},
   "outputs": [],
   "source": [
    "distritos['id_Fonte_Dados'] = id_fonte_dados"
   ]
  },
  {
   "cell_type": "code",
   "execution_count": null,
   "metadata": {},
   "outputs": [],
   "source": [
    "distritos['Data_Extracao'] = data_extracao"
   ]
  },
  {
   "cell_type": "code",
   "execution_count": null,
   "metadata": {},
   "outputs": [],
   "source": [
    "distritos['Data_Inicio_Vigencia'] = data_inicio_vigencia"
   ]
  },
  {
   "cell_type": "code",
   "execution_count": null,
   "metadata": {},
   "outputs": [],
   "source": [
    "distritos['Data_Fim_Vigencia'] = data_fim_vigencia"
   ]
  },
  {
   "cell_type": "code",
   "execution_count": null,
   "metadata": {},
   "outputs": [],
   "source": [
    "# Selecionar colunas\n",
    "distritos = distritos[[\n",
    "    'id_Fonte_Dados'\n",
    "    ,'id_Distrito'\n",
    "    ,'id_Municipio'\n",
    "    ,'id_Regiao_Imediata'\n",
    "    ,'id_Regiao_Intermediaria'\n",
    "    ,'id_Microregiao'\n",
    "    ,'id_Mesoregiao'\n",
    "    ,'id_Estado'\n",
    "    ,'id_Regiao'\n",
    "    ,'nome_Distrito'\n",
    "    ,'Data_Extracao'\n",
    "    ,'Data_Inicio_Vigencia'\n",
    "    ,'Data_Fim_Vigencia'\n",
    "]]"
   ]
  },
  {
   "cell_type": "code",
   "execution_count": null,
   "metadata": {},
   "outputs": [],
   "source": []
  },
  {
   "cell_type": "markdown",
   "metadata": {},
   "source": [
    "### Inserir dados"
   ]
  },
  {
   "cell_type": "code",
   "execution_count": null,
   "metadata": {},
   "outputs": [],
   "source": [
    "inserir_dados_stg(distritos, 'Stage', 'stg_Distrito_IBGE', 'Stage', 'Versiona_stg_Distrito_IBGE')"
   ]
  },
  {
   "cell_type": "code",
   "execution_count": null,
   "metadata": {},
   "outputs": [],
   "source": []
  },
  {
   "cell_type": "markdown",
   "metadata": {},
   "source": [
    "# Importar base de dados de subdistrito"
   ]
  },
  {
   "cell_type": "code",
   "execution_count": null,
   "metadata": {},
   "outputs": [],
   "source": [
    "#Realizar getURL no arquivo json\n",
    "url = 'https://servicodados.ibge.gov.br/api/v1/localidades/subdistritos'\n",
    "r = requests.get(url)\n",
    "print (len(r.content))"
   ]
  },
  {
   "cell_type": "code",
   "execution_count": null,
   "metadata": {},
   "outputs": [],
   "source": [
    "#Importar arquivos\n",
    "sub_distritos = json.loads(r.content)\n",
    "data_extracao = datetime.now()"
   ]
  },
  {
   "cell_type": "code",
   "execution_count": null,
   "metadata": {},
   "outputs": [],
   "source": [
    "#converter json para data frame\n",
    "sub_distritos = json_normalize(sub_distritos)"
   ]
  },
  {
   "cell_type": "code",
   "execution_count": null,
   "metadata": {},
   "outputs": [],
   "source": []
  },
  {
   "cell_type": "markdown",
   "metadata": {},
   "source": [
    "### Identificar ID Fonte de dados"
   ]
  },
  {
   "cell_type": "code",
   "execution_count": null,
   "metadata": {},
   "outputs": [],
   "source": [
    "nome_site = 'IBGE'\n",
    "site_fonte_dados = url\n",
    "nome_fonte_dados = 'subdistritos'"
   ]
  },
  {
   "cell_type": "code",
   "execution_count": null,
   "metadata": {},
   "outputs": [],
   "source": [
    "id_fonte_dados = consultar_fonte_dados(nome_site, site_fonte_dados, nome_fonte_dados)"
   ]
  },
  {
   "cell_type": "code",
   "execution_count": null,
   "metadata": {},
   "outputs": [],
   "source": [
    "print('id_fonte_dados:' , id_fonte_dados)"
   ]
  },
  {
   "cell_type": "code",
   "execution_count": null,
   "metadata": {},
   "outputs": [],
   "source": []
  },
  {
   "cell_type": "code",
   "execution_count": null,
   "metadata": {},
   "outputs": [],
   "source": [
    "#renomear colunas\n",
    "sub_distritos = sub_distritos.rename(columns={\n",
    "    'id' : 'id_Sub_Distrito'    \n",
    "    ,'distrito.id':'id_Distrito'\n",
    "    ,'distrito.municipio.id':'id_Municipio'\n",
    "    ,'distrito.municipio.regiao-imediata.id' : 'id_Regiao_Imediata'\n",
    "    ,'distrito.municipio.regiao-imediata.regiao-intermediaria.id' : 'id_Regiao_Intermediaria'\n",
    "    ,'distrito.municipio.microrregiao.id' : 'id_Microregiao'\n",
    "    ,'distrito.municipio.microrregiao.mesorregiao.id' : 'id_Mesoregiao'\n",
    "    ,'distrito.municipio.microrregiao.mesorregiao.UF.id' : 'id_Estado'\n",
    "    ,'distrito.municipio.regiao-imediata.regiao-intermediaria.UF.regiao.id' : 'id_Regiao'\n",
    "    ,'nome':'nome_Sub_Distrito'\n",
    "})"
   ]
  },
  {
   "cell_type": "code",
   "execution_count": null,
   "metadata": {},
   "outputs": [],
   "source": [
    "sub_distritos['id_Fonte_Dados'] = id_fonte_dados"
   ]
  },
  {
   "cell_type": "code",
   "execution_count": null,
   "metadata": {},
   "outputs": [],
   "source": [
    "sub_distritos['Data_Extracao'] = data_extracao"
   ]
  },
  {
   "cell_type": "code",
   "execution_count": null,
   "metadata": {},
   "outputs": [],
   "source": [
    "sub_distritos['Data_Inicio_Vigencia'] = data_inicio_vigencia"
   ]
  },
  {
   "cell_type": "code",
   "execution_count": null,
   "metadata": {},
   "outputs": [],
   "source": [
    "sub_distritos['Data_Fim_Vigencia'] = data_fim_vigencia"
   ]
  },
  {
   "cell_type": "code",
   "execution_count": null,
   "metadata": {},
   "outputs": [],
   "source": [
    "# Selecionar colunas\n",
    "sub_distritos = sub_distritos[[\n",
    "    'id_Fonte_Dados'\n",
    "    ,'id_Sub_Distrito'\n",
    "    ,'id_Distrito'\n",
    "    ,'id_Municipio'\n",
    "    ,'id_Regiao_Imediata'\n",
    "    ,'id_Regiao_Intermediaria'\n",
    "    ,'id_Microregiao'\n",
    "    ,'id_Mesoregiao'\n",
    "    ,'id_Estado'\n",
    "    ,'id_Regiao'\n",
    "    ,'nome_Sub_Distrito'\n",
    "    ,'Data_Extracao'\n",
    "    ,'Data_Inicio_Vigencia'\n",
    "    ,'Data_Fim_Vigencia'\n",
    "]]"
   ]
  },
  {
   "cell_type": "code",
   "execution_count": null,
   "metadata": {},
   "outputs": [],
   "source": []
  },
  {
   "cell_type": "markdown",
   "metadata": {},
   "source": [
    "### Inserir dados"
   ]
  },
  {
   "cell_type": "code",
   "execution_count": null,
   "metadata": {},
   "outputs": [],
   "source": [
    "inserir_dados_stg(sub_distritos, 'Stage', 'stg_Sub_Distrito_IBGE', 'Stage', 'Versiona_stg_Sub_Distrito_IBGE')"
   ]
  },
  {
   "cell_type": "code",
   "execution_count": null,
   "metadata": {},
   "outputs": [],
   "source": []
  },
  {
   "cell_type": "code",
   "execution_count": null,
   "metadata": {},
   "outputs": [],
   "source": [
    "#Fim da execução do notebook\n",
    "end_general = datetime.now()"
   ]
  },
  {
   "cell_type": "code",
   "execution_count": null,
   "metadata": {},
   "outputs": [],
   "source": [
    "# Write the DataFrame to a BigQuery table\n",
    "\n",
    "print(\"Tempo total notebook \" + str(end_general - start_general))"
   ]
  },
  {
   "cell_type": "code",
   "execution_count": null,
   "metadata": {},
   "outputs": [],
   "source": []
  }
 ],
 "metadata": {
  "kernelspec": {
   "display_name": "Python 3",
   "language": "python",
   "name": "python3"
  },
  "language_info": {
   "codemirror_mode": {
    "name": "ipython",
    "version": 3
   },
   "file_extension": ".py",
   "mimetype": "text/x-python",
   "name": "python",
   "nbconvert_exporter": "python",
   "pygments_lexer": "ipython3",
   "version": "3.7.3"
  }
 },
 "nbformat": 4,
 "nbformat_minor": 4
}
